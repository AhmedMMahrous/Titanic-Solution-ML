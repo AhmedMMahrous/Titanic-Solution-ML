{
 "cells": [
  {
   "cell_type": "markdown",
   "metadata": {
    "_cell_guid": "b1076dfc-b9ad-4769-8c92-a6c4dae69d19",
    "_uuid": "8f2839f25d086af736a60e9eeb907d3b93b6e0e5",
    "papermill": {
     "duration": 0.070827,
     "end_time": "2021-06-07T10:56:38.380519",
     "exception": false,
     "start_time": "2021-06-07T10:56:38.309692",
     "status": "completed"
    },
    "tags": []
   },
   "source": [
    "# We will work on Exploring and Analyzing Data about Titanic passengers ,Then find solutions to predict People surviving this trip."
   ]
  },
  {
   "cell_type": "markdown",
   "metadata": {
    "papermill": {
     "duration": 0.0702,
     "end_time": "2021-06-07T10:56:38.520519",
     "exception": false,
     "start_time": "2021-06-07T10:56:38.450319",
     "status": "completed"
    },
    "tags": []
   },
   "source": [
    "# <img src=\"https://www.sayidaty.net/sites/default/files/imce/user168721/5765341-238860317.jpg\" alt=\"بعد 34 عاماً من اكتشاف حطام التايتنك.. إليكم القصة التي لم تروَ | مجلة سيدتي\" class=\"n3VNCb\" jsname=\"HiaYvf\" jsaction=\"load:XAeZkd;\" data-noaft=\"1\" style=\"width: 834px; height: 500.995px; margin: 0px;\">"
   ]
  },
  {
   "cell_type": "markdown",
   "metadata": {},
   "source": [
    "## This link is for data and describe it\n",
    "### https://www.kaggle.com/c/titanic/data"
   ]
  },
  {
   "cell_type": "markdown",
   "metadata": {
    "papermill": {
     "duration": 0.069422,
     "end_time": "2021-06-07T10:56:38.659473",
     "exception": false,
     "start_time": "2021-06-07T10:56:38.590051",
     "status": "completed"
    },
    "tags": []
   },
   "source": [
    "##    Prepar data for Analysis & Modelling"
   ]
  },
  {
   "cell_type": "code",
   "execution_count": 1,
   "metadata": {
    "execution": {
     "iopub.execute_input": "2021-06-07T10:56:38.812042Z",
     "iopub.status.busy": "2021-06-07T10:56:38.811291Z",
     "iopub.status.idle": "2021-06-07T10:56:41.059949Z",
     "shell.execute_reply": "2021-06-07T10:56:41.059112Z",
     "shell.execute_reply.started": "2021-06-06T10:25:00.390641Z"
    },
    "papermill": {
     "duration": 2.331297,
     "end_time": "2021-06-07T10:56:41.060153",
     "exception": false,
     "start_time": "2021-06-07T10:56:38.728856",
     "status": "completed"
    },
    "tags": []
   },
   "outputs": [],
   "source": [
    "# Importing libaraies\n",
    "\n",
    "import numpy as np  # linear algebra\n",
    "import pandas as pd  # data processing, CSV file I/O (e.g. pd.read_csv)\n",
    "import matplotlib.pyplot as plt\n",
    "import seaborn as sns\n",
    "import plotly.express as px\n",
    "import warnings\n",
    "warnings.filterwarnings(\"ignore\")"
   ]
  },
  {
   "cell_type": "code",
   "execution_count": 2,
   "metadata": {
    "execution": {
     "iopub.execute_input": "2021-06-07T10:56:41.206519Z",
     "iopub.status.busy": "2021-06-07T10:56:41.205058Z",
     "iopub.status.idle": "2021-06-07T10:56:41.239172Z",
     "shell.execute_reply": "2021-06-07T10:56:41.238345Z",
     "shell.execute_reply.started": "2021-06-06T10:26:00.792163Z"
    },
    "papermill": {
     "duration": 0.108683,
     "end_time": "2021-06-07T10:56:41.239320",
     "exception": false,
     "start_time": "2021-06-07T10:56:41.130637",
     "status": "completed"
    },
    "tags": []
   },
   "outputs": [],
   "source": [
    "### Importing the datasets\n",
    "train = pd.read_csv('../input/titanic/train.csv')\n",
    "test = pd.read_csv('../input/titanic/test.csv')"
   ]
  },
  {
   "cell_type": "code",
   "execution_count": 3,
   "metadata": {
    "execution": {
     "iopub.execute_input": "2021-06-07T10:56:41.391671Z",
     "iopub.status.busy": "2021-06-07T10:56:41.390976Z",
     "iopub.status.idle": "2021-06-07T10:56:41.415616Z",
     "shell.execute_reply": "2021-06-07T10:56:41.416136Z",
     "shell.execute_reply.started": "2021-06-06T10:26:14.135244Z"
    },
    "papermill": {
     "duration": 0.106625,
     "end_time": "2021-06-07T10:56:41.416320",
     "exception": false,
     "start_time": "2021-06-07T10:56:41.309695",
     "status": "completed"
    },
    "tags": []
   },
   "outputs": [
    {
     "data": {
      "text/html": [
       "<div>\n",
       "<style scoped>\n",
       "    .dataframe tbody tr th:only-of-type {\n",
       "        vertical-align: middle;\n",
       "    }\n",
       "\n",
       "    .dataframe tbody tr th {\n",
       "        vertical-align: top;\n",
       "    }\n",
       "\n",
       "    .dataframe thead th {\n",
       "        text-align: right;\n",
       "    }\n",
       "</style>\n",
       "<table border=\"1\" class=\"dataframe\">\n",
       "  <thead>\n",
       "    <tr style=\"text-align: right;\">\n",
       "      <th></th>\n",
       "      <th>PassengerId</th>\n",
       "      <th>Survived</th>\n",
       "      <th>Pclass</th>\n",
       "      <th>Name</th>\n",
       "      <th>Sex</th>\n",
       "      <th>Age</th>\n",
       "      <th>SibSp</th>\n",
       "      <th>Parch</th>\n",
       "      <th>Ticket</th>\n",
       "      <th>Fare</th>\n",
       "      <th>Cabin</th>\n",
       "      <th>Embarked</th>\n",
       "    </tr>\n",
       "  </thead>\n",
       "  <tbody>\n",
       "    <tr>\n",
       "      <th>0</th>\n",
       "      <td>1</td>\n",
       "      <td>0</td>\n",
       "      <td>3</td>\n",
       "      <td>Braund, Mr. Owen Harris</td>\n",
       "      <td>male</td>\n",
       "      <td>22.0</td>\n",
       "      <td>1</td>\n",
       "      <td>0</td>\n",
       "      <td>A/5 21171</td>\n",
       "      <td>7.2500</td>\n",
       "      <td>NaN</td>\n",
       "      <td>S</td>\n",
       "    </tr>\n",
       "    <tr>\n",
       "      <th>1</th>\n",
       "      <td>2</td>\n",
       "      <td>1</td>\n",
       "      <td>1</td>\n",
       "      <td>Cumings, Mrs. John Bradley (Florence Briggs Th...</td>\n",
       "      <td>female</td>\n",
       "      <td>38.0</td>\n",
       "      <td>1</td>\n",
       "      <td>0</td>\n",
       "      <td>PC 17599</td>\n",
       "      <td>71.2833</td>\n",
       "      <td>C85</td>\n",
       "      <td>C</td>\n",
       "    </tr>\n",
       "    <tr>\n",
       "      <th>2</th>\n",
       "      <td>3</td>\n",
       "      <td>1</td>\n",
       "      <td>3</td>\n",
       "      <td>Heikkinen, Miss. Laina</td>\n",
       "      <td>female</td>\n",
       "      <td>26.0</td>\n",
       "      <td>0</td>\n",
       "      <td>0</td>\n",
       "      <td>STON/O2. 3101282</td>\n",
       "      <td>7.9250</td>\n",
       "      <td>NaN</td>\n",
       "      <td>S</td>\n",
       "    </tr>\n",
       "    <tr>\n",
       "      <th>3</th>\n",
       "      <td>4</td>\n",
       "      <td>1</td>\n",
       "      <td>1</td>\n",
       "      <td>Futrelle, Mrs. Jacques Heath (Lily May Peel)</td>\n",
       "      <td>female</td>\n",
       "      <td>35.0</td>\n",
       "      <td>1</td>\n",
       "      <td>0</td>\n",
       "      <td>113803</td>\n",
       "      <td>53.1000</td>\n",
       "      <td>C123</td>\n",
       "      <td>S</td>\n",
       "    </tr>\n",
       "    <tr>\n",
       "      <th>4</th>\n",
       "      <td>5</td>\n",
       "      <td>0</td>\n",
       "      <td>3</td>\n",
       "      <td>Allen, Mr. William Henry</td>\n",
       "      <td>male</td>\n",
       "      <td>35.0</td>\n",
       "      <td>0</td>\n",
       "      <td>0</td>\n",
       "      <td>373450</td>\n",
       "      <td>8.0500</td>\n",
       "      <td>NaN</td>\n",
       "      <td>S</td>\n",
       "    </tr>\n",
       "  </tbody>\n",
       "</table>\n",
       "</div>"
      ],
      "text/plain": [
       "   PassengerId  Survived  Pclass  \\\n",
       "0            1         0       3   \n",
       "1            2         1       1   \n",
       "2            3         1       3   \n",
       "3            4         1       1   \n",
       "4            5         0       3   \n",
       "\n",
       "                                                Name     Sex   Age  SibSp  \\\n",
       "0                            Braund, Mr. Owen Harris    male  22.0      1   \n",
       "1  Cumings, Mrs. John Bradley (Florence Briggs Th...  female  38.0      1   \n",
       "2                             Heikkinen, Miss. Laina  female  26.0      0   \n",
       "3       Futrelle, Mrs. Jacques Heath (Lily May Peel)  female  35.0      1   \n",
       "4                           Allen, Mr. William Henry    male  35.0      0   \n",
       "\n",
       "   Parch            Ticket     Fare Cabin Embarked  \n",
       "0      0         A/5 21171   7.2500   NaN        S  \n",
       "1      0          PC 17599  71.2833   C85        C  \n",
       "2      0  STON/O2. 3101282   7.9250   NaN        S  \n",
       "3      0            113803  53.1000  C123        S  \n",
       "4      0            373450   8.0500   NaN        S  "
      ]
     },
     "execution_count": 3,
     "metadata": {},
     "output_type": "execute_result"
    }
   ],
   "source": [
    "train.head()"
   ]
  },
  {
   "cell_type": "code",
   "execution_count": 4,
   "metadata": {
    "execution": {
     "iopub.execute_input": "2021-06-07T10:56:41.561684Z",
     "iopub.status.busy": "2021-06-07T10:56:41.561066Z",
     "iopub.status.idle": "2021-06-07T10:56:41.576255Z",
     "shell.execute_reply": "2021-06-07T10:56:41.576855Z",
     "shell.execute_reply.started": "2021-06-06T10:26:25.912166Z"
    },
    "papermill": {
     "duration": 0.089153,
     "end_time": "2021-06-07T10:56:41.577036",
     "exception": false,
     "start_time": "2021-06-07T10:56:41.487883",
     "status": "completed"
    },
    "tags": []
   },
   "outputs": [
    {
     "data": {
      "text/html": [
       "<div>\n",
       "<style scoped>\n",
       "    .dataframe tbody tr th:only-of-type {\n",
       "        vertical-align: middle;\n",
       "    }\n",
       "\n",
       "    .dataframe tbody tr th {\n",
       "        vertical-align: top;\n",
       "    }\n",
       "\n",
       "    .dataframe thead th {\n",
       "        text-align: right;\n",
       "    }\n",
       "</style>\n",
       "<table border=\"1\" class=\"dataframe\">\n",
       "  <thead>\n",
       "    <tr style=\"text-align: right;\">\n",
       "      <th></th>\n",
       "      <th>PassengerId</th>\n",
       "      <th>Pclass</th>\n",
       "      <th>Name</th>\n",
       "      <th>Sex</th>\n",
       "      <th>Age</th>\n",
       "      <th>SibSp</th>\n",
       "      <th>Parch</th>\n",
       "      <th>Ticket</th>\n",
       "      <th>Fare</th>\n",
       "      <th>Cabin</th>\n",
       "      <th>Embarked</th>\n",
       "    </tr>\n",
       "  </thead>\n",
       "  <tbody>\n",
       "    <tr>\n",
       "      <th>0</th>\n",
       "      <td>892</td>\n",
       "      <td>3</td>\n",
       "      <td>Kelly, Mr. James</td>\n",
       "      <td>male</td>\n",
       "      <td>34.5</td>\n",
       "      <td>0</td>\n",
       "      <td>0</td>\n",
       "      <td>330911</td>\n",
       "      <td>7.8292</td>\n",
       "      <td>NaN</td>\n",
       "      <td>Q</td>\n",
       "    </tr>\n",
       "    <tr>\n",
       "      <th>1</th>\n",
       "      <td>893</td>\n",
       "      <td>3</td>\n",
       "      <td>Wilkes, Mrs. James (Ellen Needs)</td>\n",
       "      <td>female</td>\n",
       "      <td>47.0</td>\n",
       "      <td>1</td>\n",
       "      <td>0</td>\n",
       "      <td>363272</td>\n",
       "      <td>7.0000</td>\n",
       "      <td>NaN</td>\n",
       "      <td>S</td>\n",
       "    </tr>\n",
       "    <tr>\n",
       "      <th>2</th>\n",
       "      <td>894</td>\n",
       "      <td>2</td>\n",
       "      <td>Myles, Mr. Thomas Francis</td>\n",
       "      <td>male</td>\n",
       "      <td>62.0</td>\n",
       "      <td>0</td>\n",
       "      <td>0</td>\n",
       "      <td>240276</td>\n",
       "      <td>9.6875</td>\n",
       "      <td>NaN</td>\n",
       "      <td>Q</td>\n",
       "    </tr>\n",
       "    <tr>\n",
       "      <th>3</th>\n",
       "      <td>895</td>\n",
       "      <td>3</td>\n",
       "      <td>Wirz, Mr. Albert</td>\n",
       "      <td>male</td>\n",
       "      <td>27.0</td>\n",
       "      <td>0</td>\n",
       "      <td>0</td>\n",
       "      <td>315154</td>\n",
       "      <td>8.6625</td>\n",
       "      <td>NaN</td>\n",
       "      <td>S</td>\n",
       "    </tr>\n",
       "    <tr>\n",
       "      <th>4</th>\n",
       "      <td>896</td>\n",
       "      <td>3</td>\n",
       "      <td>Hirvonen, Mrs. Alexander (Helga E Lindqvist)</td>\n",
       "      <td>female</td>\n",
       "      <td>22.0</td>\n",
       "      <td>1</td>\n",
       "      <td>1</td>\n",
       "      <td>3101298</td>\n",
       "      <td>12.2875</td>\n",
       "      <td>NaN</td>\n",
       "      <td>S</td>\n",
       "    </tr>\n",
       "  </tbody>\n",
       "</table>\n",
       "</div>"
      ],
      "text/plain": [
       "   PassengerId  Pclass                                          Name     Sex  \\\n",
       "0          892       3                              Kelly, Mr. James    male   \n",
       "1          893       3              Wilkes, Mrs. James (Ellen Needs)  female   \n",
       "2          894       2                     Myles, Mr. Thomas Francis    male   \n",
       "3          895       3                              Wirz, Mr. Albert    male   \n",
       "4          896       3  Hirvonen, Mrs. Alexander (Helga E Lindqvist)  female   \n",
       "\n",
       "    Age  SibSp  Parch   Ticket     Fare Cabin Embarked  \n",
       "0  34.5      0      0   330911   7.8292   NaN        Q  \n",
       "1  47.0      1      0   363272   7.0000   NaN        S  \n",
       "2  62.0      0      0   240276   9.6875   NaN        Q  \n",
       "3  27.0      0      0   315154   8.6625   NaN        S  \n",
       "4  22.0      1      1  3101298  12.2875   NaN        S  "
      ]
     },
     "execution_count": 4,
     "metadata": {},
     "output_type": "execute_result"
    }
   ],
   "source": [
    "test.head()"
   ]
  },
  {
   "cell_type": "code",
   "execution_count": 5,
   "metadata": {
    "execution": {
     "iopub.execute_input": "2021-06-07T10:56:41.736974Z",
     "iopub.status.busy": "2021-06-07T10:56:41.736259Z",
     "iopub.status.idle": "2021-06-07T10:56:41.740927Z",
     "shell.execute_reply": "2021-06-07T10:56:41.740423Z",
     "shell.execute_reply.started": "2021-06-06T10:26:39.694308Z"
    },
    "papermill": {
     "duration": 0.092863,
     "end_time": "2021-06-07T10:56:41.741071",
     "exception": false,
     "start_time": "2021-06-07T10:56:41.648208",
     "status": "completed"
    },
    "tags": []
   },
   "outputs": [
    {
     "data": {
      "text/html": [
       "<div>\n",
       "<style scoped>\n",
       "    .dataframe tbody tr th:only-of-type {\n",
       "        vertical-align: middle;\n",
       "    }\n",
       "\n",
       "    .dataframe tbody tr th {\n",
       "        vertical-align: top;\n",
       "    }\n",
       "\n",
       "    .dataframe thead th {\n",
       "        text-align: right;\n",
       "    }\n",
       "</style>\n",
       "<table border=\"1\" class=\"dataframe\">\n",
       "  <thead>\n",
       "    <tr style=\"text-align: right;\">\n",
       "      <th></th>\n",
       "      <th>PassengerId</th>\n",
       "      <th>Survived</th>\n",
       "      <th>Pclass</th>\n",
       "      <th>Name</th>\n",
       "      <th>Sex</th>\n",
       "      <th>Age</th>\n",
       "      <th>SibSp</th>\n",
       "      <th>Parch</th>\n",
       "      <th>Ticket</th>\n",
       "      <th>Fare</th>\n",
       "      <th>Cabin</th>\n",
       "      <th>Embarked</th>\n",
       "    </tr>\n",
       "  </thead>\n",
       "  <tbody>\n",
       "    <tr>\n",
       "      <th>886</th>\n",
       "      <td>887</td>\n",
       "      <td>0</td>\n",
       "      <td>2</td>\n",
       "      <td>Montvila, Rev. Juozas</td>\n",
       "      <td>male</td>\n",
       "      <td>27.0</td>\n",
       "      <td>0</td>\n",
       "      <td>0</td>\n",
       "      <td>211536</td>\n",
       "      <td>13.00</td>\n",
       "      <td>NaN</td>\n",
       "      <td>S</td>\n",
       "    </tr>\n",
       "    <tr>\n",
       "      <th>887</th>\n",
       "      <td>888</td>\n",
       "      <td>1</td>\n",
       "      <td>1</td>\n",
       "      <td>Graham, Miss. Margaret Edith</td>\n",
       "      <td>female</td>\n",
       "      <td>19.0</td>\n",
       "      <td>0</td>\n",
       "      <td>0</td>\n",
       "      <td>112053</td>\n",
       "      <td>30.00</td>\n",
       "      <td>B42</td>\n",
       "      <td>S</td>\n",
       "    </tr>\n",
       "    <tr>\n",
       "      <th>888</th>\n",
       "      <td>889</td>\n",
       "      <td>0</td>\n",
       "      <td>3</td>\n",
       "      <td>Johnston, Miss. Catherine Helen \"Carrie\"</td>\n",
       "      <td>female</td>\n",
       "      <td>NaN</td>\n",
       "      <td>1</td>\n",
       "      <td>2</td>\n",
       "      <td>W./C. 6607</td>\n",
       "      <td>23.45</td>\n",
       "      <td>NaN</td>\n",
       "      <td>S</td>\n",
       "    </tr>\n",
       "    <tr>\n",
       "      <th>889</th>\n",
       "      <td>890</td>\n",
       "      <td>1</td>\n",
       "      <td>1</td>\n",
       "      <td>Behr, Mr. Karl Howell</td>\n",
       "      <td>male</td>\n",
       "      <td>26.0</td>\n",
       "      <td>0</td>\n",
       "      <td>0</td>\n",
       "      <td>111369</td>\n",
       "      <td>30.00</td>\n",
       "      <td>C148</td>\n",
       "      <td>C</td>\n",
       "    </tr>\n",
       "    <tr>\n",
       "      <th>890</th>\n",
       "      <td>891</td>\n",
       "      <td>0</td>\n",
       "      <td>3</td>\n",
       "      <td>Dooley, Mr. Patrick</td>\n",
       "      <td>male</td>\n",
       "      <td>32.0</td>\n",
       "      <td>0</td>\n",
       "      <td>0</td>\n",
       "      <td>370376</td>\n",
       "      <td>7.75</td>\n",
       "      <td>NaN</td>\n",
       "      <td>Q</td>\n",
       "    </tr>\n",
       "  </tbody>\n",
       "</table>\n",
       "</div>"
      ],
      "text/plain": [
       "     PassengerId  Survived  Pclass                                      Name  \\\n",
       "886          887         0       2                     Montvila, Rev. Juozas   \n",
       "887          888         1       1              Graham, Miss. Margaret Edith   \n",
       "888          889         0       3  Johnston, Miss. Catherine Helen \"Carrie\"   \n",
       "889          890         1       1                     Behr, Mr. Karl Howell   \n",
       "890          891         0       3                       Dooley, Mr. Patrick   \n",
       "\n",
       "        Sex   Age  SibSp  Parch      Ticket   Fare Cabin Embarked  \n",
       "886    male  27.0      0      0      211536  13.00   NaN        S  \n",
       "887  female  19.0      0      0      112053  30.00   B42        S  \n",
       "888  female   NaN      1      2  W./C. 6607  23.45   NaN        S  \n",
       "889    male  26.0      0      0      111369  30.00  C148        C  \n",
       "890    male  32.0      0      0      370376   7.75   NaN        Q  "
      ]
     },
     "execution_count": 5,
     "metadata": {},
     "output_type": "execute_result"
    }
   ],
   "source": [
    "train.tail()"
   ]
  },
  {
   "cell_type": "code",
   "execution_count": 6,
   "metadata": {
    "execution": {
     "iopub.execute_input": "2021-06-07T10:56:41.902639Z",
     "iopub.status.busy": "2021-06-07T10:56:41.901554Z",
     "iopub.status.idle": "2021-06-07T10:56:41.906475Z",
     "shell.execute_reply": "2021-06-07T10:56:41.905951Z",
     "shell.execute_reply.started": "2021-06-06T10:27:00.207432Z"
    },
    "papermill": {
     "duration": 0.093045,
     "end_time": "2021-06-07T10:56:41.906628",
     "exception": false,
     "start_time": "2021-06-07T10:56:41.813583",
     "status": "completed"
    },
    "tags": []
   },
   "outputs": [
    {
     "data": {
      "text/html": [
       "<div>\n",
       "<style scoped>\n",
       "    .dataframe tbody tr th:only-of-type {\n",
       "        vertical-align: middle;\n",
       "    }\n",
       "\n",
       "    .dataframe tbody tr th {\n",
       "        vertical-align: top;\n",
       "    }\n",
       "\n",
       "    .dataframe thead th {\n",
       "        text-align: right;\n",
       "    }\n",
       "</style>\n",
       "<table border=\"1\" class=\"dataframe\">\n",
       "  <thead>\n",
       "    <tr style=\"text-align: right;\">\n",
       "      <th></th>\n",
       "      <th>PassengerId</th>\n",
       "      <th>Pclass</th>\n",
       "      <th>Name</th>\n",
       "      <th>Sex</th>\n",
       "      <th>Age</th>\n",
       "      <th>SibSp</th>\n",
       "      <th>Parch</th>\n",
       "      <th>Ticket</th>\n",
       "      <th>Fare</th>\n",
       "      <th>Cabin</th>\n",
       "      <th>Embarked</th>\n",
       "    </tr>\n",
       "  </thead>\n",
       "  <tbody>\n",
       "    <tr>\n",
       "      <th>413</th>\n",
       "      <td>1305</td>\n",
       "      <td>3</td>\n",
       "      <td>Spector, Mr. Woolf</td>\n",
       "      <td>male</td>\n",
       "      <td>NaN</td>\n",
       "      <td>0</td>\n",
       "      <td>0</td>\n",
       "      <td>A.5. 3236</td>\n",
       "      <td>8.0500</td>\n",
       "      <td>NaN</td>\n",
       "      <td>S</td>\n",
       "    </tr>\n",
       "    <tr>\n",
       "      <th>414</th>\n",
       "      <td>1306</td>\n",
       "      <td>1</td>\n",
       "      <td>Oliva y Ocana, Dona. Fermina</td>\n",
       "      <td>female</td>\n",
       "      <td>39.0</td>\n",
       "      <td>0</td>\n",
       "      <td>0</td>\n",
       "      <td>PC 17758</td>\n",
       "      <td>108.9000</td>\n",
       "      <td>C105</td>\n",
       "      <td>C</td>\n",
       "    </tr>\n",
       "    <tr>\n",
       "      <th>415</th>\n",
       "      <td>1307</td>\n",
       "      <td>3</td>\n",
       "      <td>Saether, Mr. Simon Sivertsen</td>\n",
       "      <td>male</td>\n",
       "      <td>38.5</td>\n",
       "      <td>0</td>\n",
       "      <td>0</td>\n",
       "      <td>SOTON/O.Q. 3101262</td>\n",
       "      <td>7.2500</td>\n",
       "      <td>NaN</td>\n",
       "      <td>S</td>\n",
       "    </tr>\n",
       "    <tr>\n",
       "      <th>416</th>\n",
       "      <td>1308</td>\n",
       "      <td>3</td>\n",
       "      <td>Ware, Mr. Frederick</td>\n",
       "      <td>male</td>\n",
       "      <td>NaN</td>\n",
       "      <td>0</td>\n",
       "      <td>0</td>\n",
       "      <td>359309</td>\n",
       "      <td>8.0500</td>\n",
       "      <td>NaN</td>\n",
       "      <td>S</td>\n",
       "    </tr>\n",
       "    <tr>\n",
       "      <th>417</th>\n",
       "      <td>1309</td>\n",
       "      <td>3</td>\n",
       "      <td>Peter, Master. Michael J</td>\n",
       "      <td>male</td>\n",
       "      <td>NaN</td>\n",
       "      <td>1</td>\n",
       "      <td>1</td>\n",
       "      <td>2668</td>\n",
       "      <td>22.3583</td>\n",
       "      <td>NaN</td>\n",
       "      <td>C</td>\n",
       "    </tr>\n",
       "  </tbody>\n",
       "</table>\n",
       "</div>"
      ],
      "text/plain": [
       "     PassengerId  Pclass                          Name     Sex   Age  SibSp  \\\n",
       "413         1305       3            Spector, Mr. Woolf    male   NaN      0   \n",
       "414         1306       1  Oliva y Ocana, Dona. Fermina  female  39.0      0   \n",
       "415         1307       3  Saether, Mr. Simon Sivertsen    male  38.5      0   \n",
       "416         1308       3           Ware, Mr. Frederick    male   NaN      0   \n",
       "417         1309       3      Peter, Master. Michael J    male   NaN      1   \n",
       "\n",
       "     Parch              Ticket      Fare Cabin Embarked  \n",
       "413      0           A.5. 3236    8.0500   NaN        S  \n",
       "414      0            PC 17758  108.9000  C105        C  \n",
       "415      0  SOTON/O.Q. 3101262    7.2500   NaN        S  \n",
       "416      0              359309    8.0500   NaN        S  \n",
       "417      1                2668   22.3583   NaN        C  "
      ]
     },
     "execution_count": 6,
     "metadata": {},
     "output_type": "execute_result"
    }
   ],
   "source": [
    "test.tail()"
   ]
  },
  {
   "cell_type": "code",
   "execution_count": 7,
   "metadata": {
    "execution": {
     "iopub.execute_input": "2021-06-07T10:56:42.058060Z",
     "iopub.status.busy": "2021-06-07T10:56:42.057300Z",
     "iopub.status.idle": "2021-06-07T10:56:42.061531Z",
     "shell.execute_reply": "2021-06-07T10:56:42.060949Z",
     "shell.execute_reply.started": "2021-06-06T10:27:18.661046Z"
    },
    "papermill": {
     "duration": 0.081438,
     "end_time": "2021-06-07T10:56:42.061672",
     "exception": false,
     "start_time": "2021-06-07T10:56:41.980234",
     "status": "completed"
    },
    "tags": []
   },
   "outputs": [
    {
     "name": "stdout",
     "output_type": "stream",
     "text": [
      "(891, 12)\n",
      "--------------------------------------------------\n",
      "(418, 11)\n"
     ]
    }
   ],
   "source": [
    "print(train.shape)\n",
    "print('-'*50)\n",
    "print(test.shape)"
   ]
  },
  {
   "cell_type": "markdown",
   "metadata": {
    "papermill": {
     "duration": 0.072066,
     "end_time": "2021-06-07T10:56:42.207411",
     "exception": false,
     "start_time": "2021-06-07T10:56:42.135345",
     "status": "completed"
    },
    "tags": []
   },
   "source": [
    "**DataFrame.describe() method generates descriptive statistics that summarize the central tendency, dispersion and shape of a dataset’s distribution, excluding NaN values. This method tells us a lot of things about a dataset. One important thing is that the describe() method deals only with numeric values. It doesn't work with any categorical values. So if there are any categorical values in a column the describe() method will ignore it and display summary for the other columns unless parameter include=\"all\" is passed.\n",
    "Now, let's understand the statistics that are generated by the describe() method:\n",
    "count tells us the number of NoN-empty rows in a feature.\n",
    "mean tells us the mean value of that feature.\n",
    "std tells us the Standard Deviation Value of that feature.\n",
    "min tells us the minimum value of that feature.\n",
    "25%, 50%, and 75% are the percentile/quartile of each features. This quartile information helps us to detect Outliers.\n",
    "max tells us the maximum value of that feature.****"
   ]
  },
  {
   "cell_type": "code",
   "execution_count": 8,
   "metadata": {
    "execution": {
     "iopub.execute_input": "2021-06-07T10:56:42.363068Z",
     "iopub.status.busy": "2021-06-07T10:56:42.362406Z",
     "iopub.status.idle": "2021-06-07T10:56:42.409566Z",
     "shell.execute_reply": "2021-06-07T10:56:42.408830Z",
     "shell.execute_reply.started": "2021-06-06T10:29:09.009523Z"
    },
    "papermill": {
     "duration": 0.129894,
     "end_time": "2021-06-07T10:56:42.409765",
     "exception": false,
     "start_time": "2021-06-07T10:56:42.279871",
     "status": "completed"
    },
    "tags": []
   },
   "outputs": [
    {
     "name": "stdout",
     "output_type": "stream",
     "text": [
      "train.describe        PassengerId    Survived      Pclass         Age       SibSp  \\\n",
      "count   891.000000  891.000000  891.000000  714.000000  891.000000   \n",
      "mean    446.000000    0.383838    2.308642   29.699118    0.523008   \n",
      "std     257.353842    0.486592    0.836071   14.526497    1.102743   \n",
      "min       1.000000    0.000000    1.000000    0.420000    0.000000   \n",
      "25%     223.500000    0.000000    2.000000   20.125000    0.000000   \n",
      "50%     446.000000    0.000000    3.000000   28.000000    0.000000   \n",
      "75%     668.500000    1.000000    3.000000   38.000000    1.000000   \n",
      "max     891.000000    1.000000    3.000000   80.000000    8.000000   \n",
      "\n",
      "            Parch        Fare  \n",
      "count  891.000000  891.000000  \n",
      "mean     0.381594   32.204208  \n",
      "std      0.806057   49.693429  \n",
      "min      0.000000    0.000000  \n",
      "25%      0.000000    7.910400  \n",
      "50%      0.000000   14.454200  \n",
      "75%      0.000000   31.000000  \n",
      "max      6.000000  512.329200  \n",
      "--------------------------------------------------------------------------------\n",
      "test.describe        PassengerId      Pclass         Age       SibSp       Parch        Fare\n",
      "count   418.000000  418.000000  332.000000  418.000000  418.000000  417.000000\n",
      "mean   1100.500000    2.265550   30.272590    0.447368    0.392344   35.627188\n",
      "std     120.810458    0.841838   14.181209    0.896760    0.981429   55.907576\n",
      "min     892.000000    1.000000    0.170000    0.000000    0.000000    0.000000\n",
      "25%     996.250000    1.000000   21.000000    0.000000    0.000000    7.895800\n",
      "50%    1100.500000    3.000000   27.000000    0.000000    0.000000   14.454200\n",
      "75%    1204.750000    3.000000   39.000000    1.000000    0.000000   31.500000\n",
      "max    1309.000000    3.000000   76.000000    8.000000    9.000000  512.329200\n"
     ]
    }
   ],
   "source": [
    "print('train.describe' ,train.describe()) \n",
    "print('-'*80)\n",
    "print('test.describe' ,test.describe()) "
   ]
  },
  {
   "cell_type": "markdown",
   "metadata": {
    "papermill": {
     "duration": 0.071832,
     "end_time": "2021-06-07T10:56:42.554675",
     "exception": false,
     "start_time": "2021-06-07T10:56:42.482843",
     "status": "completed"
    },
    "tags": []
   },
   "source": [
    "##   cleaning data"
   ]
  },
  {
   "cell_type": "code",
   "execution_count": 9,
   "metadata": {
    "execution": {
     "iopub.execute_input": "2021-06-07T10:56:42.709004Z",
     "iopub.status.busy": "2021-06-07T10:56:42.707245Z",
     "iopub.status.idle": "2021-06-07T10:56:42.713905Z",
     "shell.execute_reply": "2021-06-07T10:56:42.713098Z",
     "shell.execute_reply.started": "2021-06-06T10:30:19.902003Z"
    },
    "papermill": {
     "duration": 0.085748,
     "end_time": "2021-06-07T10:56:42.714130",
     "exception": false,
     "start_time": "2021-06-07T10:56:42.628382",
     "status": "completed"
    },
    "tags": []
   },
   "outputs": [
    {
     "name": "stdout",
     "output_type": "stream",
     "text": [
      "PassengerId      int64\n",
      "Survived         int64\n",
      "Pclass           int64\n",
      "Name            object\n",
      "Sex             object\n",
      "Age            float64\n",
      "SibSp            int64\n",
      "Parch            int64\n",
      "Ticket          object\n",
      "Fare           float64\n",
      "Cabin           object\n",
      "Embarked        object\n",
      "dtype: object\n",
      "--------------------------------------------------------------------------------\n",
      "PassengerId      int64\n",
      "Pclass           int64\n",
      "Name            object\n",
      "Sex             object\n",
      "Age            float64\n",
      "SibSp            int64\n",
      "Parch            int64\n",
      "Ticket          object\n",
      "Fare           float64\n",
      "Cabin           object\n",
      "Embarked        object\n",
      "dtype: object\n"
     ]
    }
   ],
   "source": [
    "print(train.dtypes)\n",
    "print('-'*80)\n",
    "print(test.dtypes)"
   ]
  },
  {
   "cell_type": "code",
   "execution_count": 10,
   "metadata": {
    "execution": {
     "iopub.execute_input": "2021-06-07T10:56:42.870027Z",
     "iopub.status.busy": "2021-06-07T10:56:42.867615Z",
     "iopub.status.idle": "2021-06-07T10:56:42.874568Z",
     "shell.execute_reply": "2021-06-07T10:56:42.874001Z",
     "shell.execute_reply.started": "2021-06-06T10:30:32.487624Z"
    },
    "papermill": {
     "duration": 0.087008,
     "end_time": "2021-06-07T10:56:42.874726",
     "exception": false,
     "start_time": "2021-06-07T10:56:42.787718",
     "status": "completed"
    },
    "tags": []
   },
   "outputs": [],
   "source": [
    "data = pd.concat([train, test],axis=0,sort=False)"
   ]
  },
  {
   "cell_type": "code",
   "execution_count": 11,
   "metadata": {
    "execution": {
     "iopub.execute_input": "2021-06-07T10:56:43.030663Z",
     "iopub.status.busy": "2021-06-07T10:56:43.029720Z",
     "iopub.status.idle": "2021-06-07T10:56:43.034006Z",
     "shell.execute_reply": "2021-06-07T10:56:43.033481Z",
     "shell.execute_reply.started": "2021-06-06T10:30:42.181518Z"
    },
    "papermill": {
     "duration": 0.085152,
     "end_time": "2021-06-07T10:56:43.034164",
     "exception": false,
     "start_time": "2021-06-07T10:56:42.949012",
     "status": "completed"
    },
    "tags": []
   },
   "outputs": [
    {
     "data": {
      "text/plain": [
       "(1309, 12)"
      ]
     },
     "execution_count": 11,
     "metadata": {},
     "output_type": "execute_result"
    }
   ],
   "source": [
    "data.shape"
   ]
  },
  {
   "cell_type": "code",
   "execution_count": 12,
   "metadata": {
    "execution": {
     "iopub.execute_input": "2021-06-07T10:56:43.187874Z",
     "iopub.status.busy": "2021-06-07T10:56:43.187052Z",
     "iopub.status.idle": "2021-06-07T10:56:43.204272Z",
     "shell.execute_reply": "2021-06-07T10:56:43.203689Z",
     "shell.execute_reply.started": "2021-06-06T10:30:53.86223Z"
    },
    "papermill": {
     "duration": 0.097148,
     "end_time": "2021-06-07T10:56:43.204422",
     "exception": false,
     "start_time": "2021-06-07T10:56:43.107274",
     "status": "completed"
    },
    "tags": []
   },
   "outputs": [
    {
     "name": "stdout",
     "output_type": "stream",
     "text": [
      "<class 'pandas.core.frame.DataFrame'>\n",
      "Int64Index: 1309 entries, 0 to 417\n",
      "Data columns (total 12 columns):\n",
      " #   Column       Non-Null Count  Dtype  \n",
      "---  ------       --------------  -----  \n",
      " 0   PassengerId  1309 non-null   int64  \n",
      " 1   Survived     891 non-null    float64\n",
      " 2   Pclass       1309 non-null   int64  \n",
      " 3   Name         1309 non-null   object \n",
      " 4   Sex          1309 non-null   object \n",
      " 5   Age          1046 non-null   float64\n",
      " 6   SibSp        1309 non-null   int64  \n",
      " 7   Parch        1309 non-null   int64  \n",
      " 8   Ticket       1309 non-null   object \n",
      " 9   Fare         1308 non-null   float64\n",
      " 10  Cabin        295 non-null    object \n",
      " 11  Embarked     1307 non-null   object \n",
      "dtypes: float64(3), int64(4), object(5)\n",
      "memory usage: 132.9+ KB\n"
     ]
    }
   ],
   "source": [
    "data.info()"
   ]
  },
  {
   "cell_type": "markdown",
   "metadata": {
    "papermill": {
     "duration": 0.073042,
     "end_time": "2021-06-07T10:56:43.351318",
     "exception": false,
     "start_time": "2021-06-07T10:56:43.278276",
     "status": "completed"
    },
    "tags": []
   },
   "source": [
    "#### Let's drop the PassengerId column. PassengerId column is seems to be an unique identifier for each row so we are dropping that it won't help us to find any insights from the data"
   ]
  },
  {
   "cell_type": "code",
   "execution_count": 13,
   "metadata": {
    "execution": {
     "iopub.execute_input": "2021-06-07T10:56:43.507871Z",
     "iopub.status.busy": "2021-06-07T10:56:43.506849Z",
     "iopub.status.idle": "2021-06-07T10:56:43.511419Z",
     "shell.execute_reply": "2021-06-07T10:56:43.510771Z",
     "shell.execute_reply.started": "2021-06-06T10:31:25.376646Z"
    },
    "papermill": {
     "duration": 0.086351,
     "end_time": "2021-06-07T10:56:43.511563",
     "exception": false,
     "start_time": "2021-06-07T10:56:43.425212",
     "status": "completed"
    },
    "tags": []
   },
   "outputs": [],
   "source": [
    "data.drop([\"PassengerId\"],axis=1,inplace=True) "
   ]
  },
  {
   "cell_type": "markdown",
   "metadata": {
    "execution": {
     "iopub.execute_input": "2021-06-06T10:31:57.010593Z",
     "iopub.status.busy": "2021-06-06T10:31:57.010306Z",
     "iopub.status.idle": "2021-06-06T10:31:57.090031Z",
     "shell.execute_reply": "2021-06-06T10:31:57.088766Z",
     "shell.execute_reply.started": "2021-06-06T10:31:57.010571Z"
    },
    "papermill": {
     "duration": 0.073782,
     "end_time": "2021-06-07T10:56:43.659405",
     "exception": false,
     "start_time": "2021-06-07T10:56:43.585623",
     "status": "completed"
    },
    "tags": []
   },
   "source": [
    "##   Cleaning missing values "
   ]
  },
  {
   "cell_type": "code",
   "execution_count": 14,
   "metadata": {
    "execution": {
     "iopub.execute_input": "2021-06-07T10:56:43.815345Z",
     "iopub.status.busy": "2021-06-07T10:56:43.814222Z",
     "iopub.status.idle": "2021-06-07T10:56:43.819754Z",
     "shell.execute_reply": "2021-06-07T10:56:43.819192Z",
     "shell.execute_reply.started": "2021-06-06T10:33:07.601692Z"
    },
    "papermill": {
     "duration": 0.086029,
     "end_time": "2021-06-07T10:56:43.819912",
     "exception": false,
     "start_time": "2021-06-07T10:56:43.733883",
     "status": "completed"
    },
    "tags": []
   },
   "outputs": [
    {
     "name": "stdout",
     "output_type": "stream",
     "text": [
      "Cabin       1014\n",
      "Survived     418\n",
      "Age          263\n",
      "Embarked       2\n",
      "Fare           1\n",
      "Pclass         0\n",
      "Name           0\n",
      "Sex            0\n",
      "SibSp          0\n",
      "Parch          0\n",
      "Ticket         0\n",
      "dtype: int64\n"
     ]
    }
   ],
   "source": [
    "print(data.isna().sum().sort_values(ascending=False))"
   ]
  },
  {
   "cell_type": "markdown",
   "metadata": {
    "papermill": {
     "duration": 0.074076,
     "end_time": "2021-06-07T10:56:43.970646",
     "exception": false,
     "start_time": "2021-06-07T10:56:43.896570",
     "status": "completed"
    },
    "tags": []
   },
   "source": [
    "#### I will drop Cabin column because it has above 70% of missing values "
   ]
  },
  {
   "cell_type": "code",
   "execution_count": 15,
   "metadata": {
    "execution": {
     "iopub.execute_input": "2021-06-07T10:56:44.129423Z",
     "iopub.status.busy": "2021-06-07T10:56:44.128617Z",
     "iopub.status.idle": "2021-06-07T10:56:44.131633Z",
     "shell.execute_reply": "2021-06-07T10:56:44.131067Z",
     "shell.execute_reply.started": "2021-06-06T10:34:01.229844Z"
    },
    "papermill": {
     "duration": 0.083988,
     "end_time": "2021-06-07T10:56:44.131786",
     "exception": false,
     "start_time": "2021-06-07T10:56:44.047798",
     "status": "completed"
    },
    "tags": []
   },
   "outputs": [],
   "source": [
    "data.drop([\"Cabin\"],axis=1,inplace=True) "
   ]
  },
  {
   "cell_type": "markdown",
   "metadata": {
    "papermill": {
     "duration": 0.074504,
     "end_time": "2021-06-07T10:56:44.281321",
     "exception": false,
     "start_time": "2021-06-07T10:56:44.206817",
     "status": "completed"
    },
    "tags": []
   },
   "source": [
    "### Extract Numerical & Categorical Features"
   ]
  },
  {
   "cell_type": "code",
   "execution_count": 16,
   "metadata": {
    "execution": {
     "iopub.execute_input": "2021-06-07T10:56:44.438975Z",
     "iopub.status.busy": "2021-06-07T10:56:44.437961Z",
     "iopub.status.idle": "2021-06-07T10:56:44.442235Z",
     "shell.execute_reply": "2021-06-07T10:56:44.441736Z",
     "shell.execute_reply.started": "2021-06-06T10:34:31.383767Z"
    },
    "papermill": {
     "duration": 0.084956,
     "end_time": "2021-06-07T10:56:44.442379",
     "exception": false,
     "start_time": "2021-06-07T10:56:44.357423",
     "status": "completed"
    },
    "tags": []
   },
   "outputs": [
    {
     "data": {
      "text/plain": [
       "['Survived', 'Pclass', 'Age', 'SibSp', 'Parch', 'Fare']"
      ]
     },
     "execution_count": 16,
     "metadata": {},
     "output_type": "execute_result"
    }
   ],
   "source": [
    "num_features=[col for col in data.columns if data[col].dtype!='O']\n",
    "num_features"
   ]
  },
  {
   "cell_type": "code",
   "execution_count": 17,
   "metadata": {
    "execution": {
     "iopub.execute_input": "2021-06-07T10:56:44.596711Z",
     "iopub.status.busy": "2021-06-07T10:56:44.595837Z",
     "iopub.status.idle": "2021-06-07T10:56:44.601262Z",
     "shell.execute_reply": "2021-06-07T10:56:44.600720Z",
     "shell.execute_reply.started": "2021-06-06T10:34:44.969259Z"
    },
    "papermill": {
     "duration": 0.084679,
     "end_time": "2021-06-07T10:56:44.601415",
     "exception": false,
     "start_time": "2021-06-07T10:56:44.516736",
     "status": "completed"
    },
    "tags": []
   },
   "outputs": [
    {
     "data": {
      "text/plain": [
       "['Name', 'Sex', 'Ticket', 'Embarked']"
      ]
     },
     "execution_count": 17,
     "metadata": {},
     "output_type": "execute_result"
    }
   ],
   "source": [
    "cat_features=[col for col in data.columns if data[col].dtype=='O']\n",
    "cat_features"
   ]
  },
  {
   "cell_type": "markdown",
   "metadata": {
    "papermill": {
     "duration": 0.07446,
     "end_time": "2021-06-07T10:56:44.751298",
     "exception": false,
     "start_time": "2021-06-07T10:56:44.676838",
     "status": "completed"
    },
    "tags": []
   },
   "source": [
    " ### I Clean missing values using Random Value Imputation Because missing values is high in most features and This the best way to To maintain distrbuation For each feature."
   ]
  },
  {
   "cell_type": "code",
   "execution_count": 18,
   "metadata": {
    "execution": {
     "iopub.execute_input": "2021-06-07T10:56:44.908029Z",
     "iopub.status.busy": "2021-06-07T10:56:44.907399Z",
     "iopub.status.idle": "2021-06-07T10:56:44.910387Z",
     "shell.execute_reply": "2021-06-07T10:56:44.909816Z",
     "shell.execute_reply.started": "2021-06-06T10:35:45.271817Z"
    },
    "papermill": {
     "duration": 0.083742,
     "end_time": "2021-06-07T10:56:44.910537",
     "exception": false,
     "start_time": "2021-06-07T10:56:44.826795",
     "status": "completed"
    },
    "tags": []
   },
   "outputs": [],
   "source": [
    "### creating a function so that I can easily do it for all features\n",
    "def Random_value_imputation(feature):\n",
    "    random_sample=data[feature].dropna().sample(data[feature].isnull().sum())               \n",
    "    random_sample.index=data[data[feature].isnull()].index\n",
    "    data.loc[data[feature].isnull(),feature]=random_sample"
   ]
  },
  {
   "cell_type": "code",
   "execution_count": 19,
   "metadata": {
    "execution": {
     "iopub.execute_input": "2021-06-07T10:56:45.083377Z",
     "iopub.status.busy": "2021-06-07T10:56:45.082302Z",
     "iopub.status.idle": "2021-06-07T10:56:45.084887Z",
     "shell.execute_reply": "2021-06-07T10:56:45.085393Z",
     "shell.execute_reply.started": "2021-06-06T10:36:02.24134Z"
    },
    "papermill": {
     "duration": 0.098839,
     "end_time": "2021-06-07T10:56:45.085574",
     "exception": false,
     "start_time": "2021-06-07T10:56:44.986735",
     "status": "completed"
    },
    "tags": []
   },
   "outputs": [],
   "source": [
    "for col in num_features:\n",
    "    Random_value_imputation(col)"
   ]
  },
  {
   "cell_type": "code",
   "execution_count": 20,
   "metadata": {
    "execution": {
     "iopub.execute_input": "2021-06-07T10:56:45.238679Z",
     "iopub.status.busy": "2021-06-07T10:56:45.237685Z",
     "iopub.status.idle": "2021-06-07T10:56:45.246884Z",
     "shell.execute_reply": "2021-06-07T10:56:45.247393Z",
     "shell.execute_reply.started": "2021-06-06T10:36:13.674383Z"
    },
    "papermill": {
     "duration": 0.08744,
     "end_time": "2021-06-07T10:56:45.247579",
     "exception": false,
     "start_time": "2021-06-07T10:56:45.160139",
     "status": "completed"
    },
    "tags": []
   },
   "outputs": [
    {
     "data": {
      "text/plain": [
       "Survived    0\n",
       "Pclass      0\n",
       "Age         0\n",
       "SibSp       0\n",
       "Parch       0\n",
       "Fare        0\n",
       "dtype: int64"
      ]
     },
     "execution_count": 20,
     "metadata": {},
     "output_type": "execute_result"
    }
   ],
   "source": [
    "data[num_features].isnull().sum()"
   ]
  },
  {
   "cell_type": "code",
   "execution_count": 21,
   "metadata": {
    "execution": {
     "iopub.execute_input": "2021-06-07T10:56:45.405938Z",
     "iopub.status.busy": "2021-06-07T10:56:45.403599Z",
     "iopub.status.idle": "2021-06-07T10:56:45.410085Z",
     "shell.execute_reply": "2021-06-07T10:56:45.409479Z",
     "shell.execute_reply.started": "2021-06-06T10:36:35.663989Z"
    },
    "papermill": {
     "duration": 0.087814,
     "end_time": "2021-06-07T10:56:45.410284",
     "exception": false,
     "start_time": "2021-06-07T10:56:45.322470",
     "status": "completed"
    },
    "tags": []
   },
   "outputs": [
    {
     "data": {
      "text/plain": [
       "Name        0\n",
       "Sex         0\n",
       "Ticket      0\n",
       "Embarked    2\n",
       "dtype: int64"
      ]
     },
     "execution_count": 21,
     "metadata": {},
     "output_type": "execute_result"
    }
   ],
   "source": [
    "data[cat_features].isnull().sum()"
   ]
  },
  {
   "cell_type": "markdown",
   "metadata": {
    "papermill": {
     "duration": 0.075692,
     "end_time": "2021-06-07T10:56:45.561729",
     "exception": false,
     "start_time": "2021-06-07T10:56:45.486037",
     "status": "completed"
    },
    "tags": []
   },
   "source": [
    "### As rest of the features has less missing values,so I can fill it using mode concept(categorical data)"
   ]
  },
  {
   "cell_type": "code",
   "execution_count": 22,
   "metadata": {
    "execution": {
     "iopub.execute_input": "2021-06-07T10:56:45.720316Z",
     "iopub.status.busy": "2021-06-07T10:56:45.719598Z",
     "iopub.status.idle": "2021-06-07T10:56:45.723168Z",
     "shell.execute_reply": "2021-06-07T10:56:45.722624Z",
     "shell.execute_reply.started": "2021-06-06T10:37:08.383108Z"
    },
    "papermill": {
     "duration": 0.084467,
     "end_time": "2021-06-07T10:56:45.723316",
     "exception": false,
     "start_time": "2021-06-07T10:56:45.638849",
     "status": "completed"
    },
    "tags": []
   },
   "outputs": [],
   "source": [
    "def impute_mode(feature):\n",
    "    mode=data[feature].mode()[0]\n",
    "    data[feature]=data[feature].fillna(mode)"
   ]
  },
  {
   "cell_type": "code",
   "execution_count": 23,
   "metadata": {
    "execution": {
     "iopub.execute_input": "2021-06-07T10:56:45.884229Z",
     "iopub.status.busy": "2021-06-07T10:56:45.883497Z",
     "iopub.status.idle": "2021-06-07T10:56:45.886188Z",
     "shell.execute_reply": "2021-06-07T10:56:45.885533Z",
     "shell.execute_reply.started": "2021-06-06T10:37:20.7598Z"
    },
    "papermill": {
     "duration": 0.087887,
     "end_time": "2021-06-07T10:56:45.886338",
     "exception": false,
     "start_time": "2021-06-07T10:56:45.798451",
     "status": "completed"
    },
    "tags": []
   },
   "outputs": [],
   "source": [
    "for col in cat_features:\n",
    "    impute_mode(col)"
   ]
  },
  {
   "cell_type": "code",
   "execution_count": 24,
   "metadata": {
    "execution": {
     "iopub.execute_input": "2021-06-07T10:56:46.041984Z",
     "iopub.status.busy": "2021-06-07T10:56:46.041278Z",
     "iopub.status.idle": "2021-06-07T10:56:46.049619Z",
     "shell.execute_reply": "2021-06-07T10:56:46.050187Z",
     "shell.execute_reply.started": "2021-06-06T10:37:32.585692Z"
    },
    "papermill": {
     "duration": 0.088344,
     "end_time": "2021-06-07T10:56:46.050373",
     "exception": false,
     "start_time": "2021-06-07T10:56:45.962029",
     "status": "completed"
    },
    "tags": []
   },
   "outputs": [
    {
     "data": {
      "text/plain": [
       "Name        0\n",
       "Sex         0\n",
       "Ticket      0\n",
       "Embarked    0\n",
       "dtype: int64"
      ]
     },
     "execution_count": 24,
     "metadata": {},
     "output_type": "execute_result"
    }
   ],
   "source": [
    "data[cat_features].isnull().sum()"
   ]
  },
  {
   "cell_type": "markdown",
   "metadata": {
    "papermill": {
     "duration": 0.075507,
     "end_time": "2021-06-07T10:56:46.202289",
     "exception": false,
     "start_time": "2021-06-07T10:56:46.126782",
     "status": "completed"
    },
    "tags": []
   },
   "source": [
    "### Total unique categories in our categorical features to check if any dirtiness in data or not"
   ]
  },
  {
   "cell_type": "code",
   "execution_count": 25,
   "metadata": {
    "_kg_hide-output": true,
    "execution": {
     "iopub.execute_input": "2021-06-07T10:56:46.358553Z",
     "iopub.status.busy": "2021-06-07T10:56:46.357886Z",
     "iopub.status.idle": "2021-06-07T10:56:46.371449Z",
     "shell.execute_reply": "2021-06-07T10:56:46.371947Z",
     "shell.execute_reply.started": "2021-06-06T10:37:59.572315Z"
    },
    "papermill": {
     "duration": 0.093351,
     "end_time": "2021-06-07T10:56:46.372141",
     "exception": false,
     "start_time": "2021-06-07T10:56:46.278790",
     "status": "completed"
    },
    "tags": []
   },
   "outputs": [
    {
     "name": "stdout",
     "output_type": "stream",
     "text": [
      "Name has ['Braund, Mr. Owen Harris'\n",
      " 'Cumings, Mrs. John Bradley (Florence Briggs Thayer)'\n",
      " 'Heikkinen, Miss. Laina' 'Futrelle, Mrs. Jacques Heath (Lily May Peel)'\n",
      " 'Allen, Mr. William Henry' 'Moran, Mr. James' 'McCarthy, Mr. Timothy J'\n",
      " 'Palsson, Master. Gosta Leonard'\n",
      " 'Johnson, Mrs. Oscar W (Elisabeth Vilhelmina Berg)'\n",
      " 'Nasser, Mrs. Nicholas (Adele Achem)' 'Sandstrom, Miss. Marguerite Rut'\n",
      " 'Bonnell, Miss. Elizabeth' 'Saundercock, Mr. William Henry'\n",
      " 'Andersson, Mr. Anders Johan' 'Vestrom, Miss. Hulda Amanda Adolfina'\n",
      " 'Hewlett, Mrs. (Mary D Kingcome) ' 'Rice, Master. Eugene'\n",
      " 'Williams, Mr. Charles Eugene'\n",
      " 'Vander Planke, Mrs. Julius (Emelia Maria Vandemoortele)'\n",
      " 'Masselmani, Mrs. Fatima' 'Fynney, Mr. Joseph J' 'Beesley, Mr. Lawrence'\n",
      " 'McGowan, Miss. Anna \"Annie\"' 'Sloper, Mr. William Thompson'\n",
      " 'Palsson, Miss. Torborg Danira'\n",
      " 'Asplund, Mrs. Carl Oscar (Selma Augusta Emilia Johansson)'\n",
      " 'Emir, Mr. Farred Chehab' 'Fortune, Mr. Charles Alexander'\n",
      " 'O\\'Dwyer, Miss. Ellen \"Nellie\"' 'Todoroff, Mr. Lalio'\n",
      " 'Uruchurtu, Don. Manuel E'\n",
      " 'Spencer, Mrs. William Augustus (Marie Eugenie)'\n",
      " 'Glynn, Miss. Mary Agatha' 'Wheadon, Mr. Edward H'\n",
      " 'Meyer, Mr. Edgar Joseph' 'Holverson, Mr. Alexander Oskar'\n",
      " 'Mamee, Mr. Hanna' 'Cann, Mr. Ernest Charles'\n",
      " 'Vander Planke, Miss. Augusta Maria' 'Nicola-Yarred, Miss. Jamila'\n",
      " 'Ahlin, Mrs. Johan (Johanna Persdotter Larsson)'\n",
      " 'Turpin, Mrs. William John Robert (Dorothy Ann Wonnacott)'\n",
      " 'Kraeff, Mr. Theodor' 'Laroche, Miss. Simonne Marie Anne Andree'\n",
      " 'Devaney, Miss. Margaret Delia' 'Rogers, Mr. William John'\n",
      " 'Lennon, Mr. Denis' \"O'Driscoll, Miss. Bridget\" 'Samaan, Mr. Youssef'\n",
      " 'Arnold-Franchi, Mrs. Josef (Josefine Franchi)'\n",
      " 'Panula, Master. Juha Niilo' 'Nosworthy, Mr. Richard Cater'\n",
      " 'Harper, Mrs. Henry Sleeper (Myna Haxtun)'\n",
      " 'Faunthorpe, Mrs. Lizzie (Elizabeth Anne Wilkinson)'\n",
      " 'Ostby, Mr. Engelhart Cornelius' 'Woolner, Mr. Hugh' 'Rugg, Miss. Emily'\n",
      " 'Novel, Mr. Mansouer' 'West, Miss. Constance Mirium'\n",
      " 'Goodwin, Master. William Frederick' 'Sirayanian, Mr. Orsen'\n",
      " 'Icard, Miss. Amelie' 'Harris, Mr. Henry Birkhardt'\n",
      " 'Skoog, Master. Harald' 'Stewart, Mr. Albert A'\n",
      " 'Moubarek, Master. Gerios' 'Nye, Mrs. (Elizabeth Ramell)'\n",
      " 'Crease, Mr. Ernest James' 'Andersson, Miss. Erna Alexandra'\n",
      " 'Kink, Mr. Vincenz' 'Jenkin, Mr. Stephen Curnow'\n",
      " 'Goodwin, Miss. Lillian Amy' 'Hood, Mr. Ambrose Jr'\n",
      " 'Chronopoulos, Mr. Apostolos' 'Bing, Mr. Lee' 'Moen, Mr. Sigurd Hansen'\n",
      " 'Staneff, Mr. Ivan' 'Moutal, Mr. Rahamin Haim'\n",
      " 'Caldwell, Master. Alden Gates' 'Dowdell, Miss. Elizabeth'\n",
      " 'Waelens, Mr. Achille' 'Sheerlinck, Mr. Jan Baptist'\n",
      " 'McDermott, Miss. Brigdet Delia' 'Carrau, Mr. Francisco M'\n",
      " 'Ilett, Miss. Bertha'\n",
      " 'Backstrom, Mrs. Karl Alfred (Maria Mathilda Gustafsson)'\n",
      " 'Ford, Mr. William Neal' 'Slocovski, Mr. Selman Francis'\n",
      " 'Fortune, Miss. Mabel Helen' 'Celotti, Mr. Francesco'\n",
      " 'Christmann, Mr. Emil' 'Andreasson, Mr. Paul Edvin'\n",
      " 'Chaffee, Mr. Herbert Fuller' 'Dean, Mr. Bertram Frank'\n",
      " 'Coxon, Mr. Daniel' 'Shorney, Mr. Charles Joseph'\n",
      " 'Goldschmidt, Mr. George B' 'Greenfield, Mr. William Bertram'\n",
      " 'Doling, Mrs. John T (Ada Julia Bone)' 'Kantor, Mr. Sinai'\n",
      " 'Petranec, Miss. Matilda' 'Petroff, Mr. Pastcho (\"Pentcho\")'\n",
      " 'White, Mr. Richard Frasar' 'Johansson, Mr. Gustaf Joel'\n",
      " 'Gustafsson, Mr. Anders Vilhelm' 'Mionoff, Mr. Stoytcho'\n",
      " 'Salkjelsvik, Miss. Anna Kristine' 'Moss, Mr. Albert Johan'\n",
      " 'Rekic, Mr. Tido' 'Moran, Miss. Bertha' 'Porter, Mr. Walter Chamberlain'\n",
      " 'Zabour, Miss. Hileni' 'Barton, Mr. David John' 'Jussila, Miss. Katriina'\n",
      " 'Attalah, Miss. Malake' 'Pekoniemi, Mr. Edvard' 'Connors, Mr. Patrick'\n",
      " 'Turpin, Mr. William John Robert' 'Baxter, Mr. Quigg Edmond'\n",
      " 'Andersson, Miss. Ellis Anna Maria' 'Hickman, Mr. Stanley George'\n",
      " 'Moore, Mr. Leonard Charles' 'Nasser, Mr. Nicholas' 'Webber, Miss. Susan'\n",
      " 'White, Mr. Percival Wayland' 'Nicola-Yarred, Master. Elias'\n",
      " 'McMahon, Mr. Martin' 'Madsen, Mr. Fridtjof Arne' 'Peter, Miss. Anna'\n",
      " 'Ekstrom, Mr. Johan' 'Drazenoic, Mr. Jozef'\n",
      " 'Coelho, Mr. Domingos Fernandeo'\n",
      " 'Robins, Mrs. Alexander A (Grace Charity Laury)'\n",
      " 'Weisz, Mrs. Leopold (Mathilde Francoise Pede)'\n",
      " 'Sobey, Mr. Samuel James Hayden' 'Richard, Mr. Emile'\n",
      " 'Newsom, Miss. Helen Monypeny' 'Futrelle, Mr. Jacques Heath'\n",
      " 'Osen, Mr. Olaf Elon' 'Giglio, Mr. Victor'\n",
      " 'Boulos, Mrs. Joseph (Sultana)' 'Nysten, Miss. Anna Sofia'\n",
      " 'Hakkarainen, Mrs. Pekka Pietari (Elin Matilda Dolck)'\n",
      " 'Burke, Mr. Jeremiah' 'Andrew, Mr. Edgardo Samuel'\n",
      " 'Nicholls, Mr. Joseph Charles'\n",
      " 'Andersson, Mr. August Edvard (\"Wennerstrom\")'\n",
      " 'Ford, Miss. Robina Maggie \"Ruby\"'\n",
      " 'Navratil, Mr. Michel (\"Louis M Hoffman\")'\n",
      " 'Byles, Rev. Thomas Roussel Davids' 'Bateman, Rev. Robert James'\n",
      " 'Pears, Mrs. Thomas (Edith Wearne)' 'Meo, Mr. Alfonzo'\n",
      " 'van Billiard, Mr. Austin Blyler' 'Olsen, Mr. Ole Martin'\n",
      " 'Williams, Mr. Charles Duane' 'Gilnagh, Miss. Katherine \"Katie\"'\n",
      " 'Corn, Mr. Harry' 'Smiljanic, Mr. Mile' 'Sage, Master. Thomas Henry'\n",
      " 'Cribb, Mr. John Hatfield'\n",
      " 'Watt, Mrs. James (Elizabeth \"Bessie\" Inglis Milne)'\n",
      " 'Bengtsson, Mr. John Viktor' 'Calic, Mr. Jovo'\n",
      " 'Panula, Master. Eino Viljami'\n",
      " 'Goldsmith, Master. Frank John William \"Frankie\"'\n",
      " 'Chibnall, Mrs. (Edith Martha Bowerman)'\n",
      " 'Skoog, Mrs. William (Anna Bernhardina Karlsson)' 'Baumann, Mr. John D'\n",
      " 'Ling, Mr. Lee' 'Van der hoef, Mr. Wyckoff' 'Rice, Master. Arthur'\n",
      " 'Johnson, Miss. Eleanor Ileen' 'Sivola, Mr. Antti Wilhelm'\n",
      " 'Smith, Mr. James Clinch' 'Klasen, Mr. Klas Albin'\n",
      " 'Lefebre, Master. Henry Forbes' 'Isham, Miss. Ann Elizabeth'\n",
      " 'Hale, Mr. Reginald' 'Leonard, Mr. Lionel' 'Sage, Miss. Constance Gladys'\n",
      " 'Pernot, Mr. Rene' 'Asplund, Master. Clarence Gustaf Hugo'\n",
      " 'Becker, Master. Richard F' 'Kink-Heilmann, Miss. Luise Gretchen'\n",
      " 'Rood, Mr. Hugh Roscoe'\n",
      " 'O\\'Brien, Mrs. Thomas (Johanna \"Hannah\" Godfrey)'\n",
      " 'Romaine, Mr. Charles Hallace (\"Mr C Rolmane\")' 'Bourke, Mr. John'\n",
      " 'Turcin, Mr. Stjepan' 'Pinsky, Mrs. (Rosa)' 'Carbines, Mr. William'\n",
      " 'Andersen-Jensen, Miss. Carla Christine Nielsine'\n",
      " 'Navratil, Master. Michel M' 'Brown, Mrs. James Joseph (Margaret Tobin)'\n",
      " 'Lurette, Miss. Elise' 'Mernagh, Mr. Robert'\n",
      " 'Olsen, Mr. Karl Siegwart Andreas' 'Madigan, Miss. Margaret \"Maggie\"'\n",
      " 'Yrois, Miss. Henriette (\"Mrs Harbeck\")' 'Vande Walle, Mr. Nestor Cyriel'\n",
      " 'Sage, Mr. Frederick' 'Johanson, Mr. Jakob Alfred' 'Youseff, Mr. Gerious'\n",
      " 'Cohen, Mr. Gurshon \"Gus\"' 'Strom, Miss. Telma Matilda'\n",
      " 'Backstrom, Mr. Karl Alfred' 'Albimona, Mr. Nassef Cassem'\n",
      " 'Carr, Miss. Helen \"Ellen\"' 'Blank, Mr. Henry' 'Ali, Mr. Ahmed'\n",
      " 'Cameron, Miss. Clear Annie' 'Perkin, Mr. John Henry'\n",
      " 'Givard, Mr. Hans Kristensen' 'Kiernan, Mr. Philip'\n",
      " 'Newell, Miss. Madeleine' 'Honkanen, Miss. Eliina'\n",
      " 'Jacobsohn, Mr. Sidney Samuel' 'Bazzani, Miss. Albina'\n",
      " 'Harris, Mr. Walter' 'Sunderland, Mr. Victor Francis'\n",
      " 'Bracken, Mr. James H' 'Green, Mr. George Henry' 'Nenkoff, Mr. Christo'\n",
      " 'Hoyt, Mr. Frederick Maxfield' 'Berglund, Mr. Karl Ivar Sven'\n",
      " 'Mellors, Mr. William John' 'Lovell, Mr. John Hall (\"Henry\")'\n",
      " 'Fahlstrom, Mr. Arne Jonas' 'Lefebre, Miss. Mathilde'\n",
      " 'Harris, Mrs. Henry Birkhardt (Irene Wallach)' 'Larsson, Mr. Bengt Edvin'\n",
      " 'Sjostedt, Mr. Ernst Adolf' 'Asplund, Miss. Lillian Gertrud'\n",
      " 'Leyson, Mr. Robert William Norman' 'Harknett, Miss. Alice Phoebe'\n",
      " 'Hold, Mr. Stephen' 'Collyer, Miss. Marjorie \"Lottie\"'\n",
      " 'Pengelly, Mr. Frederick William' 'Hunt, Mr. George Henry'\n",
      " 'Zabour, Miss. Thamine' 'Murphy, Miss. Katherine \"Kate\"'\n",
      " 'Coleridge, Mr. Reginald Charles' 'Maenpaa, Mr. Matti Alexanteri'\n",
      " 'Attalah, Mr. Sleiman' 'Minahan, Dr. William Edward'\n",
      " 'Lindahl, Miss. Agda Thorilda Viktoria' 'Hamalainen, Mrs. William (Anna)'\n",
      " 'Beckwith, Mr. Richard Leonard' 'Carter, Rev. Ernest Courtenay'\n",
      " 'Reed, Mr. James George' 'Strom, Mrs. Wilhelm (Elna Matilda Persson)'\n",
      " 'Stead, Mr. William Thomas' 'Lobb, Mr. William Arthur'\n",
      " 'Rosblom, Mrs. Viktor (Helena Wilhelmina)'\n",
      " 'Touma, Mrs. Darwis (Hanne Youssef Razi)'\n",
      " 'Thorne, Mrs. Gertrude Maybelle' 'Cherry, Miss. Gladys'\n",
      " 'Ward, Miss. Anna' 'Parrish, Mrs. (Lutie Davis)' 'Smith, Mr. Thomas'\n",
      " 'Asplund, Master. Edvin Rojj Felix' 'Taussig, Mr. Emil'\n",
      " 'Harrison, Mr. William' 'Henry, Miss. Delia' 'Reeves, Mr. David'\n",
      " 'Panula, Mr. Ernesti Arvid' 'Persson, Mr. Ernst Ulrik'\n",
      " 'Graham, Mrs. William Thompson (Edith Junkins)' 'Bissette, Miss. Amelia'\n",
      " 'Cairns, Mr. Alexander' 'Tornquist, Mr. William Henry'\n",
      " 'Mellinger, Mrs. (Elizabeth Anne Maidment)' 'Natsch, Mr. Charles H'\n",
      " 'Healy, Miss. Hanora \"Nora\"' 'Andrews, Miss. Kornelia Theodosia'\n",
      " 'Lindblom, Miss. Augusta Charlotta' 'Parkes, Mr. Francis \"Frank\"'\n",
      " 'Rice, Master. Eric' 'Abbott, Mrs. Stanton (Rosa Hunt)'\n",
      " 'Duane, Mr. Frank' 'Olsson, Mr. Nils Johan Goransson'\n",
      " 'de Pelsmaeker, Mr. Alfons' 'Dorking, Mr. Edward Arthur'\n",
      " 'Smith, Mr. Richard William' 'Stankovic, Mr. Ivan'\n",
      " 'de Mulder, Mr. Theodore' 'Naidenoff, Mr. Penko' 'Hosono, Mr. Masabumi'\n",
      " 'Connolly, Miss. Kate' 'Barber, Miss. Ellen \"Nellie\"'\n",
      " 'Bishop, Mrs. Dickinson H (Helen Walton)' 'Levy, Mr. Rene Jacques'\n",
      " 'Haas, Miss. Aloisia' 'Mineff, Mr. Ivan' 'Lewy, Mr. Ervin G'\n",
      " 'Hanna, Mr. Mansour' 'Allison, Miss. Helen Loraine'\n",
      " 'Saalfeld, Mr. Adolphe' 'Baxter, Mrs. James (Helene DeLaudeniere Chaput)'\n",
      " 'Kelly, Miss. Anna Katherine \"Annie Kate\"' 'McCoy, Mr. Bernard'\n",
      " 'Johnson, Mr. William Cahoone Jr' 'Keane, Miss. Nora A'\n",
      " 'Williams, Mr. Howard Hugh \"Harry\"' 'Allison, Master. Hudson Trevor'\n",
      " 'Fleming, Miss. Margaret'\n",
      " 'Penasco y Castellana, Mrs. Victor de Satode (Maria Josefa Perez de Soto y Vallejo)'\n",
      " 'Abelson, Mr. Samuel' 'Francatelli, Miss. Laura Mabel'\n",
      " 'Hays, Miss. Margaret Bechstein' 'Ryerson, Miss. Emily Borie'\n",
      " 'Lahtinen, Mrs. William (Anna Sylfven)' 'Hendekovic, Mr. Ignjac'\n",
      " 'Hart, Mr. Benjamin' 'Nilsson, Miss. Helmina Josefina'\n",
      " 'Kantor, Mrs. Sinai (Miriam Sternin)' 'Moraweck, Dr. Ernest'\n",
      " 'Wick, Miss. Mary Natalie'\n",
      " 'Spedden, Mrs. Frederic Oakley (Margaretta Corning Stone)'\n",
      " 'Dennis, Mr. Samuel' 'Danoff, Mr. Yoto' 'Slayter, Miss. Hilda Mary'\n",
      " 'Caldwell, Mrs. Albert Francis (Sylvia Mae Harbaugh)'\n",
      " 'Sage, Mr. George John Jr' 'Young, Miss. Marie Grice'\n",
      " 'Nysveen, Mr. Johan Hansen' 'Ball, Mrs. (Ada E Hall)'\n",
      " 'Goldsmith, Mrs. Frank John (Emily Alice Brown)'\n",
      " 'Hippach, Miss. Jean Gertrude' 'McCoy, Miss. Agnes' 'Partner, Mr. Austen'\n",
      " 'Graham, Mr. George Edward' 'Vander Planke, Mr. Leo Edmondus'\n",
      " 'Frauenthal, Mrs. Henry William (Clara Heinsheimer)' 'Denkoff, Mr. Mitto'\n",
      " 'Pears, Mr. Thomas Clinton' 'Burns, Miss. Elizabeth Margaret'\n",
      " 'Dahl, Mr. Karl Edwart' 'Blackwell, Mr. Stephen Weart'\n",
      " 'Navratil, Master. Edmond Roger' 'Fortune, Miss. Alice Elizabeth'\n",
      " 'Collander, Mr. Erik Gustaf' 'Sedgwick, Mr. Charles Frederick Waddington'\n",
      " 'Fox, Mr. Stanley Hubert' 'Brown, Miss. Amelia \"Mildred\"'\n",
      " 'Smith, Miss. Marion Elsie' 'Davison, Mrs. Thomas Henry (Mary E Finck)'\n",
      " 'Coutts, Master. William Loch \"William\"' 'Dimic, Mr. Jovan'\n",
      " 'Odahl, Mr. Nils Martin' 'Williams-Lambert, Mr. Fletcher Fellows'\n",
      " 'Elias, Mr. Tannous' 'Arnold-Franchi, Mr. Josef' 'Yousif, Mr. Wazli'\n",
      " 'Vanden Steen, Mr. Leo Peter' 'Bowerman, Miss. Elsie Edith'\n",
      " 'Funk, Miss. Annie Clemmer' 'McGovern, Miss. Mary'\n",
      " 'Mockler, Miss. Helen Mary \"Ellie\"' 'Skoog, Mr. Wilhelm'\n",
      " 'del Carlo, Mr. Sebastiano' 'Barbara, Mrs. (Catherine David)'\n",
      " 'Asim, Mr. Adola' \"O'Brien, Mr. Thomas\" 'Adahl, Mr. Mauritz Nils Martin'\n",
      " 'Warren, Mrs. Frank Manley (Anna Sophia Atkinson)'\n",
      " 'Moussa, Mrs. (Mantoura Boulos)' 'Jermyn, Miss. Annie'\n",
      " 'Aubart, Mme. Leontine Pauline' 'Harder, Mr. George Achilles'\n",
      " 'Wiklund, Mr. Jakob Alfred' 'Beavan, Mr. William Thomas'\n",
      " 'Ringhini, Mr. Sante' 'Palsson, Miss. Stina Viola'\n",
      " 'Meyer, Mrs. Edgar Joseph (Leila Saks)' 'Landergren, Miss. Aurora Adelia'\n",
      " 'Widener, Mr. Harry Elkins' 'Betros, Mr. Tannous'\n",
      " 'Gustafsson, Mr. Karl Gideon' 'Bidois, Miss. Rosalie'\n",
      " 'Nakid, Miss. Maria (\"Mary\")' 'Tikkanen, Mr. Juho'\n",
      " 'Holverson, Mrs. Alexander Oskar (Mary Aline Towner)'\n",
      " 'Plotcharsky, Mr. Vasil' 'Davies, Mr. Charles Henry'\n",
      " 'Goodwin, Master. Sidney Leonard' 'Buss, Miss. Kate'\n",
      " 'Sadlier, Mr. Matthew' 'Lehmann, Miss. Bertha'\n",
      " 'Carter, Mr. William Ernest' 'Jansson, Mr. Carl Olof'\n",
      " 'Gustafsson, Mr. Johan Birger' 'Newell, Miss. Marjorie'\n",
      " 'Sandstrom, Mrs. Hjalmar (Agnes Charlotta Bengtsson)'\n",
      " 'Johansson, Mr. Erik' 'Olsson, Miss. Elina' 'McKane, Mr. Peter David'\n",
      " 'Pain, Dr. Alfred' 'Trout, Mrs. William H (Jessie L)'\n",
      " 'Niskanen, Mr. Juha' 'Adams, Mr. John' 'Jussila, Miss. Mari Aina'\n",
      " 'Hakkarainen, Mr. Pekka Pietari' 'Oreskovic, Miss. Marija'\n",
      " 'Gale, Mr. Shadrach' 'Widegren, Mr. Carl/Charles Peter'\n",
      " 'Richards, Master. William Rowe' 'Birkeland, Mr. Hans Martin Monsen'\n",
      " 'Lefebre, Miss. Ida' 'Sdycoff, Mr. Todor' 'Hart, Mr. Henry'\n",
      " 'Minahan, Miss. Daisy E' 'Cunningham, Mr. Alfred Fleming'\n",
      " 'Sundman, Mr. Johan Julian' 'Meek, Mrs. Thomas (Annie Louise Rowley)'\n",
      " 'Drew, Mrs. James Vivian (Lulu Thorne Christian)'\n",
      " 'Silven, Miss. Lyyli Karoliina' 'Matthews, Mr. William John'\n",
      " 'Van Impe, Miss. Catharina' 'Gheorgheff, Mr. Stanio'\n",
      " 'Charters, Mr. David' 'Zimmerman, Mr. Leo'\n",
      " 'Danbom, Mrs. Ernst Gilbert (Anna Sigrid Maria Brogren)'\n",
      " 'Rosblom, Mr. Viktor Richard' 'Wiseman, Mr. Phillippe'\n",
      " 'Clarke, Mrs. Charles V (Ada Maria Winfield)'\n",
      " 'Phillips, Miss. Kate Florence (\"Mrs Kate Louise Phillips Marshall\")'\n",
      " 'Flynn, Mr. James' 'Pickard, Mr. Berk (Berk Trembisky)'\n",
      " 'Bjornstrom-Steffansson, Mr. Mauritz Hakan'\n",
      " 'Thorneycroft, Mrs. Percival (Florence Kate White)'\n",
      " 'Louch, Mrs. Charles Alexander (Alice Adelaide Slow)'\n",
      " 'Kallio, Mr. Nikolai Erland' 'Silvey, Mr. William Baird'\n",
      " 'Carter, Miss. Lucile Polk' 'Ford, Miss. Doolina Margaret \"Daisy\"'\n",
      " 'Richards, Mrs. Sidney (Emily Hocking)' 'Fortune, Mr. Mark'\n",
      " 'Kvillner, Mr. Johan Henrik Johannesson'\n",
      " 'Hart, Mrs. Benjamin (Esther Ada Bloomfield)' 'Hampe, Mr. Leon'\n",
      " 'Petterson, Mr. Johan Emil' 'Reynaldo, Ms. Encarnacion'\n",
      " 'Johannesen-Bratthammer, Mr. Bernt' 'Dodge, Master. Washington'\n",
      " 'Mellinger, Miss. Madeleine Violet' 'Seward, Mr. Frederic Kimber'\n",
      " 'Baclini, Miss. Marie Catherine' 'Peuchen, Major. Arthur Godfrey'\n",
      " 'West, Mr. Edwy Arthur' 'Hagland, Mr. Ingvald Olai Olsen'\n",
      " 'Foreman, Mr. Benjamin Laventall' 'Goldenberg, Mr. Samuel L'\n",
      " 'Peduzzi, Mr. Joseph' 'Jalsevac, Mr. Ivan' 'Millet, Mr. Francis Davis'\n",
      " 'Kenyon, Mrs. Frederick R (Marion)' 'Toomey, Miss. Ellen'\n",
      " \"O'Connor, Mr. Maurice\" 'Anderson, Mr. Harry' 'Morley, Mr. William'\n",
      " 'Gee, Mr. Arthur H' 'Milling, Mr. Jacob Christian' 'Maisner, Mr. Simon'\n",
      " 'Goncalves, Mr. Manuel Estanslas' 'Campbell, Mr. William'\n",
      " 'Smart, Mr. John Montgomery' 'Scanlan, Mr. James'\n",
      " 'Baclini, Miss. Helene Barbara' 'Keefe, Mr. Arthur' 'Cacic, Mr. Luka'\n",
      " 'West, Mrs. Edwy Arthur (Ada Mary Worth)'\n",
      " 'Jerwan, Mrs. Amin S (Marie Marthe Thuillard)'\n",
      " 'Strandberg, Miss. Ida Sofia' 'Clifford, Mr. George Quincy'\n",
      " 'Renouf, Mr. Peter Henry' 'Braund, Mr. Lewis Richard'\n",
      " 'Karlsson, Mr. Nils August' 'Hirvonen, Miss. Hildur E'\n",
      " 'Goodwin, Master. Harold Victor' 'Frost, Mr. Anthony Wood \"Archie\"'\n",
      " 'Rouse, Mr. Richard Henry' 'Turkula, Mrs. (Hedwig)'\n",
      " 'Bishop, Mr. Dickinson H' 'Lefebre, Miss. Jeannie'\n",
      " 'Hoyt, Mrs. Frederick Maxfield (Jane Anne Forby)'\n",
      " 'Kent, Mr. Edward Austin' 'Somerton, Mr. Francis William'\n",
      " 'Coutts, Master. Eden Leslie \"Neville\"'\n",
      " 'Hagland, Mr. Konrad Mathias Reiersen' 'Windelov, Mr. Einar'\n",
      " 'Molson, Mr. Harry Markland' 'Artagaveytia, Mr. Ramon'\n",
      " 'Stanley, Mr. Edward Roland' 'Yousseff, Mr. Gerious'\n",
      " 'Eustis, Miss. Elizabeth Mussey' 'Shellard, Mr. Frederick William'\n",
      " 'Allison, Mrs. Hudson J C (Bessie Waldo Daniels)' 'Svensson, Mr. Olof'\n",
      " 'Calic, Mr. Petar' 'Canavan, Miss. Mary' \"O'Sullivan, Miss. Bridget Mary\"\n",
      " 'Laitinen, Miss. Kristina Sofia' 'Maioni, Miss. Roberta'\n",
      " 'Penasco y Castellana, Mr. Victor de Satode'\n",
      " 'Quick, Mrs. Frederick Charles (Jane Richards)'\n",
      " 'Bradley, Mr. George (\"George Arthur Brayton\")'\n",
      " 'Olsen, Mr. Henry Margido' 'Lang, Mr. Fang' 'Daly, Mr. Eugene Patrick'\n",
      " 'Webber, Mr. James' 'McGough, Mr. James Robert'\n",
      " 'Rothschild, Mrs. Martin (Elizabeth L. Barrett)' 'Coleff, Mr. Satio'\n",
      " 'Walker, Mr. William Anderson' 'Lemore, Mrs. (Amelia Milley)'\n",
      " 'Ryan, Mr. Patrick'\n",
      " 'Angle, Mrs. William A (Florence \"Mary\" Agnes Hughes)'\n",
      " 'Pavlovic, Mr. Stefo' 'Perreault, Miss. Anne' 'Vovk, Mr. Janko'\n",
      " 'Lahoud, Mr. Sarkis' 'Hippach, Mrs. Louis Albert (Ida Sophia Fischer)'\n",
      " 'Kassem, Mr. Fared' 'Farrell, Mr. James' 'Ridsdale, Miss. Lucy'\n",
      " 'Farthing, Mr. John' 'Salonen, Mr. Johan Werner'\n",
      " 'Hocking, Mr. Richard George' 'Quick, Miss. Phyllis May'\n",
      " 'Toufik, Mr. Nakli' 'Elias, Mr. Joseph Jr'\n",
      " 'Peter, Mrs. Catherine (Catherine Rizk)' 'Cacic, Miss. Marija'\n",
      " 'Hart, Miss. Eva Miriam' 'Butt, Major. Archibald Willingham'\n",
      " 'LeRoy, Miss. Bertha' 'Risien, Mr. Samuel Beard'\n",
      " 'Frolicher, Miss. Hedwig Margaritha' 'Crosby, Miss. Harriet R'\n",
      " 'Andersson, Miss. Ingeborg Constanzia'\n",
      " 'Andersson, Miss. Sigrid Elisabeth' 'Beane, Mr. Edward'\n",
      " 'Douglas, Mr. Walter Donald' 'Nicholson, Mr. Arthur Ernest'\n",
      " 'Beane, Mrs. Edward (Ethel Clarke)' 'Padro y Manent, Mr. Julian'\n",
      " 'Goldsmith, Mr. Frank John' 'Davies, Master. John Morgan Jr'\n",
      " 'Thayer, Mr. John Borland Jr' 'Sharp, Mr. Percival James R'\n",
      " \"O'Brien, Mr. Timothy\" 'Leeni, Mr. Fahim (\"Philip Zenni\")'\n",
      " 'Ohman, Miss. Velin' 'Wright, Mr. George'\n",
      " 'Duff Gordon, Lady. (Lucille Christiana Sutherland) (\"Mrs Morgan\")'\n",
      " 'Robbins, Mr. Victor' 'Taussig, Mrs. Emil (Tillie Mandelbaum)'\n",
      " 'de Messemaeker, Mrs. Guillaume Joseph (Emma)' 'Morrow, Mr. Thomas Rowan'\n",
      " 'Sivic, Mr. Husein' 'Norman, Mr. Robert Douglas' 'Simmons, Mr. John'\n",
      " 'Meanwell, Miss. (Marion Ogden)' 'Davies, Mr. Alfred J'\n",
      " 'Stoytcheff, Mr. Ilia' 'Palsson, Mrs. Nils (Alma Cornelia Berglund)'\n",
      " 'Doharr, Mr. Tannous' 'Jonsson, Mr. Carl' 'Harris, Mr. George'\n",
      " 'Appleton, Mrs. Edward Dale (Charlotte Lamson)'\n",
      " 'Flynn, Mr. John Irwin (\"Irving\")' 'Kelly, Miss. Mary'\n",
      " 'Rush, Mr. Alfred George John' 'Patchett, Mr. George'\n",
      " 'Garside, Miss. Ethel' 'Silvey, Mrs. William Baird (Alice Munger)'\n",
      " 'Caram, Mrs. Joseph (Maria Elias)' 'Jussila, Mr. Eiriik'\n",
      " 'Christy, Miss. Julie Rachel'\n",
      " 'Thayer, Mrs. John Borland (Marian Longstreth Morris)'\n",
      " 'Downton, Mr. William James' 'Ross, Mr. John Hugo' 'Paulner, Mr. Uscher'\n",
      " 'Taussig, Miss. Ruth' 'Jarvis, Mr. John Denzil'\n",
      " 'Frolicher-Stehli, Mr. Maxmillian' 'Gilinski, Mr. Eliezer'\n",
      " 'Murdlin, Mr. Joseph' 'Rintamaki, Mr. Matti'\n",
      " 'Stephenson, Mrs. Walter Bertram (Martha Eustis)'\n",
      " 'Elsbury, Mr. William James' 'Bourke, Miss. Mary'\n",
      " 'Chapman, Mr. John Henry' 'Van Impe, Mr. Jean Baptiste'\n",
      " 'Leitch, Miss. Jessie Wills' 'Johnson, Mr. Alfred' 'Boulos, Mr. Hanna'\n",
      " 'Duff Gordon, Sir. Cosmo Edmund (\"Mr Morgan\")'\n",
      " 'Jacobsohn, Mrs. Sidney Samuel (Amy Frances Christy)'\n",
      " 'Slabenoff, Mr. Petco' 'Harrington, Mr. Charles H'\n",
      " 'Torber, Mr. Ernst William' 'Homer, Mr. Harry (\"Mr E Haven\")'\n",
      " 'Lindell, Mr. Edvard Bengtsson' 'Karaic, Mr. Milan'\n",
      " 'Daniel, Mr. Robert Williams'\n",
      " 'Laroche, Mrs. Joseph (Juliette Marie Louise Lafargue)'\n",
      " 'Shutes, Miss. Elizabeth W'\n",
      " 'Andersson, Mrs. Anders Johan (Alfrida Konstantia Brogren)'\n",
      " 'Jardin, Mr. Jose Neto' 'Murphy, Miss. Margaret Jane' 'Horgan, Mr. John'\n",
      " 'Brocklebank, Mr. William Alfred' 'Herman, Miss. Alice'\n",
      " 'Danbom, Mr. Ernst Gilbert'\n",
      " 'Lobb, Mrs. William Arthur (Cordelia K Stanlick)'\n",
      " 'Becker, Miss. Marion Louise' 'Gavey, Mr. Lawrence' 'Yasbeck, Mr. Antoni'\n",
      " 'Kimball, Mr. Edwin Nelson Jr' 'Nakid, Mr. Sahid'\n",
      " 'Hansen, Mr. Henry Damsgaard' 'Bowen, Mr. David John \"Dai\"'\n",
      " 'Sutton, Mr. Frederick' 'Kirkland, Rev. Charles Leonard'\n",
      " 'Longley, Miss. Gretchen Fiske' 'Bostandyeff, Mr. Guentcho'\n",
      " \"O'Connell, Mr. Patrick D\" 'Barkworth, Mr. Algernon Henry Wilson'\n",
      " 'Lundahl, Mr. Johan Svensson' 'Stahelin-Maeglin, Dr. Max'\n",
      " 'Parr, Mr. William Henry Marsh' 'Skoog, Miss. Mabel' 'Davis, Miss. Mary'\n",
      " 'Leinonen, Mr. Antti Gustaf' 'Collyer, Mr. Harvey'\n",
      " 'Panula, Mrs. Juha (Maria Emilia Ojala)' 'Thorneycroft, Mr. Percival'\n",
      " 'Jensen, Mr. Hans Peder' 'Sagesser, Mlle. Emma'\n",
      " 'Skoog, Miss. Margit Elizabeth' 'Foo, Mr. Choong'\n",
      " 'Baclini, Miss. Eugenie' 'Harper, Mr. Henry Sleeper' 'Cor, Mr. Liudevit'\n",
      " 'Simonius-Blumer, Col. Oberst Alfons' 'Willey, Mr. Edward'\n",
      " 'Stanley, Miss. Amy Zillah Elsie' 'Mitkoff, Mr. Mito'\n",
      " 'Doling, Miss. Elsie' 'Kalvik, Mr. Johannes Halvorsen'\n",
      " 'O\\'Leary, Miss. Hanora \"Norah\"' 'Hegarty, Miss. Hanora \"Nora\"'\n",
      " 'Hickman, Mr. Leonard Mark' 'Radeff, Mr. Alexander'\n",
      " 'Bourke, Mrs. John (Catherine)' 'Eitemiller, Mr. George Floyd'\n",
      " 'Newell, Mr. Arthur Webster' 'Frauenthal, Dr. Henry William'\n",
      " 'Badt, Mr. Mohamed' 'Colley, Mr. Edward Pomeroy' 'Coleff, Mr. Peju'\n",
      " 'Lindqvist, Mr. Eino William' 'Hickman, Mr. Lewis'\n",
      " 'Butler, Mr. Reginald Fenton' 'Rommetvedt, Mr. Knud Paust'\n",
      " 'Cook, Mr. Jacob' 'Taylor, Mrs. Elmer Zebley (Juliet Cummins Wright)'\n",
      " 'Brown, Mrs. Thomas William Solomon (Elizabeth Catherine Ford)'\n",
      " 'Davidson, Mr. Thornton' 'Mitchell, Mr. Henry Michael'\n",
      " 'Wilhelms, Mr. Charles' 'Watson, Mr. Ennis Hastings'\n",
      " 'Edvardsson, Mr. Gustaf Hjalmar' 'Sawyer, Mr. Frederick Charles'\n",
      " 'Turja, Miss. Anna Sofia' 'Goodwin, Mrs. Frederick (Augusta Tyler)'\n",
      " 'Cardeza, Mr. Thomas Drake Martinez' 'Peters, Miss. Katie'\n",
      " 'Hassab, Mr. Hammad' 'Olsvigen, Mr. Thor Anderson'\n",
      " 'Goodwin, Mr. Charles Edward' 'Brown, Mr. Thomas William Solomon'\n",
      " 'Laroche, Mr. Joseph Philippe Lemercier' 'Panula, Mr. Jaako Arnold'\n",
      " 'Dakic, Mr. Branko' 'Fischer, Mr. Eberhard Thelander'\n",
      " 'Madill, Miss. Georgette Alexandra' 'Dick, Mr. Albert Adrian'\n",
      " 'Karun, Miss. Manca' 'Lam, Mr. Ali' 'Saad, Mr. Khalil' 'Weir, Col. John'\n",
      " 'Chapman, Mr. Charles Henry' 'Kelly, Mr. James'\n",
      " 'Mullens, Miss. Katherine \"Katie\"' 'Thayer, Mr. John Borland'\n",
      " 'Humblen, Mr. Adolf Mathias Nicolai Olsen'\n",
      " 'Astor, Mrs. John Jacob (Madeleine Talmadge Force)'\n",
      " 'Silverthorne, Mr. Spencer Victor' 'Barbara, Miss. Saiide'\n",
      " 'Gallagher, Mr. Martin' 'Hansen, Mr. Henrik Juul'\n",
      " 'Morley, Mr. Henry Samuel (\"Mr Henry Marshall\")'\n",
      " 'Kelly, Mrs. Florence \"Fannie\"' 'Calderhead, Mr. Edward Pennington'\n",
      " 'Cleaver, Miss. Alice'\n",
      " 'Moubarek, Master. Halim Gonios (\"William George\")'\n",
      " 'Mayne, Mlle. Berthe Antonine (\"Mrs de Villiers\")' 'Klaber, Mr. Herman'\n",
      " 'Taylor, Mr. Elmer Zebley' 'Larsson, Mr. August Viktor'\n",
      " 'Greenberg, Mr. Samuel' 'Soholt, Mr. Peter Andreas Lauritz Andersen'\n",
      " 'Endres, Miss. Caroline Louise' 'Troutt, Miss. Edwina Celia \"Winnie\"'\n",
      " 'McEvoy, Mr. Michael' 'Johnson, Mr. Malkolm Joackim'\n",
      " 'Harper, Miss. Annie Jessie \"Nina\"' 'Jensen, Mr. Svend Lauritz'\n",
      " 'Gillespie, Mr. William Henry' 'Hodges, Mr. Henry Price'\n",
      " 'Chambers, Mr. Norman Campbell' 'Oreskovic, Mr. Luka'\n",
      " 'Renouf, Mrs. Peter Henry (Lillian Jefferys)' 'Mannion, Miss. Margareth'\n",
      " 'Bryhl, Mr. Kurt Arnold Gottfrid' 'Ilmakangas, Miss. Pieta Sofia'\n",
      " 'Allen, Miss. Elisabeth Walton' 'Hassan, Mr. Houssein G N'\n",
      " 'Knight, Mr. Robert J' 'Berriman, Mr. William John'\n",
      " 'Troupiansky, Mr. Moses Aaron' 'Williams, Mr. Leslie'\n",
      " 'Ford, Mrs. Edward (Margaret Ann Watson)' 'Lesurer, Mr. Gustave J'\n",
      " 'Ivanoff, Mr. Kanio' 'Nankoff, Mr. Minko' 'Hawksford, Mr. Walter James'\n",
      " 'Cavendish, Mr. Tyrell William' 'Ryerson, Miss. Susan Parker \"Suzette\"'\n",
      " 'McNamee, Mr. Neal' 'Stranden, Mr. Juho' 'Crosby, Capt. Edward Gifford'\n",
      " 'Abbott, Mr. Rossmore Edward' 'Sinkkonen, Miss. Anna'\n",
      " 'Marvin, Mr. Daniel Warner' 'Connaghton, Mr. Michael' 'Wells, Miss. Joan'\n",
      " 'Moor, Master. Meier' 'Vande Velde, Mr. Johannes Joseph'\n",
      " 'Jonkoff, Mr. Lalio' 'Herman, Mrs. Samuel (Jane Laver)'\n",
      " 'Hamalainen, Master. Viljo' 'Carlsson, Mr. August Sigfrid'\n",
      " 'Bailey, Mr. Percy Andrew' 'Theobald, Mr. Thomas Leonard'\n",
      " 'Rothes, the Countess. of (Lucy Noel Martha Dyer-Edwards)'\n",
      " 'Garfirth, Mr. John' 'Nirva, Mr. Iisakki Antino Aijo'\n",
      " 'Barah, Mr. Hanna Assi' 'Carter, Mrs. William Ernest (Lucile Polk)'\n",
      " 'Eklund, Mr. Hans Linus' 'Hogeboom, Mrs. John C (Anna Andrews)'\n",
      " 'Brewe, Dr. Arthur Jackson' 'Mangan, Miss. Mary' 'Moran, Mr. Daniel J'\n",
      " 'Gronnestad, Mr. Daniel Danielsen' 'Lievens, Mr. Rene Aime'\n",
      " 'Jensen, Mr. Niels Peder' 'Mack, Mrs. (Mary)' 'Elias, Mr. Dibo'\n",
      " 'Hocking, Mrs. Elizabeth (Eliza Needs)'\n",
      " 'Myhrman, Mr. Pehr Fabian Oliver Malkolm' 'Tobin, Mr. Roger'\n",
      " 'Emanuel, Miss. Virginia Ethel' 'Kilgannon, Mr. Thomas J'\n",
      " 'Robert, Mrs. Edward Scott (Elisabeth Walton McMillan)'\n",
      " 'Ayoub, Miss. Banoura' 'Dick, Mrs. Albert Adrian (Vera Gillespie)'\n",
      " 'Long, Mr. Milton Clyde' 'Johnston, Mr. Andrew G' 'Ali, Mr. William'\n",
      " 'Harmer, Mr. Abraham (David Lishin)' 'Sjoblom, Miss. Anna Sofia'\n",
      " 'Rice, Master. George Hugh' 'Dean, Master. Bertram Vere'\n",
      " 'Guggenheim, Mr. Benjamin' 'Keane, Mr. Andrew \"Andy\"'\n",
      " 'Gaskell, Mr. Alfred' 'Sage, Miss. Stella Anna'\n",
      " 'Hoyt, Mr. William Fisher' 'Dantcheff, Mr. Ristiu' 'Otter, Mr. Richard'\n",
      " 'Leader, Dr. Alice (Farnham)' 'Osman, Mrs. Mara'\n",
      " 'Ibrahim Shawah, Mr. Yousseff'\n",
      " 'Van Impe, Mrs. Jean Baptiste (Rosalie Paula Govaert)'\n",
      " 'Ponesell, Mr. Martin' 'Collyer, Mrs. Harvey (Charlotte Annie Tate)'\n",
      " 'Carter, Master. William Thornton II' 'Thomas, Master. Assad Alexander'\n",
      " 'Hedman, Mr. Oskar Arvid' 'Johansson, Mr. Karl Johan'\n",
      " 'Andrews, Mr. Thomas Jr' 'Pettersson, Miss. Ellen Natalia'\n",
      " 'Meyer, Mr. August' 'Chambers, Mrs. Norman Campbell (Bertha Griggs)'\n",
      " 'Alexander, Mr. William' 'Lester, Mr. James' 'Slemen, Mr. Richard James'\n",
      " 'Andersson, Miss. Ebba Iris Alfrida' 'Tomlin, Mr. Ernest Portage'\n",
      " 'Fry, Mr. Richard' 'Heininen, Miss. Wendla Maria' 'Mallet, Mr. Albert'\n",
      " 'Holm, Mr. John Fredrik Alexander' 'Skoog, Master. Karl Thorsten'\n",
      " 'Hays, Mrs. Charles Melville (Clara Jennings Gregg)' 'Lulic, Mr. Nikola'\n",
      " 'Reuchlin, Jonkheer. John George' 'Moor, Mrs. (Beila)'\n",
      " 'Panula, Master. Urho Abraham' 'Flynn, Mr. John' 'Lam, Mr. Len'\n",
      " 'Mallet, Master. Andre' 'McCormack, Mr. Thomas Joseph'\n",
      " 'Stone, Mrs. George Nelson (Martha Evelyn)'\n",
      " 'Yasbeck, Mrs. Antoni (Selini Alexander)'\n",
      " 'Richards, Master. George Sibley' 'Saad, Mr. Amin'\n",
      " 'Augustsson, Mr. Albert' 'Allum, Mr. Owen George'\n",
      " 'Compton, Miss. Sara Rebecca' 'Pasic, Mr. Jakob' 'Sirota, Mr. Maurice'\n",
      " 'Chip, Mr. Chang' 'Marechal, Mr. Pierre' 'Alhomaki, Mr. Ilmari Rudolf'\n",
      " 'Mudd, Mr. Thomas Charles' 'Serepeca, Miss. Augusta'\n",
      " 'Lemberopolous, Mr. Peter L' 'Culumovic, Mr. Jeso' 'Abbing, Mr. Anthony'\n",
      " 'Sage, Mr. Douglas Bullen' 'Markoff, Mr. Marin' 'Harper, Rev. John'\n",
      " 'Goldenberg, Mrs. Samuel L (Edwiga Grabowska)'\n",
      " 'Andersson, Master. Sigvard Harald Elias' 'Svensson, Mr. Johan'\n",
      " 'Boulos, Miss. Nourelain' 'Lines, Miss. Mary Conover'\n",
      " 'Carter, Mrs. Ernest Courtenay (Lilian Hughes)'\n",
      " 'Aks, Mrs. Sam (Leah Rosen)' 'Wick, Mrs. George Dennick (Mary Hitchcock)'\n",
      " 'Daly, Mr. Peter Denis ' 'Baclini, Mrs. Solomon (Latifa Qurban)'\n",
      " 'Razi, Mr. Raihed' 'Hansen, Mr. Claus Peter'\n",
      " 'Giles, Mr. Frederick Edward'\n",
      " 'Swift, Mrs. Frederick Joel (Margaret Welles Barron)'\n",
      " 'Sage, Miss. Dorothy Edith \"Dolly\"' 'Gill, Mr. John William'\n",
      " 'Bystrom, Mrs. (Karolina)' 'Duran y More, Miss. Asuncion'\n",
      " 'Roebling, Mr. Washington Augustus II' 'van Melkebeke, Mr. Philemon'\n",
      " 'Johnson, Master. Harold Theodor' 'Balkic, Mr. Cerin'\n",
      " 'Beckwith, Mrs. Richard Leonard (Sallie Monypeny)'\n",
      " 'Carlsson, Mr. Frans Olof' 'Vander Cruyssen, Mr. Victor'\n",
      " 'Abelson, Mrs. Samuel (Hannah Wizosky)'\n",
      " 'Najib, Miss. Adele Kiamie \"Jane\"' 'Gustafsson, Mr. Alfred Ossian'\n",
      " 'Petroff, Mr. Nedelio' 'Laleff, Mr. Kristo'\n",
      " 'Potter, Mrs. Thomas Jr (Lily Alexenia Wilson)'\n",
      " 'Shelley, Mrs. William (Imanita Parrish Hall)' 'Markun, Mr. Johann'\n",
      " 'Dahlberg, Miss. Gerda Ulrika' 'Banfield, Mr. Frederick James'\n",
      " 'Sutehall, Mr. Henry Jr' 'Rice, Mrs. William (Margaret Norton)'\n",
      " 'Montvila, Rev. Juozas' 'Graham, Miss. Margaret Edith'\n",
      " 'Johnston, Miss. Catherine Helen \"Carrie\"' 'Behr, Mr. Karl Howell'\n",
      " 'Dooley, Mr. Patrick'] values \n",
      "\n",
      "\n",
      "Sex has ['male' 'female'] values \n",
      "\n",
      "\n",
      "Ticket has ['A/5 21171' 'PC 17599' 'STON/O2. 3101282' '113803' '373450' '330877'\n",
      " '17463' '349909' '347742' '237736' 'PP 9549' '113783' 'A/5. 2151'\n",
      " '347082' '350406' '248706' '382652' '244373' '345763' '2649' '239865'\n",
      " '248698' '330923' '113788' '347077' '2631' '19950' '330959' '349216'\n",
      " 'PC 17601' 'PC 17569' '335677' 'C.A. 24579' 'PC 17604' '113789' '2677'\n",
      " 'A./5. 2152' '345764' '2651' '7546' '11668' '349253' 'SC/Paris 2123'\n",
      " '330958' 'S.C./A.4. 23567' '370371' '14311' '2662' '349237' '3101295'\n",
      " 'A/4. 39886' 'PC 17572' '2926' '113509' '19947' 'C.A. 31026' '2697'\n",
      " 'C.A. 34651' 'CA 2144' '2669' '113572' '36973' '347088' 'PC 17605' '2661'\n",
      " 'C.A. 29395' 'S.P. 3464' '3101281' '315151' 'C.A. 33111' 'S.O.C. 14879'\n",
      " '2680' '1601' '348123' '349208' '374746' '248738' '364516' '345767'\n",
      " '345779' '330932' '113059' 'SO/C 14885' '3101278' 'W./C. 6608'\n",
      " 'SOTON/OQ 392086' '343275' '343276' '347466' 'W.E.P. 5734' 'C.A. 2315'\n",
      " '364500' '374910' 'PC 17754' 'PC 17759' '231919' '244367' '349245'\n",
      " '349215' '35281' '7540' '3101276' '349207' '343120' '312991' '349249'\n",
      " '371110' '110465' '2665' '324669' '4136' '2627' 'STON/O 2. 3101294'\n",
      " '370369' 'PC 17558' 'A4. 54510' '27267' '370372' 'C 17369' '2668'\n",
      " '347061' '349241' 'SOTON/O.Q. 3101307' 'A/5. 3337' '228414' 'C.A. 29178'\n",
      " 'SC/PARIS 2133' '11752' '7534' 'PC 17593' '2678' '347081'\n",
      " 'STON/O2. 3101279' '365222' '231945' 'C.A. 33112' '350043' '230080'\n",
      " '244310' 'S.O.P. 1166' '113776' 'A.5. 11206' 'A/5. 851' 'Fa 265302'\n",
      " 'PC 17597' '35851' 'SOTON/OQ 392090' '315037' 'CA. 2343' '371362'\n",
      " 'C.A. 33595' '347068' '315093' '363291' '113505' 'PC 17318' '111240'\n",
      " 'STON/O 2. 3101280' '17764' '350404' '4133' 'PC 17595' '250653' 'LINE'\n",
      " 'SC/PARIS 2131' '230136' '315153' '113767' '370365' '111428' '364849'\n",
      " '349247' '234604' '28424' '350046' 'PC 17610' '368703' '4579' '370370'\n",
      " '248747' '345770' '3101264' '2628' 'A/5 3540' '347054' '2699' '367231'\n",
      " '112277' 'SOTON/O.Q. 3101311' 'F.C.C. 13528' 'A/5 21174' '250646'\n",
      " '367229' '35273' 'STON/O2. 3101283' '243847' '11813' 'W/C 14208'\n",
      " 'SOTON/OQ 392089' '220367' '21440' '349234' '19943' 'PP 4348' 'SW/PP 751'\n",
      " 'A/5 21173' '236171' '347067' '237442' 'C.A. 29566' 'W./C. 6609' '26707'\n",
      " 'C.A. 31921' '28665' 'SCO/W 1585' '367230' 'W./C. 14263'\n",
      " 'STON/O 2. 3101275' '2694' '19928' '347071' '250649' '11751' '244252'\n",
      " '362316' '113514' 'A/5. 3336' '370129' '2650' 'PC 17585' '110152'\n",
      " 'PC 17755' '230433' '384461' '110413' '112059' '382649' 'C.A. 17248'\n",
      " '347083' 'PC 17582' 'PC 17760' '113798' '250644' 'PC 17596' '370375'\n",
      " '13502' '347073' '239853' 'C.A. 2673' '336439' '347464' '345778'\n",
      " 'A/5. 10482' '113056' '349239' '345774' '349206' '237798' '370373'\n",
      " '19877' '11967' 'SC/Paris 2163' '349236' '349233' 'PC 17612' '2693'\n",
      " '113781' '19988' '9234' '367226' '226593' 'A/5 2466' '17421' 'PC 17758'\n",
      " 'P/PP 3381' 'PC 17485' '11767' 'PC 17608' '250651' '349243'\n",
      " 'F.C.C. 13529' '347470' '29011' '36928' '16966' 'A/5 21172' '349219'\n",
      " '234818' '345364' '28551' '111361' '113043' 'PC 17611' '349225' '7598'\n",
      " '113784' '248740' '244361' '229236' '248733' '31418' '386525'\n",
      " 'C.A. 37671' '315088' '7267' '113510' '2695' '2647' '345783' '237671'\n",
      " '330931' '330980' 'SC/PARIS 2167' '2691' 'SOTON/O.Q. 3101310' 'C 7076'\n",
      " '110813' '2626' '14313' 'PC 17477' '11765' '3101267' '323951' 'C 7077'\n",
      " '113503' '2648' '347069' 'PC 17757' '2653' 'STON/O 2. 3101293' '349227'\n",
      " '27849' '367655' 'SC 1748' '113760' '350034' '3101277' '350052' '350407'\n",
      " '28403' '244278' '240929' 'STON/O 2. 3101289' '341826' '4137' '315096'\n",
      " '28664' '347064' '29106' '312992' '349222' '394140' 'STON/O 2. 3101269'\n",
      " '343095' '28220' '250652' '28228' '345773' '349254' 'A/5. 13032' '315082'\n",
      " '347080' 'A/4. 34244' '2003' '250655' '364851' 'SOTON/O.Q. 392078'\n",
      " '110564' '376564' 'SC/AH 3085' 'STON/O 2. 3101274' '13507' 'C.A. 18723'\n",
      " '345769' '347076' '230434' '65306' '33638' '113794' '2666' '113786'\n",
      " '65303' '113051' '17453' 'A/5 2817' '349240' '13509' '17464'\n",
      " 'F.C.C. 13531' '371060' '19952' '364506' '111320' '234360' 'A/S 2816'\n",
      " 'SOTON/O.Q. 3101306' '113792' '36209' '323592' '315089' 'SC/AH Basle 541'\n",
      " '7553' '31027' '3460' '350060' '3101298' '239854' 'A/5 3594' '4134'\n",
      " '11771' 'A.5. 18509' '65304' 'SOTON/OQ 3101317' '113787' 'PC 17609'\n",
      " 'A/4 45380' '36947' 'C.A. 6212' '350035' '315086' '364846' '330909'\n",
      " '4135' '26360' '111427' 'C 4001' '382651' 'SOTON/OQ 3101316' 'PC 17473'\n",
      " 'PC 17603' '349209' '36967' 'C.A. 34260' '226875' '349242' '12749'\n",
      " '349252' '2624' '2700' '367232' 'W./C. 14258' 'PC 17483' '3101296'\n",
      " '29104' '2641' '2690' '315084' '113050' 'PC 17761' '364498' '13568'\n",
      " 'WE/P 5735' '2908' '693' 'SC/PARIS 2146' '244358' '330979' '2620'\n",
      " '347085' '113807' '11755' '345572' '372622' '349251' '218629'\n",
      " 'SOTON/OQ 392082' 'SOTON/O.Q. 392087' 'A/4 48871' '349205' '2686'\n",
      " '350417' 'S.W./PP 752' '11769' 'PC 17474' '14312' 'A/4. 20589' '358585'\n",
      " '243880' '2689' 'STON/O 2. 3101286' '237789' '13049' '3411' '237565'\n",
      " '13567' '14973' 'A./5. 3235' 'STON/O 2. 3101273' 'A/5 3902' '364848'\n",
      " 'SC/AH 29037' '248727' '2664' '349214' '113796' '364511' '111426'\n",
      " '349910' '349246' '113804' 'SOTON/O.Q. 3101305' '370377' '364512'\n",
      " '220845' '31028' '2659' '11753' '350029' '54636' '36963' '219533'\n",
      " '349224' '334912' '27042' '347743' '13214' '112052' '237668'\n",
      " 'STON/O 2. 3101292' '350050' '349231' '13213' 'S.O./P.P. 751' 'CA. 2314'\n",
      " '349221' '8475' '330919' '365226' '349223' '29751' '2623' '5727' '349210'\n",
      " 'STON/O 2. 3101285' '234686' '312993' 'A/5 3536' '19996' '29750'\n",
      " 'F.C. 12750' 'C.A. 24580' '244270' '239856' '349912' '342826' '4138'\n",
      " '330935' '6563' '349228' '350036' '24160' '17474' '349256' '2672'\n",
      " '113800' '248731' '363592' '35852' '348121' 'PC 17475' '36864' '350025'\n",
      " '223596' 'PC 17476' 'PC 17482' '113028' '7545' '250647' '348124' '34218'\n",
      " '36568' '347062' '350048' '12233' '250643' '113806' '315094' '36866'\n",
      " '236853' 'STON/O2. 3101271' '239855' '28425' '233639' '349201' '349218'\n",
      " '16988' '376566' 'STON/O 2. 3101288' '250648' '113773' '335097' '29103'\n",
      " '392096' '345780' '349204' '350042' '29108' '363294' 'SOTON/O2 3101272'\n",
      " '2663' '347074' '112379' '364850' '8471' '345781' '350047' 'S.O./P.P. 3'\n",
      " '2674' '29105' '347078' '383121' '36865' '2687' '113501' 'W./C. 6607'\n",
      " 'SOTON/O.Q. 3101312' '374887' '3101265' '12460' 'PC 17600' '349203'\n",
      " '28213' '17465' '349244' '2685' '2625' '347089' '347063' '112050'\n",
      " '347087' '248723' '3474' '28206' '364499' '112058' 'STON/O2. 3101290'\n",
      " 'S.C./PARIS 2079' 'C 7075' '315098' '19972' '368323' '367228' '2671'\n",
      " '347468' '2223' 'PC 17756' '315097' '392092' '11774' 'SOTON/O2 3101287'\n",
      " '2683' '315090' 'C.A. 5547' '349213' '347060' 'PC 17592' '392091'\n",
      " '113055' '2629' '350026' '28134' '17466' '233866' '236852'\n",
      " 'SC/PARIS 2149' 'PC 17590' '345777' '349248' '695' '345765' '2667'\n",
      " '349212' '349217' '349257' '7552' 'C.A./SOTON 34068' 'SOTON/OQ 392076'\n",
      " '211536' '112053' '111369' '370376'] values \n",
      "\n",
      "\n",
      "Embarked has ['S' 'C' 'Q' nan] values \n",
      "\n",
      "\n"
     ]
    }
   ],
   "source": [
    "for col in cat_features:\n",
    "    print('{} has {} values '.format(col,train[col].unique()))\n",
    "    print('\\n')"
   ]
  },
  {
   "cell_type": "markdown",
   "metadata": {
    "papermill": {
     "duration": 0.077198,
     "end_time": "2021-06-07T10:56:46.526832",
     "exception": false,
     "start_time": "2021-06-07T10:56:46.449634",
     "status": "completed"
    },
    "tags": []
   },
   "source": [
    "#### so Total unique categories doesnot have any dirtiness"
   ]
  },
  {
   "cell_type": "markdown",
   "metadata": {
    "papermill": {
     "duration": 0.077091,
     "end_time": "2021-06-07T10:56:46.681577",
     "exception": false,
     "start_time": "2021-06-07T10:56:46.604486",
     "status": "completed"
    },
    "tags": []
   },
   "source": [
    "### Outlier"
   ]
  },
  {
   "cell_type": "markdown",
   "metadata": {
    "papermill": {
     "duration": 0.076762,
     "end_time": "2021-06-07T10:56:46.835377",
     "exception": false,
     "start_time": "2021-06-07T10:56:46.758615",
     "status": "completed"
    },
    "tags": []
   },
   "source": [
    "# ![Picture3.jpg](data:image/jpeg;base64,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)"
   ]
  },
  {
   "cell_type": "code",
   "execution_count": 26,
   "metadata": {
    "execution": {
     "iopub.execute_input": "2021-06-07T10:56:46.993797Z",
     "iopub.status.busy": "2021-06-07T10:56:46.993040Z",
     "iopub.status.idle": "2021-06-07T10:56:47.662081Z",
     "shell.execute_reply": "2021-06-07T10:56:47.661542Z",
     "shell.execute_reply.started": "2021-06-06T10:39:42.727725Z"
    },
    "papermill": {
     "duration": 0.749596,
     "end_time": "2021-06-07T10:56:47.662263",
     "exception": false,
     "start_time": "2021-06-07T10:56:46.912667",
     "status": "completed"
    },
    "tags": []
   },
   "outputs": [
    {
     "data": {
      "image/png": "[encoded data removed]",
      "text/plain": [
       "<Figure size 1800x720 with 6 Axes>"
      ]
     },
     "metadata": {
      "needs_background": "light"
     },
     "output_type": "display_data"
    }
   ],
   "source": [
    "plt.figure(figsize=(25,10))\n",
    "for i,col in enumerate(num_features):\n",
    "    plt.subplot(2,4,i+1)\n",
    "    sns.boxplot(data[col])"
   ]
  },
  {
   "cell_type": "markdown",
   "metadata": {
    "papermill": {
     "duration": 0.079603,
     "end_time": "2021-06-07T10:56:47.820847",
     "exception": false,
     "start_time": "2021-06-07T10:56:47.741244",
     "status": "completed"
    },
    "tags": []
   },
   "source": [
    "### Almost we don't have Outlier in our num_features"
   ]
  },
  {
   "cell_type": "markdown",
   "metadata": {
    "papermill": {
     "duration": 0.078864,
     "end_time": "2021-06-07T10:56:47.987472",
     "exception": false,
     "start_time": "2021-06-07T10:56:47.908608",
     "status": "completed"
    },
    "tags": []
   },
   "source": [
    "##  Analysing Distributions of data"
   ]
  },
  {
   "cell_type": "code",
   "execution_count": 27,
   "metadata": {
    "execution": {
     "iopub.execute_input": "2021-06-07T10:56:48.175368Z",
     "iopub.status.busy": "2021-06-07T10:56:48.174538Z",
     "iopub.status.idle": "2021-06-07T10:56:49.235213Z",
     "shell.execute_reply": "2021-06-07T10:56:49.234621Z",
     "shell.execute_reply.started": "2021-06-06T10:40:37.608732Z"
    },
    "papermill": {
     "duration": 1.167714,
     "end_time": "2021-06-07T10:56:49.235354",
     "exception": false,
     "start_time": "2021-06-07T10:56:48.067640",
     "status": "completed"
    },
    "tags": []
   },
   "outputs": [
    {
     "data": {
      "image/png": "[encoded data removed]",
      "text/plain": [
       "<Figure size 2880x2880 with 6 Axes>"
      ]
     },
     "metadata": {
      "needs_background": "light"
     },
     "output_type": "display_data"
    }
   ],
   "source": [
    "plt.figure(figsize=(40,40))\n",
    "for i,feature in enumerate(num_features):\n",
    "    plt.subplot(5,3,i+1)\n",
    "    data[feature].hist()\n",
    "    plt.title(feature)"
   ]
  },
  {
   "cell_type": "markdown",
   "metadata": {
    "papermill": {
     "duration": 0.081571,
     "end_time": "2021-06-07T10:56:49.397397",
     "exception": false,
     "start_time": "2021-06-07T10:56:49.315826",
     "status": "completed"
    },
    "tags": []
   },
   "source": [
    "### Observations:\n",
    "    1.age looks a bit left skewed\n",
    "    2.Fare is left skewed\n",
    "    3.SibSp is also left skewed\n",
    "    4.Parch is also left skewed"
   ]
  },
  {
   "cell_type": "markdown",
   "metadata": {
    "execution": {
     "iopub.execute_input": "2021-06-06T10:41:55.391188Z",
     "iopub.status.busy": "2021-06-06T10:41:55.390864Z",
     "iopub.status.idle": "2021-06-06T10:41:55.394896Z",
     "shell.execute_reply": "2021-06-06T10:41:55.394167Z",
     "shell.execute_reply.started": "2021-06-06T10:41:55.391159Z"
    },
    "papermill": {
     "duration": 0.079435,
     "end_time": "2021-06-07T10:56:49.558013",
     "exception": false,
     "start_time": "2021-06-07T10:56:49.478578",
     "status": "completed"
    },
    "tags": []
   },
   "source": [
    "##  Exploring our data"
   ]
  },
  {
   "cell_type": "code",
   "execution_count": 28,
   "metadata": {
    "execution": {
     "iopub.execute_input": "2021-06-07T10:56:49.728063Z",
     "iopub.status.busy": "2021-06-07T10:56:49.727356Z",
     "iopub.status.idle": "2021-06-07T10:56:49.747832Z",
     "shell.execute_reply": "2021-06-07T10:56:49.748316Z",
     "shell.execute_reply.started": "2021-06-06T10:42:15.519929Z"
    },
    "papermill": {
     "duration": 0.110426,
     "end_time": "2021-06-07T10:56:49.748495",
     "exception": false,
     "start_time": "2021-06-07T10:56:49.638069",
     "status": "completed"
    },
    "tags": []
   },
   "outputs": [
    {
     "data": {
      "text/plain": [
       "0.0    61.420932\n",
       "1.0    38.579068\n",
       "Name: Survived, dtype: float64"
      ]
     },
     "execution_count": 28,
     "metadata": {},
     "output_type": "execute_result"
    }
   ],
   "source": [
    "data[\"Survived\"].value_counts() * 100 / len(data) "
   ]
  },
  {
   "cell_type": "code",
   "execution_count": 29,
   "metadata": {
    "execution": {
     "iopub.execute_input": "2021-06-07T10:56:49.920775Z",
     "iopub.status.busy": "2021-06-07T10:56:49.920020Z",
     "iopub.status.idle": "2021-06-07T10:56:50.028167Z",
     "shell.execute_reply": "2021-06-07T10:56:50.027545Z",
     "shell.execute_reply.started": "2021-06-06T10:42:27.773202Z"
    },
    "papermill": {
     "duration": 0.198551,
     "end_time": "2021-06-07T10:56:50.028332",
     "exception": false,
     "start_time": "2021-06-07T10:56:49.829781",
     "status": "completed"
    },
    "tags": []
   },
   "outputs": [
    {
     "data": {
      "text/plain": [
       "<AxesSubplot:ylabel='Survived'>"
      ]
     },
     "execution_count": 29,
     "metadata": {},
     "output_type": "execute_result"
    },
    {
     "data": {
      "image/png": "[encoded data removed]",
      "text/plain": [
       "<Figure size 432x288 with 1 Axes>"
      ]
     },
     "metadata": {},
     "output_type": "display_data"
    }
   ],
   "source": [
    "data[\"Survived\"].value_counts().plot.pie(autopct = \"%1.1f%%\")"
   ]
  },
  {
   "cell_type": "markdown",
   "metadata": {
    "papermill": {
     "duration": 0.081859,
     "end_time": "2021-06-07T10:56:50.192993",
     "exception": false,
     "start_time": "2021-06-07T10:56:50.111134",
     "status": "completed"
    },
    "tags": []
   },
   "source": [
    "#### Survived-->> 61.2%\n",
    "#### Unsurvived-->> 38.8%"
   ]
  },
  {
   "cell_type": "code",
   "execution_count": 30,
   "metadata": {
    "execution": {
     "iopub.execute_input": "2021-06-07T10:56:50.395167Z",
     "iopub.status.busy": "2021-06-07T10:56:50.387482Z",
     "iopub.status.idle": "2021-06-07T10:56:50.461467Z",
     "shell.execute_reply": "2021-06-07T10:56:50.460898Z",
     "shell.execute_reply.started": "2021-06-06T10:44:02.5745Z"
    },
    "papermill": {
     "duration": 0.185174,
     "end_time": "2021-06-07T10:56:50.461612",
     "exception": false,
     "start_time": "2021-06-07T10:56:50.276438",
     "status": "completed"
    },
    "tags": []
   },
   "outputs": [
    {
     "data": {
      "text/plain": [
       "<AxesSubplot:ylabel='Sex'>"
      ]
     },
     "execution_count": 30,
     "metadata": {},
     "output_type": "execute_result"
    },
    {
     "data": {
      "image/png": "[encoded data removed]",
      "text/plain": [
       "<Figure size 432x288 with 1 Axes>"
      ]
     },
     "metadata": {},
     "output_type": "display_data"
    }
   ],
   "source": [
    "data[\"Sex\"].value_counts().plot.pie(autopct = \"%1.1f%%\")"
   ]
  },
  {
   "cell_type": "code",
   "execution_count": 31,
   "metadata": {
    "execution": {
     "iopub.execute_input": "2021-06-07T10:56:50.647836Z",
     "iopub.status.busy": "2021-06-07T10:56:50.647170Z",
     "iopub.status.idle": "2021-06-07T10:56:50.857756Z",
     "shell.execute_reply": "2021-06-07T10:56:50.857079Z",
     "shell.execute_reply.started": "2021-06-06T10:43:07.422118Z"
    },
    "papermill": {
     "duration": 0.310175,
     "end_time": "2021-06-07T10:56:50.857922",
     "exception": false,
     "start_time": "2021-06-07T10:56:50.547747",
     "status": "completed"
    },
    "tags": []
   },
   "outputs": [
    {
     "data": {
      "image/png": "[encoded data removed]",
      "text/plain": [
       "<Figure size 576x576 with 1 Axes>"
      ]
     },
     "metadata": {
      "needs_background": "light"
     },
     "output_type": "display_data"
    }
   ],
   "source": [
    "plt.figure(figsize=(8,8))\n",
    "sns.barplot(x='Survived',y='Pclass',data=data,palette='Set1')\n",
    "plt.xticks([0,1],['Survived','Unsurvived'])\n",
    "plt.ylim(0,3)\n",
    "plt.xlabel('Survived or not')\n",
    "plt.ylabel('Pclass')\n",
    "plt.title(\"Pclass\")\n",
    "ax=plt.gca()\n",
    "ax.spines['top'].set_visible(False)\n",
    "ax.spines['right'].set_visible(False)"
   ]
  },
  {
   "cell_type": "code",
   "execution_count": 32,
   "metadata": {
    "execution": {
     "iopub.execute_input": "2021-06-07T10:56:51.073886Z",
     "iopub.status.busy": "2021-06-07T10:56:51.070344Z",
     "iopub.status.idle": "2021-06-07T10:56:51.277634Z",
     "shell.execute_reply": "2021-06-07T10:56:51.276936Z",
     "shell.execute_reply.started": "2021-06-06T10:43:21.154089Z"
    },
    "papermill": {
     "duration": 0.31023,
     "end_time": "2021-06-07T10:56:51.277793",
     "exception": false,
     "start_time": "2021-06-07T10:56:50.967563",
     "status": "completed"
    },
    "tags": []
   },
   "outputs": [
    {
     "data": {
      "image/png": "[encoded data removed]",
      "text/plain": [
       "<Figure size 576x576 with 1 Axes>"
      ]
     },
     "metadata": {
      "needs_background": "light"
     },
     "output_type": "display_data"
    }
   ],
   "source": [
    "plt.figure(figsize=(8,8))\n",
    "sns.barplot(x='Survived',y='Age',data=data,palette='Set1')\n",
    "plt.xticks([0,1],['Survived','Unsurvived'])\n",
    "plt.ylim(0,40)\n",
    "plt.xlabel('Survived or not')\n",
    "plt.ylabel('Age')\n",
    "plt.title(\"Age\")\n",
    "ax=plt.gca()\n",
    "ax.spines['top'].set_visible(False)\n",
    "ax.spines['right'].set_visible(False)"
   ]
  },
  {
   "cell_type": "code",
   "execution_count": 33,
   "metadata": {
    "execution": {
     "iopub.execute_input": "2021-06-07T10:56:51.456862Z",
     "iopub.status.busy": "2021-06-07T10:56:51.454623Z",
     "iopub.status.idle": "2021-06-07T10:56:51.796219Z",
     "shell.execute_reply": "2021-06-07T10:56:51.795442Z",
     "shell.execute_reply.started": "2021-06-06T10:44:24.64882Z"
    },
    "papermill": {
     "duration": 0.43451,
     "end_time": "2021-06-07T10:56:51.796389",
     "exception": false,
     "start_time": "2021-06-07T10:56:51.361879",
     "status": "completed"
    },
    "tags": []
   },
   "outputs": [
    {
     "data": {
      "image/png": "[encoded data removed]",
      "text/plain": [
       "<Figure size 576x576 with 1 Axes>"
      ]
     },
     "metadata": {
      "needs_background": "light"
     },
     "output_type": "display_data"
    }
   ],
   "source": [
    "plt.figure(figsize=(8,8))\n",
    "sns.barplot(x='Survived',y='SibSp',data=data,palette='Set1')\n",
    "plt.xticks([0,1],['Survived','Unsurvived'])\n",
    "plt.ylim(0,1)\n",
    "plt.xlabel('Survived or not')\n",
    "plt.ylabel('SibSp')\n",
    "plt.title(\"SibSp\")\n",
    "ax=plt.gca()\n",
    "ax.spines['top'].set_visible(False)\n",
    "ax.spines['right'].set_visible(False)"
   ]
  },
  {
   "cell_type": "code",
   "execution_count": 34,
   "metadata": {
    "execution": {
     "iopub.execute_input": "2021-06-07T10:56:51.980515Z",
     "iopub.status.busy": "2021-06-07T10:56:51.979549Z",
     "iopub.status.idle": "2021-06-07T10:56:52.177540Z",
     "shell.execute_reply": "2021-06-07T10:56:52.176873Z",
     "shell.execute_reply.started": "2021-06-06T10:44:40.904802Z"
    },
    "papermill": {
     "duration": 0.293598,
     "end_time": "2021-06-07T10:56:52.177684",
     "exception": false,
     "start_time": "2021-06-07T10:56:51.884086",
     "status": "completed"
    },
    "tags": []
   },
   "outputs": [
    {
     "data": {
      "image/png": "[encoded data removed]",
      "text/plain": [
       "<Figure size 576x576 with 1 Axes>"
      ]
     },
     "metadata": {
      "needs_background": "light"
     },
     "output_type": "display_data"
    }
   ],
   "source": [
    "plt.figure(figsize=(8,8))\n",
    "sns.barplot(x='Survived',y='Parch',data=data,palette='Set1')\n",
    "plt.xticks([0,1],['Survived','Unsurvived'])\n",
    "plt.ylim(0,0.5)\n",
    "plt.xlabel('Survived or not')\n",
    "plt.ylabel('Parch')\n",
    "plt.title(\"Parch\")\n",
    "ax=plt.gca()\n",
    "ax.spines['top'].set_visible(False)\n",
    "ax.spines['right'].set_visible(False)"
   ]
  },
  {
   "cell_type": "code",
   "execution_count": 35,
   "metadata": {
    "execution": {
     "iopub.execute_input": "2021-06-07T10:56:52.364500Z",
     "iopub.status.busy": "2021-06-07T10:56:52.363447Z",
     "iopub.status.idle": "2021-06-07T10:56:52.551611Z",
     "shell.execute_reply": "2021-06-07T10:56:52.551041Z",
     "shell.execute_reply.started": "2021-06-06T10:44:54.705975Z"
    },
    "papermill": {
     "duration": 0.285978,
     "end_time": "2021-06-07T10:56:52.551755",
     "exception": false,
     "start_time": "2021-06-07T10:56:52.265777",
     "status": "completed"
    },
    "tags": []
   },
   "outputs": [
    {
     "data": {
      "image/png": "[encoded data removed]",
      "text/plain": [
       "<Figure size 576x576 with 1 Axes>"
      ]
     },
     "metadata": {
      "needs_background": "light"
     },
     "output_type": "display_data"
    }
   ],
   "source": [
    "plt.figure(figsize=(8,8))\n",
    "sns.barplot(x='Survived',y='Fare',data=data,palette='Set1')\n",
    "plt.xticks([0,1],['Survived','Unsurvived'])\n",
    "plt.ylim(0,50)\n",
    "plt.xlabel('Survived or not')\n",
    "plt.ylabel('Fare')\n",
    "plt.title(\"Fare\")\n",
    "ax=plt.gca()\n",
    "ax.spines['top'].set_visible(False)\n",
    "ax.spines['right'].set_visible(False)"
   ]
  },
  {
   "cell_type": "code",
   "execution_count": 36,
   "metadata": {
    "execution": {
     "iopub.execute_input": "2021-06-07T10:56:52.730812Z",
     "iopub.status.busy": "2021-06-07T10:56:52.729702Z",
     "iopub.status.idle": "2021-06-07T10:56:52.732007Z",
     "shell.execute_reply": "2021-06-07T10:56:52.732477Z",
     "shell.execute_reply.started": "2021-06-06T10:49:31.68855Z"
    },
    "papermill": {
     "duration": 0.095054,
     "end_time": "2021-06-07T10:56:52.732655",
     "exception": false,
     "start_time": "2021-06-07T10:56:52.637601",
     "status": "completed"
    },
    "tags": []
   },
   "outputs": [],
   "source": [
    "### Defining violin and scatter plot & kde_plot functions\n",
    "\n",
    "def violin(col):\n",
    "    fig = px.violin(data, y=col, x=\"Survived\", color=\"Survived\", box=True)\n",
    "    return fig.show()\n",
    "\n",
    "def scatters(col1,col2):\n",
    "    fig = px.scatter(data, x=col1, y=col2, color=\"Survived\")\n",
    "    return fig.show()\n",
    "\n",
    "def kde_plot(feature):\n",
    "    grid = sns.FacetGrid(data, hue=\"Survived\",aspect=2)\n",
    "    grid.map(sns.kdeplot, feature)\n",
    "    grid.add_legend()"
   ]
  },
  {
   "cell_type": "code",
   "execution_count": 37,
   "metadata": {
    "execution": {
     "iopub.execute_input": "2021-06-07T10:56:52.907095Z",
     "iopub.status.busy": "2021-06-07T10:56:52.906167Z",
     "iopub.status.idle": "2021-06-07T10:56:53.251408Z",
     "shell.execute_reply": "2021-06-07T10:56:53.250851Z",
     "shell.execute_reply.started": "2021-06-06T10:49:44.13581Z"
    },
    "papermill": {
     "duration": 0.433767,
     "end_time": "2021-06-07T10:56:53.251566",
     "exception": false,
     "start_time": "2021-06-07T10:56:52.817799",
     "status": "completed"
    },
    "tags": []
   },
   "outputs": [
    {
     "data": {
      "image/png": "[encoded data removed]",
      "text/plain": [
       "<Figure size 483.875x216 with 1 Axes>"
      ]
     },
     "metadata": {
      "needs_background": "light"
     },
     "output_type": "display_data"
    }
   ],
   "source": [
    "kde_plot('Fare')"
   ]
  },
  {
   "cell_type": "code",
   "execution_count": 38,
   "metadata": {
    "execution": {
     "iopub.execute_input": "2021-06-07T10:56:53.431974Z",
     "iopub.status.busy": "2021-06-07T10:56:53.431209Z",
     "iopub.status.idle": "2021-06-07T10:56:53.777764Z",
     "shell.execute_reply": "2021-06-07T10:56:53.777232Z",
     "shell.execute_reply.started": "2021-06-06T10:49:54.537794Z"
    },
    "papermill": {
     "duration": 0.438074,
     "end_time": "2021-06-07T10:56:53.777925",
     "exception": false,
     "start_time": "2021-06-07T10:56:53.339851",
     "status": "completed"
    },
    "tags": []
   },
   "outputs": [
    {
     "data": {
      "image/png": "[encoded data removed]",
      "text/plain": [
       "<Figure size 483.875x216 with 1 Axes>"
      ]
     },
     "metadata": {
      "needs_background": "light"
     },
     "output_type": "display_data"
    }
   ],
   "source": [
    "kde_plot('Pclass')"
   ]
  },
  {
   "cell_type": "code",
   "execution_count": 39,
   "metadata": {
    "execution": {
     "iopub.execute_input": "2021-06-07T10:56:53.960106Z",
     "iopub.status.busy": "2021-06-07T10:56:53.959433Z",
     "iopub.status.idle": "2021-06-07T10:56:54.274027Z",
     "shell.execute_reply": "2021-06-07T10:56:54.274556Z",
     "shell.execute_reply.started": "2021-06-06T10:50:05.714369Z"
    },
    "papermill": {
     "duration": 0.407521,
     "end_time": "2021-06-07T10:56:54.274738",
     "exception": false,
     "start_time": "2021-06-07T10:56:53.867217",
     "status": "completed"
    },
    "tags": []
   },
   "outputs": [
    {
     "data": {
      "image/png": "[encoded data removed]",
      "text/plain": [
       "<Figure size 483.875x216 with 1 Axes>"
      ]
     },
     "metadata": {
      "needs_background": "light"
     },
     "output_type": "display_data"
    }
   ],
   "source": [
    "kde_plot('SibSp')"
   ]
  },
  {
   "cell_type": "code",
   "execution_count": 40,
   "metadata": {
    "execution": {
     "iopub.execute_input": "2021-06-07T10:56:54.453440Z",
     "iopub.status.busy": "2021-06-07T10:56:54.452803Z",
     "iopub.status.idle": "2021-06-07T10:56:54.799765Z",
     "shell.execute_reply": "2021-06-07T10:56:54.800248Z",
     "shell.execute_reply.started": "2021-06-06T10:50:19.31573Z"
    },
    "papermill": {
     "duration": 0.437894,
     "end_time": "2021-06-07T10:56:54.800450",
     "exception": false,
     "start_time": "2021-06-07T10:56:54.362556",
     "status": "completed"
    },
    "tags": []
   },
   "outputs": [
    {
     "data": {
      "image/png": "[encoded data removed]",
      "text/plain": [
       "<Figure size 483.875x216 with 1 Axes>"
      ]
     },
     "metadata": {
      "needs_background": "light"
     },
     "output_type": "display_data"
    }
   ],
   "source": [
    "kde_plot('Age')"
   ]
  },
  {
   "cell_type": "code",
   "execution_count": 41,
   "metadata": {
    "execution": {
     "iopub.execute_input": "2021-06-07T10:56:54.983579Z",
     "iopub.status.busy": "2021-06-07T10:56:54.982930Z",
     "iopub.status.idle": "2021-06-07T10:56:55.317057Z",
     "shell.execute_reply": "2021-06-07T10:56:55.317568Z",
     "shell.execute_reply.started": "2021-06-06T10:50:33.376677Z"
    },
    "papermill": {
     "duration": 0.427829,
     "end_time": "2021-06-07T10:56:55.317741",
     "exception": false,
     "start_time": "2021-06-07T10:56:54.889912",
     "status": "completed"
    },
    "tags": []
   },
   "outputs": [
    {
     "data": {
      "image/png": "[encoded data removed]",
      "text/plain": [
       "<Figure size 483.875x216 with 1 Axes>"
      ]
     },
     "metadata": {
      "needs_background": "light"
     },
     "output_type": "display_data"
    }
   ],
   "source": [
    "kde_plot('Parch')"
   ]
  },
  {
   "cell_type": "code",
   "execution_count": 42,
   "metadata": {
    "execution": {
     "iopub.execute_input": "2021-06-07T10:56:55.500002Z",
     "iopub.status.busy": "2021-06-07T10:56:55.499428Z",
     "iopub.status.idle": "2021-06-07T10:56:56.606551Z",
     "shell.execute_reply": "2021-06-07T10:56:56.607013Z",
     "shell.execute_reply.started": "2021-06-06T10:50:44.924169Z"
    },
    "papermill": {
     "duration": 1.199997,
     "end_time": "2021-06-07T10:56:56.607222",
     "exception": false,
     "start_time": "2021-06-07T10:56:55.407225",
     "status": "completed"
    },
    "tags": []
   },
   "outputs": [
    {
     "data": {
      "text/html": [
       "        <script type=\"text/javascript\">\n",
       "        window.PlotlyConfig = {MathJaxConfig: 'local'};\n",
       "        if (window.MathJax) {MathJax.Hub.Config({SVG: {font: \"STIX-Web\"}});}\n",
       "        if (typeof require !== 'undefined') {\n",
       "        require.undef(\"plotly\");\n",
       "        requirejs.config({\n",
       "            paths: {\n",
       "                'plotly': ['https://cdn.plot.ly/plotly-latest.min']\n",
       "            }\n",
       "        });\n",
       "        require(['plotly'], function(Plotly) {\n",
       "            window._Plotly = Plotly;\n",
       "        });\n",
       "        }\n",
       "        </script>\n",
       "        "
      ]
     },
     "metadata": {},
     "output_type": "display_data"
    },
    {
     "data": {
      "text/html": [
       "<div>                            <div id=\"9431b733-8d14-446b-9f9a-9feb5ebe65ae\" class=\"plotly-graph-div\" style=\"height:525px; width:100%;\"></div>            <script type=\"text/javascript\">                require([\"plotly\"], function(Plotly) {                    window.PLOTLYENV=window.PLOTLYENV || {};                                    if (document.getElementById(\"9431b733-8d14-446b-9f9a-9feb5ebe65ae\")) {                    Plotly.newPlot(                        \"9431b733-8d14-446b-9f9a-9feb5ebe65ae\",                        [{\"alignmentgroup\": \"True\", \"box\": {\"visible\": true}, \"hovertemplate\": \"Survived=%{x}<br>Age=%{y}<extra></extra>\", \"legendgroup\": \"0.0\", \"marker\": {\"color\": \"#636efa\"}, \"name\": \"0.0\", \"offsetgroup\": \"0.0\", \"orientation\": \"v\", \"scalegroup\": \"True\", \"showlegend\": true, \"type\": \"violin\", \"x\": [0.0, 0.0, 0.0, 0.0, 0.0, 0.0, 0.0, 0.0, 0.0, 0.0, 0.0, 0.0, 0.0, 0.0, 0.0, 0.0, 0.0, 0.0, 0.0, 0.0, 0.0, 0.0, 0.0, 0.0, 0.0, 0.0, 0.0, 0.0, 0.0, 0.0, 0.0, 0.0, 0.0, 0.0, 0.0, 0.0, 0.0, 0.0, 0.0, 0.0, 0.0, 0.0, 0.0, 0.0, 0.0, 0.0, 0.0, 0.0, 0.0, 0.0, 0.0, 0.0, 0.0, 0.0, 0.0, 0.0, 0.0, 0.0, 0.0, 0.0, 0.0, 0.0, 0.0, 0.0, 0.0, 0.0, 0.0, 0.0, 0.0, 0.0, 0.0, 0.0, 0.0, 0.0, 0.0, 0.0, 0.0, 0.0, 0.0, 0.0, 0.0, 0.0, 0.0, 0.0, 0.0, 0.0, 0.0, 0.0, 0.0, 0.0, 0.0, 0.0, 0.0, 0.0, 0.0, 0.0, 0.0, 0.0, 0.0, 0.0, 0.0, 0.0, 0.0, 0.0, 0.0, 0.0, 0.0, 0.0, 0.0, 0.0, 0.0, 0.0, 0.0, 0.0, 0.0, 0.0, 0.0, 0.0, 0.0, 0.0, 0.0, 0.0, 0.0, 0.0, 0.0, 0.0, 0.0, 0.0, 0.0, 0.0, 0.0, 0.0, 0.0, 0.0, 0.0, 0.0, 0.0, 0.0, 0.0, 0.0, 0.0, 0.0, 0.0, 0.0, 0.0, 0.0, 0.0, 0.0, 0.0, 0.0, 0.0, 0.0, 0.0, 0.0, 0.0, 0.0, 0.0, 0.0, 0.0, 0.0, 0.0, 0.0, 0.0, 0.0, 0.0, 0.0, 0.0, 0.0, 0.0, 0.0, 0.0, 0.0, 0.0, 0.0, 0.0, 0.0, 0.0, 0.0, 0.0, 0.0, 0.0, 0.0, 0.0, 0.0, 0.0, 0.0, 0.0, 0.0, 0.0, 0.0, 0.0, 0.0, 0.0, 0.0, 0.0, 0.0, 0.0, 0.0, 0.0, 0.0, 0.0, 0.0, 0.0, 0.0, 0.0, 0.0, 0.0, 0.0, 0.0, 0.0, 0.0, 0.0, 0.0, 0.0, 0.0, 0.0, 0.0, 0.0, 0.0, 0.0, 0.0, 0.0, 0.0, 0.0, 0.0, 0.0, 0.0, 0.0, 0.0, 0.0, 0.0, 0.0, 0.0, 0.0, 0.0, 0.0, 0.0, 0.0, 0.0, 0.0, 0.0, 0.0, 0.0, 0.0, 0.0, 0.0, 0.0, 0.0, 0.0, 0.0, 0.0, 0.0, 0.0, 0.0, 0.0, 0.0, 0.0, 0.0, 0.0, 0.0, 0.0, 0.0, 0.0, 0.0, 0.0, 0.0, 0.0, 0.0, 0.0, 0.0, 0.0, 0.0, 0.0, 0.0, 0.0, 0.0, 0.0, 0.0, 0.0, 0.0, 0.0, 0.0, 0.0, 0.0, 0.0, 0.0, 0.0, 0.0, 0.0, 0.0, 0.0, 0.0, 0.0, 0.0, 0.0, 0.0, 0.0, 0.0, 0.0, 0.0, 0.0, 0.0, 0.0, 0.0, 0.0, 0.0, 0.0, 0.0, 0.0, 0.0, 0.0, 0.0, 0.0, 0.0, 0.0, 0.0, 0.0, 0.0, 0.0, 0.0, 0.0, 0.0, 0.0, 0.0, 0.0, 0.0, 0.0, 0.0, 0.0, 0.0, 0.0, 0.0, 0.0, 0.0, 0.0, 0.0, 0.0, 0.0, 0.0, 0.0, 0.0, 0.0, 0.0, 0.0, 0.0, 0.0, 0.0, 0.0, 0.0, 0.0, 0.0, 0.0, 0.0, 0.0, 0.0, 0.0, 0.0, 0.0, 0.0, 0.0, 0.0, 0.0, 0.0, 0.0, 0.0, 0.0, 0.0, 0.0, 0.0, 0.0, 0.0, 0.0, 0.0, 0.0, 0.0, 0.0, 0.0, 0.0, 0.0, 0.0, 0.0, 0.0, 0.0, 0.0, 0.0, 0.0, 0.0, 0.0, 0.0, 0.0, 0.0, 0.0, 0.0, 0.0, 0.0, 0.0, 0.0, 0.0, 0.0, 0.0, 0.0, 0.0, 0.0, 0.0, 0.0, 0.0, 0.0, 0.0, 0.0, 0.0, 0.0, 0.0, 0.0, 0.0, 0.0, 0.0, 0.0, 0.0, 0.0, 0.0, 0.0, 0.0, 0.0, 0.0, 0.0, 0.0, 0.0, 0.0, 0.0, 0.0, 0.0, 0.0, 0.0, 0.0, 0.0, 0.0, 0.0, 0.0, 0.0, 0.0, 0.0, 0.0, 0.0, 0.0, 0.0, 0.0, 0.0, 0.0, 0.0, 0.0, 0.0, 0.0, 0.0, 0.0, 0.0, 0.0, 0.0, 0.0, 0.0, 0.0, 0.0, 0.0, 0.0, 0.0, 0.0, 0.0, 0.0, 0.0, 0.0, 0.0, 0.0, 0.0, 0.0, 0.0, 0.0, 0.0, 0.0, 0.0, 0.0, 0.0, 0.0, 0.0, 0.0, 0.0, 0.0, 0.0, 0.0, 0.0, 0.0, 0.0, 0.0, 0.0, 0.0, 0.0, 0.0, 0.0, 0.0, 0.0, 0.0, 0.0, 0.0, 0.0, 0.0, 0.0, 0.0, 0.0, 0.0, 0.0, 0.0, 0.0, 0.0, 0.0, 0.0, 0.0, 0.0, 0.0, 0.0, 0.0, 0.0, 0.0, 0.0, 0.0, 0.0, 0.0, 0.0, 0.0, 0.0, 0.0, 0.0, 0.0, 0.0, 0.0, 0.0, 0.0, 0.0, 0.0, 0.0, 0.0, 0.0, 0.0, 0.0, 0.0, 0.0, 0.0, 0.0, 0.0, 0.0, 0.0, 0.0, 0.0, 0.0, 0.0, 0.0, 0.0, 0.0, 0.0, 0.0, 0.0, 0.0, 0.0, 0.0, 0.0, 0.0, 0.0, 0.0, 0.0, 0.0, 0.0, 0.0, 0.0, 0.0, 0.0, 0.0, 0.0, 0.0, 0.0, 0.0, 0.0, 0.0, 0.0, 0.0, 0.0, 0.0, 0.0, 0.0, 0.0, 0.0, 0.0, 0.0, 0.0, 0.0, 0.0, 0.0, 0.0, 0.0, 0.0, 0.0, 0.0, 0.0, 0.0, 0.0, 0.0, 0.0, 0.0, 0.0, 0.0, 0.0, 0.0, 0.0, 0.0, 0.0, 0.0, 0.0, 0.0, 0.0, 0.0, 0.0, 0.0, 0.0, 0.0, 0.0, 0.0, 0.0, 0.0, 0.0, 0.0, 0.0, 0.0, 0.0, 0.0, 0.0, 0.0, 0.0, 0.0, 0.0, 0.0, 0.0, 0.0, 0.0, 0.0, 0.0, 0.0, 0.0, 0.0, 0.0, 0.0, 0.0, 0.0, 0.0, 0.0, 0.0, 0.0, 0.0, 0.0, 0.0, 0.0, 0.0, 0.0, 0.0, 0.0, 0.0, 0.0, 0.0, 0.0, 0.0, 0.0, 0.0, 0.0, 0.0, 0.0, 0.0, 0.0, 0.0, 0.0, 0.0, 0.0, 0.0, 0.0, 0.0, 0.0, 0.0, 0.0, 0.0, 0.0, 0.0, 0.0, 0.0, 0.0, 0.0, 0.0, 0.0, 0.0, 0.0, 0.0, 0.0, 0.0, 0.0, 0.0, 0.0, 0.0, 0.0, 0.0, 0.0, 0.0, 0.0, 0.0, 0.0, 0.0, 0.0, 0.0, 0.0, 0.0, 0.0, 0.0, 0.0, 0.0, 0.0, 0.0, 0.0, 0.0, 0.0, 0.0, 0.0, 0.0, 0.0, 0.0, 0.0, 0.0, 0.0, 0.0, 0.0, 0.0, 0.0, 0.0, 0.0, 0.0, 0.0, 0.0, 0.0, 0.0, 0.0, 0.0, 0.0, 0.0, 0.0, 0.0, 0.0, 0.0, 0.0, 0.0, 0.0, 0.0, 0.0, 0.0, 0.0, 0.0, 0.0, 0.0, 0.0, 0.0, 0.0, 0.0, 0.0, 0.0, 0.0, 0.0, 0.0, 0.0, 0.0, 0.0, 0.0, 0.0, 0.0, 0.0, 0.0, 0.0, 0.0, 0.0, 0.0, 0.0, 0.0, 0.0, 0.0, 0.0, 0.0, 0.0, 0.0, 0.0, 0.0, 0.0, 0.0, 0.0, 0.0, 0.0, 0.0, 0.0, 0.0, 0.0, 0.0, 0.0, 0.0, 0.0, 0.0, 0.0], \"x0\": \" \", \"xaxis\": \"x\", \"y\": [22.0, 35.0, 25.0, 54.0, 2.0, 20.0, 39.0, 14.0, 2.0, 31.0, 35.0, 8.0, 24.0, 19.0, 35.0, 40.0, 66.0, 28.0, 42.0, 21.0, 18.0, 40.0, 27.0, 54.0, 20.0, 32.0, 27.0, 18.0, 7.0, 21.0, 65.0, 28.5, 11.0, 22.0, 45.0, 4.0, 47.0, 19.0, 26.0, 32.0, 16.0, 21.0, 26.0, 25.0, 41.0, 15.0, 22.0, 28.0, 16.0, 38.0, 24.0, 29.0, 20.0, 46.0, 26.0, 59.0, 36.0, 71.0, 34.0, 28.0, 45.0, 21.0, 33.0, 37.0, 28.0, 38.0, 47.0, 14.5, 22.0, 20.0, 17.0, 21.0, 70.5, 29.0, 24.0, 2.0, 21.0, 18.0, 32.5, 54.0, 18.0, 45.0, 33.0, 20.0, 47.0, 25.0, 23.0, 37.0, 16.0, 24.0, 22.0, 19.0, 18.0, 19.0, 9.0, 36.5, 42.0, 51.0, 55.5, 40.5, 20.0, 51.0, 30.0, 42.0, 1.0, 44.0, 26.0, 17.0, 1.0, 45.0, 29.0, 28.0, 61.0, 4.0, 21.0, 56.0, 18.0, 26.0, 50.0, 30.0, 36.0, 22.0, 35.0, 9.0, 19.0, 40.0, 36.0, 19.0, 4.0, 42.0, 24.0, 28.0, 27.0, 34.0, 45.5, 2.0, 32.0, 24.0, 22.0, 30.0, 39.0, 42.0, 30.0, 27.0, 51.0, 32.0, 22.0, 20.5, 18.0, 26.0, 29.0, 59.0, 24.0, 50.0, 44.0, 19.0, 33.0, 16.0, 29.0, 22.0, 30.0, 44.0, 25.0, 54.0, 17.0, 29.0, 62.0, 30.0, 41.0, 55.0, 52.0, 40.0, 41.0, 36.0, 16.0, 32.0, 37.0, 45.0, 40.0, 7.0, 65.0, 28.0, 16.0, 35.0, 33.0, 22.0, 36.0, 24.0, 24.0, 35.0, 23.5, 2.0, 19.0, 43.0, 30.0, 26.0, 28.0, 43.0, 54.0, 22.0, 27.0, 21.0, 61.0, 45.5, 38.0, 16.0, 9.0, 29.0, 45.0, 28.0, 25.0, 36.0, 42.0, 23.0, 66.0, 15.0, 25.0, 27.0, 28.0, 38.0, 40.0, 29.0, 45.0, 35.0, 26.0, 30.0, 18.0, 19.0, 22.0, 3.0, 27.0, 20.0, 19.0, 32.0, 34.0, 18.0, 1.0, 1.0, 28.0, 22.0, 31.0, 46.0, 23.0, 26.0, 21.0, 28.0, 20.0, 34.0, 51.0, 21.0, 30.0, 25.0, 28.5, 21.0, 21.0, 30.0, 10.0, 29.0, 21.0, 29.0, 28.0, 18.0, 54.0, 45.0, 17.0, 50.0, 21.0, 64.0, 31.0, 20.0, 25.0, 36.0, 39.0, 30.0, 14.0, 65.0, 24.0, 34.0, 47.0, 48.0, 40.0, 38.0, 47.0, 56.0, 18.0, 31.0, 38.0, 22.0, 23.0, 34.0, 29.0, 22.0, 9.0, 31.0, 50.0, 35.0, 58.0, 30.0, 44.0, 21.0, 55.0, 71.0, 21.0, 18.0, 25.0, 25.0, 24.0, 17.0, 21.0, 56.0, 37.0, 18.0, 28.0, 34.5, 24.0, 47.0, 8.0, 32.0, 22.0, 25.0, 24.0, 40.5, 22.0, 39.0, 23.0, 48.0, 17.0, 30.0, 45.0, 51.0, 9.0, 11.0, 50.0, 64.0, 33.0, 27.0, 58.0, 62.0, 34.0, 24.0, 40.0, 28.0, 60.0, 15.0, 24.0, 19.0, 29.0, 45.5, 16.0, 19.0, 29.0, 54.0, 36.0, 33.0, 47.0, 22.0, 14.0, 35.0, 47.0, 48.0, 37.0, 36.0, 49.0, 17.0, 19.0, 21.0, 44.0, 36.0, 30.0, 39.0, 23.0, 8.0, 35.0, 34.0, 26.0, 26.0, 27.0, 21.0, 21.0, 61.0, 57.0, 26.0, 30.0, 51.0, 19.0, 9.0, 32.0, 31.0, 41.0, 31.0, 20.0, 2.0, 19.0, 39.0, 45.0, 21.0, 18.0, 24.0, 53.0, 32.0, 23.0, 58.0, 40.0, 47.0, 36.0, 32.0, 25.0, 24.0, 43.0, 31.0, 70.0, 44.0, 18.0, 24.5, 43.0, 21.0, 20.0, 14.0, 60.0, 25.0, 14.0, 19.0, 18.0, 25.0, 60.0, 52.0, 44.0, 49.0, 42.0, 18.0, 25.0, 26.0, 39.0, 11.0, 29.0, 52.0, 19.0, 17.0, 33.0, 17.0, 34.0, 50.0, 20.0, 25.0, 25.0, 11.0, 38.0, 23.0, 23.0, 28.5, 48.0, 34.0, 50.0, 36.0, 24.0, 70.0, 16.0, 19.0, 31.0, 33.0, 23.0, 28.0, 18.0, 34.0, 29.0, 41.0, 16.0, 18.0, 30.5, 41.0, 32.0, 24.0, 48.0, 57.0, 24.0, 18.0, 34.0, 57.0, 29.0, 22.0, 25.0, 25.0, 8.0, 46.0, 25.0, 16.0, 24.0, 16.0, 25.0, 39.0, 30.0, 30.0, 34.0, 31.0, 39.0, 18.0, 39.0, 26.0, 39.0, 35.0, 6.0, 30.5, 55.0, 23.0, 31.0, 43.0, 10.0, 38.0, 2.0, 16.0, 0.92, 28.0, 23.0, 18.0, 21.0, 11.0, 20.0, 16.0, 34.5, 17.0, 42.0, 22.0, 35.0, 28.0, 4.0, 74.0, 9.0, 44.0, 22.0, 41.0, 21.0, 24.0, 24.0, 31.0, 18.0, 26.0, 33.0, 47.0, 20.0, 19.0, 20.0, 33.0, 22.0, 28.0, 25.0, 39.0, 27.0, 27.0, 32.0, 34.5, 47.0, 27.0, 22.0, 30.0, 26.0, 18.0, 21.0, 9.0, 23.0, 24.0, 35.0, 21.0, 45.0, 55.0, 9.0, 58.0, 21.0, 50.0, 22.0, 50.0, 33.0, 36.0, 30.0, 21.0, 21.0, 16.0, 41.0, 30.0, 45.0, 24.0, 20.0, 28.0, 10.0, 35.0, 3.0, 17.0, 18.0, 36.5, 47.0, 60.0, 21.0, 28.5, 35.0, 30.0, 24.0, 49.0, 22.0, 27.0, 18.0, 30.0, 22.0, 27.0, 62.0, 29.0, 33.0, 43.0, 27.0, 26.0, 28.0, 21.0, 46.0, 18.5, 41.0, 36.0, 18.5, 14.0, 1.0, 29.0, 4.0, 28.0, 17.0, 42.0, 32.0, 53.0, 28.0, 24.0, 43.0, 24.0, 26.5, 26.0, 40.0, 10.0, 33.0, 61.0, 20.5, 30.0, 23.0, 33.0, 60.5, 36.0, 24.0, 23.0, 26.0, 45.0, 26.0, 34.0, 48.0, 22.0, 54.0, 23.0, 40.0, 15.0, 54.0, 36.0, 64.0, 30.0, 18.0, 46.0, 17.0, 40.0, 34.0, 11.5, 8.0, 33.0, 6.0, 18.0, 28.0, 47.0, 25.0, 26.0, 24.0, 12.0, 17.0, 60.0, 42.0, 30.0, 57.0, 29.0, 30.0, 21.0, 53.0, 23.0, 40.5, 36.0, 14.0, 21.0, 21.0, 39.0, 20.0, 64.0, 20.0, 48.0, 45.0, 45.0, 3.0, 41.0, 22.0, 42.0, 29.0, 27.0, 20.0, 28.0, 21.0, 36.5, 21.0, 29.0, 30.0, 41.0, 45.0, 29.0, 17.0, 46.0, 58.0, 22.0, 28.0, 30.0, 22.0, 23.0, 40.0, 9.0, 36.0, 26.0, 24.0, 30.0, 21.0, 26.0, 1.0, 36.0, 29.0, 64.0, 30.0, 0.83, 55.0, 45.0, 18.0, 25.0, 37.0, 55.0, 17.0, 57.0, 27.0, 26.0, 25.0, 26.0, 33.0, 39.0, 23.0, 12.0, 48.0, 39.0, 9.0, 19.0, 27.0, 30.0, 25.0, 18.0, 32.0, 56.0, 58.0, 16.0, 26.0, 31.0, 45.0, 25.0, 18.0, 49.0, 50.0, 19.0, 30.0, 14.5, 24.0, 27.0, 25.0, 39.0, 4.0, 22.0, 29.0, 21.0, 31.0, 44.0, 22.0, 55.0, 5.0, 26.0, 19.0, 30.0, 24.0, 57.0, 21.0, 6.0, 51.0, 47.0, 18.0, 48.0, 22.0, 30.0, 38.0, 22.0, 43.0, 23.0, 30.0, 39.0, 38.5, 42.0], \"y0\": \" \", \"yaxis\": \"y\"}, {\"alignmentgroup\": \"True\", \"box\": {\"visible\": true}, \"hovertemplate\": \"Survived=%{x}<br>Age=%{y}<extra></extra>\", \"legendgroup\": \"1.0\", \"marker\": {\"color\": \"#EF553B\"}, \"name\": \"1.0\", \"offsetgroup\": \"1.0\", \"orientation\": \"v\", \"scalegroup\": \"True\", \"showlegend\": true, \"type\": \"violin\", \"x\": [1.0, 1.0, 1.0, 1.0, 1.0, 1.0, 1.0, 1.0, 1.0, 1.0, 1.0, 1.0, 1.0, 1.0, 1.0, 1.0, 1.0, 1.0, 1.0, 1.0, 1.0, 1.0, 1.0, 1.0, 1.0, 1.0, 1.0, 1.0, 1.0, 1.0, 1.0, 1.0, 1.0, 1.0, 1.0, 1.0, 1.0, 1.0, 1.0, 1.0, 1.0, 1.0, 1.0, 1.0, 1.0, 1.0, 1.0, 1.0, 1.0, 1.0, 1.0, 1.0, 1.0, 1.0, 1.0, 1.0, 1.0, 1.0, 1.0, 1.0, 1.0, 1.0, 1.0, 1.0, 1.0, 1.0, 1.0, 1.0, 1.0, 1.0, 1.0, 1.0, 1.0, 1.0, 1.0, 1.0, 1.0, 1.0, 1.0, 1.0, 1.0, 1.0, 1.0, 1.0, 1.0, 1.0, 1.0, 1.0, 1.0, 1.0, 1.0, 1.0, 1.0, 1.0, 1.0, 1.0, 1.0, 1.0, 1.0, 1.0, 1.0, 1.0, 1.0, 1.0, 1.0, 1.0, 1.0, 1.0, 1.0, 1.0, 1.0, 1.0, 1.0, 1.0, 1.0, 1.0, 1.0, 1.0, 1.0, 1.0, 1.0, 1.0, 1.0, 1.0, 1.0, 1.0, 1.0, 1.0, 1.0, 1.0, 1.0, 1.0, 1.0, 1.0, 1.0, 1.0, 1.0, 1.0, 1.0, 1.0, 1.0, 1.0, 1.0, 1.0, 1.0, 1.0, 1.0, 1.0, 1.0, 1.0, 1.0, 1.0, 1.0, 1.0, 1.0, 1.0, 1.0, 1.0, 1.0, 1.0, 1.0, 1.0, 1.0, 1.0, 1.0, 1.0, 1.0, 1.0, 1.0, 1.0, 1.0, 1.0, 1.0, 1.0, 1.0, 1.0, 1.0, 1.0, 1.0, 1.0, 1.0, 1.0, 1.0, 1.0, 1.0, 1.0, 1.0, 1.0, 1.0, 1.0, 1.0, 1.0, 1.0, 1.0, 1.0, 1.0, 1.0, 1.0, 1.0, 1.0, 1.0, 1.0, 1.0, 1.0, 1.0, 1.0, 1.0, 1.0, 1.0, 1.0, 1.0, 1.0, 1.0, 1.0, 1.0, 1.0, 1.0, 1.0, 1.0, 1.0, 1.0, 1.0, 1.0, 1.0, 1.0, 1.0, 1.0, 1.0, 1.0, 1.0, 1.0, 1.0, 1.0, 1.0, 1.0, 1.0, 1.0, 1.0, 1.0, 1.0, 1.0, 1.0, 1.0, 1.0, 1.0, 1.0, 1.0, 1.0, 1.0, 1.0, 1.0, 1.0, 1.0, 1.0, 1.0, 1.0, 1.0, 1.0, 1.0, 1.0, 1.0, 1.0, 1.0, 1.0, 1.0, 1.0, 1.0, 1.0, 1.0, 1.0, 1.0, 1.0, 1.0, 1.0, 1.0, 1.0, 1.0, 1.0, 1.0, 1.0, 1.0, 1.0, 1.0, 1.0, 1.0, 1.0, 1.0, 1.0, 1.0, 1.0, 1.0, 1.0, 1.0, 1.0, 1.0, 1.0, 1.0, 1.0, 1.0, 1.0, 1.0, 1.0, 1.0, 1.0, 1.0, 1.0, 1.0, 1.0, 1.0, 1.0, 1.0, 1.0, 1.0, 1.0, 1.0, 1.0, 1.0, 1.0, 1.0, 1.0, 1.0, 1.0, 1.0, 1.0, 1.0, 1.0, 1.0, 1.0, 1.0, 1.0, 1.0, 1.0, 1.0, 1.0, 1.0, 1.0, 1.0, 1.0, 1.0, 1.0, 1.0, 1.0, 1.0, 1.0, 1.0, 1.0, 1.0, 1.0, 1.0, 1.0, 1.0, 1.0, 1.0, 1.0, 1.0, 1.0, 1.0, 1.0, 1.0, 1.0, 1.0, 1.0, 1.0, 1.0, 1.0, 1.0, 1.0, 1.0, 1.0, 1.0, 1.0, 1.0, 1.0, 1.0, 1.0, 1.0, 1.0, 1.0, 1.0, 1.0, 1.0, 1.0, 1.0, 1.0, 1.0, 1.0, 1.0, 1.0, 1.0, 1.0, 1.0, 1.0, 1.0, 1.0, 1.0, 1.0, 1.0, 1.0, 1.0, 1.0, 1.0, 1.0, 1.0, 1.0, 1.0, 1.0, 1.0, 1.0, 1.0, 1.0, 1.0, 1.0, 1.0, 1.0, 1.0, 1.0, 1.0, 1.0, 1.0, 1.0, 1.0, 1.0, 1.0, 1.0, 1.0, 1.0, 1.0, 1.0, 1.0, 1.0, 1.0, 1.0, 1.0, 1.0, 1.0, 1.0, 1.0, 1.0, 1.0, 1.0, 1.0, 1.0, 1.0, 1.0, 1.0, 1.0, 1.0, 1.0, 1.0, 1.0, 1.0, 1.0, 1.0, 1.0, 1.0, 1.0, 1.0, 1.0, 1.0, 1.0, 1.0, 1.0, 1.0, 1.0, 1.0, 1.0, 1.0, 1.0, 1.0, 1.0, 1.0, 1.0, 1.0, 1.0, 1.0, 1.0, 1.0, 1.0, 1.0, 1.0, 1.0, 1.0, 1.0, 1.0, 1.0, 1.0, 1.0, 1.0, 1.0, 1.0, 1.0, 1.0, 1.0, 1.0, 1.0, 1.0, 1.0, 1.0, 1.0, 1.0, 1.0, 1.0, 1.0, 1.0, 1.0], \"x0\": \" \", \"xaxis\": \"x\", \"y\": [38.0, 26.0, 35.0, 27.0, 14.0, 4.0, 58.0, 55.0, 36.0, 24.0, 34.0, 15.0, 28.0, 38.0, 27.0, 22.0, 17.0, 18.0, 14.0, 3.0, 19.0, 21.0, 49.0, 29.0, 19.0, 21.0, 5.0, 38.0, 48.0, 29.0, 17.0, 32.0, 0.83, 30.0, 29.0, 25.0, 17.0, 33.0, 23.0, 23.0, 34.0, 21.0, 27.0, 27.0, 32.5, 12.0, 24.0, 29.0, 29.0, 19.0, 22.0, 24.0, 27.0, 22.0, 16.0, 40.0, 9.0, 22.0, 1.0, 1.0, 4.0, 39.0, 45.0, 32.0, 19.0, 3.0, 44.0, 58.0, 6.0, 18.0, 26.0, 16.0, 40.0, 35.0, 31.0, 27.0, 32.0, 16.0, 38.0, 19.0, 35.0, 5.0, 8.0, 10.0, 24.0, 37.0, 29.0, 11.5, 30.0, 35.0, 50.0, 3.0, 25.0, 58.0, 35.0, 25.0, 41.0, 17.0, 63.0, 35.0, 19.0, 30.0, 42.0, 22.0, 26.0, 19.0, 40.0, 50.0, 22.5, 9.0, 31.0, 0.92, 27.0, 17.0, 30.0, 24.0, 18.0, 26.0, 24.0, 31.0, 40.0, 30.0, 22.0, 36.0, 36.0, 31.0, 16.0, 24.0, 8.0, 41.0, 45.0, 2.0, 24.0, 24.0, 40.0, 36.0, 3.0, 22.0, 48.0, 9.0, 60.0, 33.0, 29.0, 24.0, 25.0, 47.0, 22.0, 42.0, 1.0, 35.0, 36.0, 17.0, 36.0, 21.0, 23.0, 24.0, 28.0, 39.0, 3.0, 33.0, 44.0, 34.0, 18.0, 28.0, 19.0, 32.0, 28.0, 21.0, 42.0, 14.0, 24.0, 45.0, 28.0, 47.0, 4.0, 13.0, 34.0, 5.0, 52.0, 49.0, 29.0, 26.0, 50.0, 48.0, 0.75, 33.0, 23.0, 2.0, 63.0, 25.0, 35.0, 9.0, 54.0, 16.0, 33.0, 32.0, 26.0, 29.0, 36.0, 54.0, 34.0, 36.0, 30.0, 44.0, 50.0, 2.0, 28.0, 7.0, 30.0, 22.0, 36.0, 32.0, 19.0, 62.0, 8.0, 17.0, 22.0, 22.0, 48.0, 39.0, 36.0, 32.0, 62.0, 53.0, 36.0, 22.0, 34.0, 39.0, 32.0, 25.0, 39.0, 18.0, 60.0, 52.0, 26.0, 49.0, 24.0, 35.0, 27.0, 22.0, 40.0, 20.0, 24.0, 4.0, 42.0, 20.0, 21.0, 80.0, 32.0, 28.0, 24.0, 43.0, 0.75, 48.0, 56.0, 23.0, 18.0, 27.0, 50.0, 20.0, 62.0, 40.0, 31.0, 18.0, 36.0, 27.0, 15.0, 31.0, 4.0, 40.5, 25.0, 18.0, 35.0, 45.0, 42.0, 22.0, 46.0, 24.0, 48.0, 38.0, 27.0, 6.0, 27.0, 30.0, 13.0, 29.0, 35.0, 24.0, 21.0, 31.0, 30.0, 4.0, 6.0, 48.0, 0.67, 33.0, 20.0, 36.0, 51.0, 54.0, 5.0, 43.0, 13.0, 17.0, 18.0, 1.0, 49.0, 31.0, 31.0, 11.0, 0.42, 27.0, 33.0, 52.0, 27.0, 27.0, 1.0, 62.0, 62.0, 15.0, 0.83, 39.0, 32.0, 9.0, 30.0, 15.0, 16.0, 18.0, 45.0, 51.0, 24.0, 48.0, 42.0, 27.0, 4.0, 47.0, 28.0, 15.0, 56.0, 25.0, 19.0, 26.0, 62.0, 14.0, 46.0, 63.0, 47.0, 27.0, 48.0, 22.5, 41.0, 63.0, 24.0, 18.5, 25.0, 50.0, 39.0, 25.0, 45.0, 39.0, 60.0, 36.0, 27.0, 4.0, 25.0, 36.0, 32.0, 22.0, 13.0, 18.0, 31.0, 24.0, 29.0, 32.5, 30.0, 55.0, 6.0, 67.0, 25.0, 49.0, 2.0, 44.0, 25.0, 25.0, 76.0, 20.0, 36.0, 16.0, 21.0, 20.0, 63.0, 18.0, 36.0, 12.0, 35.0, 37.0, 22.0, 21.0, 24.0, 23.0, 28.0, 42.0, 31.0, 13.0, 22.0, 13.0, 29.0, 42.0, 7.0, 41.0, 26.0, 18.0, 7.0, 27.0, 16.0, 20.0, 37.0, 27.0, 40.0, 21.0, 18.0, 30.0, 61.0, 23.0, 42.0, 0.33, 8.0, 35.0, 33.0, 25.0, 32.0, 38.0, 50.0, 22.0, 21.0, 32.0, 26.0, 35.0, 18.0, 55.0, 24.0, 29.0, 0.92, 20.0, 24.0, 32.5, 47.0, 19.0, 1.0, 18.0, 26.0, 48.0, 20.0, 40.0, 0.75, 2.0, 26.0, 24.0, 24.0, 53.0, 36.0, 30.0, 32.0, 28.0, 43.0, 24.0, 22.0, 22.0, 19.0, 22.0, 46.0, 29.0, 21.0, 32.0, 39.0, 0.42, 1.0, 38.0, 24.0, 0.17, 59.0, 18.0, 31.0, 45.0, 49.0, 54.0, 45.0, 21.0, 40.0, 18.0, 24.0, 23.0, 13.0, 29.0, 24.0, 31.0, 17.0, 20.0, 50.0, 25.0, 3.0, 37.0, 28.0, 50.0, 0.83], \"y0\": \" \", \"yaxis\": \"y\"}],                        {\"legend\": {\"title\": {\"text\": \"Survived\"}, \"tracegroupgap\": 0}, \"margin\": {\"t\": 60}, \"template\": {\"data\": {\"bar\": [{\"error_x\": {\"color\": \"#2a3f5f\"}, \"error_y\": {\"color\": \"#2a3f5f\"}, \"marker\": {\"line\": {\"color\": \"#E5ECF6\", \"width\": 0.5}}, \"type\": \"bar\"}], \"barpolar\": [{\"marker\": {\"line\": {\"color\": \"#E5ECF6\", \"width\": 0.5}}, \"type\": \"barpolar\"}], \"carpet\": [{\"aaxis\": {\"endlinecolor\": \"#2a3f5f\", \"gridcolor\": \"white\", \"linecolor\": \"white\", \"minorgridcolor\": \"white\", \"startlinecolor\": \"#2a3f5f\"}, \"baxis\": {\"endlinecolor\": \"#2a3f5f\", \"gridcolor\": \"white\", \"linecolor\": \"white\", \"minorgridcolor\": \"white\", \"startlinecolor\": \"#2a3f5f\"}, \"type\": \"carpet\"}], \"choropleth\": [{\"colorbar\": {\"outlinewidth\": 0, \"ticks\": \"\"}, \"type\": \"choropleth\"}], \"contour\": [{\"colorbar\": {\"outlinewidth\": 0, \"ticks\": \"\"}, \"colorscale\": [[0.0, \"#0d0887\"], [0.1111111111111111, \"#46039f\"], [0.2222222222222222, \"#7201a8\"], [0.3333333333333333, \"#9c179e\"], [0.4444444444444444, \"#bd3786\"], [0.5555555555555556, \"#d8576b\"], [0.6666666666666666, \"#ed7953\"], [0.7777777777777778, \"#fb9f3a\"], [0.8888888888888888, \"#fdca26\"], [1.0, \"#f0f921\"]], \"type\": \"contour\"}], \"contourcarpet\": [{\"colorbar\": {\"outlinewidth\": 0, \"ticks\": \"\"}, \"type\": \"contourcarpet\"}], \"heatmap\": [{\"colorbar\": {\"outlinewidth\": 0, \"ticks\": \"\"}, \"colorscale\": [[0.0, \"#0d0887\"], [0.1111111111111111, \"#46039f\"], [0.2222222222222222, \"#7201a8\"], [0.3333333333333333, \"#9c179e\"], [0.4444444444444444, \"#bd3786\"], [0.5555555555555556, \"#d8576b\"], [0.6666666666666666, \"#ed7953\"], [0.7777777777777778, \"#fb9f3a\"], [0.8888888888888888, \"#fdca26\"], [1.0, \"#f0f921\"]], \"type\": \"heatmap\"}], \"heatmapgl\": [{\"colorbar\": {\"outlinewidth\": 0, \"ticks\": \"\"}, \"colorscale\": [[0.0, \"#0d0887\"], [0.1111111111111111, \"#46039f\"], [0.2222222222222222, \"#7201a8\"], [0.3333333333333333, \"#9c179e\"], [0.4444444444444444, \"#bd3786\"], [0.5555555555555556, \"#d8576b\"], [0.6666666666666666, \"#ed7953\"], [0.7777777777777778, \"#fb9f3a\"], [0.8888888888888888, \"#fdca26\"], [1.0, \"#f0f921\"]], \"type\": \"heatmapgl\"}], \"histogram\": [{\"marker\": {\"colorbar\": {\"outlinewidth\": 0, \"ticks\": \"\"}}, \"type\": \"histogram\"}], \"histogram2d\": [{\"colorbar\": {\"outlinewidth\": 0, \"ticks\": \"\"}, \"colorscale\": [[0.0, \"#0d0887\"], [0.1111111111111111, \"#46039f\"], [0.2222222222222222, \"#7201a8\"], [0.3333333333333333, \"#9c179e\"], [0.4444444444444444, \"#bd3786\"], [0.5555555555555556, \"#d8576b\"], [0.6666666666666666, \"#ed7953\"], [0.7777777777777778, \"#fb9f3a\"], [0.8888888888888888, \"#fdca26\"], [1.0, \"#f0f921\"]], \"type\": \"histogram2d\"}], \"histogram2dcontour\": [{\"colorbar\": {\"outlinewidth\": 0, \"ticks\": \"\"}, \"colorscale\": [[0.0, \"#0d0887\"], [0.1111111111111111, \"#46039f\"], [0.2222222222222222, \"#7201a8\"], [0.3333333333333333, \"#9c179e\"], [0.4444444444444444, \"#bd3786\"], [0.5555555555555556, \"#d8576b\"], [0.6666666666666666, \"#ed7953\"], [0.7777777777777778, \"#fb9f3a\"], [0.8888888888888888, \"#fdca26\"], [1.0, \"#f0f921\"]], \"type\": \"histogram2dcontour\"}], \"mesh3d\": [{\"colorbar\": {\"outlinewidth\": 0, \"ticks\": \"\"}, \"type\": \"mesh3d\"}], \"parcoords\": [{\"line\": {\"colorbar\": {\"outlinewidth\": 0, \"ticks\": \"\"}}, \"type\": \"parcoords\"}], \"pie\": [{\"automargin\": true, \"type\": \"pie\"}], \"scatter\": [{\"marker\": {\"colorbar\": {\"outlinewidth\": 0, \"ticks\": \"\"}}, \"type\": \"scatter\"}], \"scatter3d\": [{\"line\": {\"colorbar\": {\"outlinewidth\": 0, \"ticks\": \"\"}}, \"marker\": {\"colorbar\": {\"outlinewidth\": 0, \"ticks\": \"\"}}, \"type\": \"scatter3d\"}], \"scattercarpet\": [{\"marker\": {\"colorbar\": {\"outlinewidth\": 0, \"ticks\": \"\"}}, \"type\": \"scattercarpet\"}], \"scattergeo\": [{\"marker\": {\"colorbar\": {\"outlinewidth\": 0, \"ticks\": \"\"}}, \"type\": \"scattergeo\"}], \"scattergl\": [{\"marker\": {\"colorbar\": {\"outlinewidth\": 0, \"ticks\": \"\"}}, \"type\": \"scattergl\"}], \"scattermapbox\": [{\"marker\": {\"colorbar\": {\"outlinewidth\": 0, \"ticks\": \"\"}}, \"type\": \"scattermapbox\"}], \"scatterpolar\": [{\"marker\": {\"colorbar\": {\"outlinewidth\": 0, \"ticks\": \"\"}}, \"type\": \"scatterpolar\"}], \"scatterpolargl\": [{\"marker\": {\"colorbar\": {\"outlinewidth\": 0, \"ticks\": \"\"}}, \"type\": \"scatterpolargl\"}], \"scatterternary\": [{\"marker\": {\"colorbar\": {\"outlinewidth\": 0, \"ticks\": \"\"}}, \"type\": \"scatterternary\"}], \"surface\": [{\"colorbar\": {\"outlinewidth\": 0, \"ticks\": \"\"}, \"colorscale\": [[0.0, \"#0d0887\"], [0.1111111111111111, \"#46039f\"], [0.2222222222222222, \"#7201a8\"], [0.3333333333333333, \"#9c179e\"], [0.4444444444444444, \"#bd3786\"], [0.5555555555555556, \"#d8576b\"], [0.6666666666666666, \"#ed7953\"], [0.7777777777777778, \"#fb9f3a\"], [0.8888888888888888, \"#fdca26\"], [1.0, \"#f0f921\"]], \"type\": \"surface\"}], \"table\": [{\"cells\": {\"fill\": {\"color\": \"#EBF0F8\"}, \"line\": {\"color\": \"white\"}}, \"header\": {\"fill\": {\"color\": \"#C8D4E3\"}, \"line\": {\"color\": \"white\"}}, \"type\": \"table\"}]}, \"layout\": {\"annotationdefaults\": {\"arrowcolor\": \"#2a3f5f\", \"arrowhead\": 0, \"arrowwidth\": 1}, \"autotypenumbers\": \"strict\", \"coloraxis\": {\"colorbar\": {\"outlinewidth\": 0, \"ticks\": \"\"}}, \"colorscale\": {\"diverging\": [[0, \"#8e0152\"], [0.1, \"#c51b7d\"], [0.2, \"#de77ae\"], [0.3, \"#f1b6da\"], [0.4, \"#fde0ef\"], [0.5, \"#f7f7f7\"], [0.6, \"#e6f5d0\"], [0.7, \"#b8e186\"], [0.8, \"#7fbc41\"], [0.9, \"#4d9221\"], [1, \"#276419\"]], \"sequential\": [[0.0, \"#0d0887\"], [0.1111111111111111, \"#46039f\"], [0.2222222222222222, \"#7201a8\"], [0.3333333333333333, \"#9c179e\"], [0.4444444444444444, \"#bd3786\"], [0.5555555555555556, \"#d8576b\"], [0.6666666666666666, \"#ed7953\"], [0.7777777777777778, \"#fb9f3a\"], [0.8888888888888888, \"#fdca26\"], [1.0, \"#f0f921\"]], \"sequentialminus\": [[0.0, \"#0d0887\"], [0.1111111111111111, \"#46039f\"], [0.2222222222222222, \"#7201a8\"], [0.3333333333333333, \"#9c179e\"], [0.4444444444444444, \"#bd3786\"], [0.5555555555555556, \"#d8576b\"], [0.6666666666666666, \"#ed7953\"], [0.7777777777777778, \"#fb9f3a\"], [0.8888888888888888, \"#fdca26\"], [1.0, \"#f0f921\"]]}, \"colorway\": [\"#636efa\", \"#EF553B\", \"#00cc96\", \"#ab63fa\", \"#FFA15A\", \"#19d3f3\", \"#FF6692\", \"#B6E880\", \"#FF97FF\", \"#FECB52\"], \"font\": {\"color\": \"#2a3f5f\"}, \"geo\": {\"bgcolor\": \"white\", \"lakecolor\": \"white\", \"landcolor\": \"#E5ECF6\", \"showlakes\": true, \"showland\": true, \"subunitcolor\": \"white\"}, \"hoverlabel\": {\"align\": \"left\"}, \"hovermode\": \"closest\", \"mapbox\": {\"style\": \"light\"}, \"paper_bgcolor\": \"white\", \"plot_bgcolor\": \"#E5ECF6\", \"polar\": {\"angularaxis\": {\"gridcolor\": \"white\", \"linecolor\": \"white\", \"ticks\": \"\"}, \"bgcolor\": \"#E5ECF6\", \"radialaxis\": {\"gridcolor\": \"white\", \"linecolor\": \"white\", \"ticks\": \"\"}}, \"scene\": {\"xaxis\": {\"backgroundcolor\": \"#E5ECF6\", \"gridcolor\": \"white\", \"gridwidth\": 2, \"linecolor\": \"white\", \"showbackground\": true, \"ticks\": \"\", \"zerolinecolor\": \"white\"}, \"yaxis\": {\"backgroundcolor\": \"#E5ECF6\", \"gridcolor\": \"white\", \"gridwidth\": 2, \"linecolor\": \"white\", \"showbackground\": true, \"ticks\": \"\", \"zerolinecolor\": \"white\"}, \"zaxis\": {\"backgroundcolor\": \"#E5ECF6\", \"gridcolor\": \"white\", \"gridwidth\": 2, \"linecolor\": \"white\", \"showbackground\": true, \"ticks\": \"\", \"zerolinecolor\": \"white\"}}, \"shapedefaults\": {\"line\": {\"color\": \"#2a3f5f\"}}, \"ternary\": {\"aaxis\": {\"gridcolor\": \"white\", \"linecolor\": \"white\", \"ticks\": \"\"}, \"baxis\": {\"gridcolor\": \"white\", \"linecolor\": \"white\", \"ticks\": \"\"}, \"bgcolor\": \"#E5ECF6\", \"caxis\": {\"gridcolor\": \"white\", \"linecolor\": \"white\", \"ticks\": \"\"}}, \"title\": {\"x\": 0.05}, \"xaxis\": {\"automargin\": true, \"gridcolor\": \"white\", \"linecolor\": \"white\", \"ticks\": \"\", \"title\": {\"standoff\": 15}, \"zerolinecolor\": \"white\", \"zerolinewidth\": 2}, \"yaxis\": {\"automargin\": true, \"gridcolor\": \"white\", \"linecolor\": \"white\", \"ticks\": \"\", \"title\": {\"standoff\": 15}, \"zerolinecolor\": \"white\", \"zerolinewidth\": 2}}}, \"violinmode\": \"overlay\", \"xaxis\": {\"anchor\": \"y\", \"categoryarray\": [0.0, 1.0], \"categoryorder\": \"array\", \"domain\": [0.0, 1.0], \"title\": {\"text\": \"Survived\"}}, \"yaxis\": {\"anchor\": \"x\", \"domain\": [0.0, 1.0], \"title\": {\"text\": \"Age\"}}},                        {\"responsive\": true}                    ).then(function(){\n",
       "                            \n",
       "var gd = document.getElementById('9431b733-8d14-446b-9f9a-9feb5ebe65ae');\n",
       "var x = new MutationObserver(function (mutations, observer) {{\n",
       "        var display = window.getComputedStyle(gd).display;\n",
       "        if (!display || display === 'none') {{\n",
       "            console.log([gd, 'removed!']);\n",
       "            Plotly.purge(gd);\n",
       "            observer.disconnect();\n",
       "        }}\n",
       "}});\n",
       "\n",
       "// Listen for the removal of the full notebook cells\n",
       "var notebookContainer = gd.closest('#notebook-container');\n",
       "if (notebookContainer) {{\n",
       "    x.observe(notebookContainer, {childList: true});\n",
       "}}\n",
       "\n",
       "// Listen for the clearing of the current output cell\n",
       "var outputEl = gd.closest('.output');\n",
       "if (outputEl) {{\n",
       "    x.observe(outputEl, {childList: true});\n",
       "}}\n",
       "\n",
       "                        })                };                });            </script>        </div>"
      ]
     },
     "metadata": {},
     "output_type": "display_data"
    }
   ],
   "source": [
    "violin('Age')"
   ]
  },
  {
   "cell_type": "code",
   "execution_count": 43,
   "metadata": {
    "execution": {
     "iopub.execute_input": "2021-06-07T10:56:56.811054Z",
     "iopub.status.busy": "2021-06-07T10:56:56.809976Z",
     "iopub.status.idle": "2021-06-07T10:56:56.872091Z",
     "shell.execute_reply": "2021-06-07T10:56:56.871532Z",
     "shell.execute_reply.started": "2021-06-06T10:51:09.579842Z"
    },
    "papermill": {
     "duration": 0.173061,
     "end_time": "2021-06-07T10:56:56.872269",
     "exception": false,
     "start_time": "2021-06-07T10:56:56.699208",
     "status": "completed"
    },
    "tags": []
   },
   "outputs": [
    {
     "data": {
      "text/html": [
       "<div>                            <div id=\"024e4512-43e8-497a-ba32-dc1e85b91af8\" class=\"plotly-graph-div\" style=\"height:525px; width:100%;\"></div>            <script type=\"text/javascript\">                require([\"plotly\"], function(Plotly) {                    window.PLOTLYENV=window.PLOTLYENV || {};                                    if (document.getElementById(\"024e4512-43e8-497a-ba32-dc1e85b91af8\")) {                    Plotly.newPlot(                        \"024e4512-43e8-497a-ba32-dc1e85b91af8\",                        [{\"alignmentgroup\": \"True\", \"box\": {\"visible\": true}, \"hovertemplate\": \"Survived=%{x}<br>Parch=%{y}<extra></extra>\", \"legendgroup\": \"0.0\", \"marker\": {\"color\": \"#636efa\"}, \"name\": \"0.0\", \"offsetgroup\": \"0.0\", \"orientation\": \"v\", \"scalegroup\": \"True\", \"showlegend\": true, \"type\": \"violin\", \"x\": [0.0, 0.0, 0.0, 0.0, 0.0, 0.0, 0.0, 0.0, 0.0, 0.0, 0.0, 0.0, 0.0, 0.0, 0.0, 0.0, 0.0, 0.0, 0.0, 0.0, 0.0, 0.0, 0.0, 0.0, 0.0, 0.0, 0.0, 0.0, 0.0, 0.0, 0.0, 0.0, 0.0, 0.0, 0.0, 0.0, 0.0, 0.0, 0.0, 0.0, 0.0, 0.0, 0.0, 0.0, 0.0, 0.0, 0.0, 0.0, 0.0, 0.0, 0.0, 0.0, 0.0, 0.0, 0.0, 0.0, 0.0, 0.0, 0.0, 0.0, 0.0, 0.0, 0.0, 0.0, 0.0, 0.0, 0.0, 0.0, 0.0, 0.0, 0.0, 0.0, 0.0, 0.0, 0.0, 0.0, 0.0, 0.0, 0.0, 0.0, 0.0, 0.0, 0.0, 0.0, 0.0, 0.0, 0.0, 0.0, 0.0, 0.0, 0.0, 0.0, 0.0, 0.0, 0.0, 0.0, 0.0, 0.0, 0.0, 0.0, 0.0, 0.0, 0.0, 0.0, 0.0, 0.0, 0.0, 0.0, 0.0, 0.0, 0.0, 0.0, 0.0, 0.0, 0.0, 0.0, 0.0, 0.0, 0.0, 0.0, 0.0, 0.0, 0.0, 0.0, 0.0, 0.0, 0.0, 0.0, 0.0, 0.0, 0.0, 0.0, 0.0, 0.0, 0.0, 0.0, 0.0, 0.0, 0.0, 0.0, 0.0, 0.0, 0.0, 0.0, 0.0, 0.0, 0.0, 0.0, 0.0, 0.0, 0.0, 0.0, 0.0, 0.0, 0.0, 0.0, 0.0, 0.0, 0.0, 0.0, 0.0, 0.0, 0.0, 0.0, 0.0, 0.0, 0.0, 0.0, 0.0, 0.0, 0.0, 0.0, 0.0, 0.0, 0.0, 0.0, 0.0, 0.0, 0.0, 0.0, 0.0, 0.0, 0.0, 0.0, 0.0, 0.0, 0.0, 0.0, 0.0, 0.0, 0.0, 0.0, 0.0, 0.0, 0.0, 0.0, 0.0, 0.0, 0.0, 0.0, 0.0, 0.0, 0.0, 0.0, 0.0, 0.0, 0.0, 0.0, 0.0, 0.0, 0.0, 0.0, 0.0, 0.0, 0.0, 0.0, 0.0, 0.0, 0.0, 0.0, 0.0, 0.0, 0.0, 0.0, 0.0, 0.0, 0.0, 0.0, 0.0, 0.0, 0.0, 0.0, 0.0, 0.0, 0.0, 0.0, 0.0, 0.0, 0.0, 0.0, 0.0, 0.0, 0.0, 0.0, 0.0, 0.0, 0.0, 0.0, 0.0, 0.0, 0.0, 0.0, 0.0, 0.0, 0.0, 0.0, 0.0, 0.0, 0.0, 0.0, 0.0, 0.0, 0.0, 0.0, 0.0, 0.0, 0.0, 0.0, 0.0, 0.0, 0.0, 0.0, 0.0, 0.0, 0.0, 0.0, 0.0, 0.0, 0.0, 0.0, 0.0, 0.0, 0.0, 0.0, 0.0, 0.0, 0.0, 0.0, 0.0, 0.0, 0.0, 0.0, 0.0, 0.0, 0.0, 0.0, 0.0, 0.0, 0.0, 0.0, 0.0, 0.0, 0.0, 0.0, 0.0, 0.0, 0.0, 0.0, 0.0, 0.0, 0.0, 0.0, 0.0, 0.0, 0.0, 0.0, 0.0, 0.0, 0.0, 0.0, 0.0, 0.0, 0.0, 0.0, 0.0, 0.0, 0.0, 0.0, 0.0, 0.0, 0.0, 0.0, 0.0, 0.0, 0.0, 0.0, 0.0, 0.0, 0.0, 0.0, 0.0, 0.0, 0.0, 0.0, 0.0, 0.0, 0.0, 0.0, 0.0, 0.0, 0.0, 0.0, 0.0, 0.0, 0.0, 0.0, 0.0, 0.0, 0.0, 0.0, 0.0, 0.0, 0.0, 0.0, 0.0, 0.0, 0.0, 0.0, 0.0, 0.0, 0.0, 0.0, 0.0, 0.0, 0.0, 0.0, 0.0, 0.0, 0.0, 0.0, 0.0, 0.0, 0.0, 0.0, 0.0, 0.0, 0.0, 0.0, 0.0, 0.0, 0.0, 0.0, 0.0, 0.0, 0.0, 0.0, 0.0, 0.0, 0.0, 0.0, 0.0, 0.0, 0.0, 0.0, 0.0, 0.0, 0.0, 0.0, 0.0, 0.0, 0.0, 0.0, 0.0, 0.0, 0.0, 0.0, 0.0, 0.0, 0.0, 0.0, 0.0, 0.0, 0.0, 0.0, 0.0, 0.0, 0.0, 0.0, 0.0, 0.0, 0.0, 0.0, 0.0, 0.0, 0.0, 0.0, 0.0, 0.0, 0.0, 0.0, 0.0, 0.0, 0.0, 0.0, 0.0, 0.0, 0.0, 0.0, 0.0, 0.0, 0.0, 0.0, 0.0, 0.0, 0.0, 0.0, 0.0, 0.0, 0.0, 0.0, 0.0, 0.0, 0.0, 0.0, 0.0, 0.0, 0.0, 0.0, 0.0, 0.0, 0.0, 0.0, 0.0, 0.0, 0.0, 0.0, 0.0, 0.0, 0.0, 0.0, 0.0, 0.0, 0.0, 0.0, 0.0, 0.0, 0.0, 0.0, 0.0, 0.0, 0.0, 0.0, 0.0, 0.0, 0.0, 0.0, 0.0, 0.0, 0.0, 0.0, 0.0, 0.0, 0.0, 0.0, 0.0, 0.0, 0.0, 0.0, 0.0, 0.0, 0.0, 0.0, 0.0, 0.0, 0.0, 0.0, 0.0, 0.0, 0.0, 0.0, 0.0, 0.0, 0.0, 0.0, 0.0, 0.0, 0.0, 0.0, 0.0, 0.0, 0.0, 0.0, 0.0, 0.0, 0.0, 0.0, 0.0, 0.0, 0.0, 0.0, 0.0, 0.0, 0.0, 0.0, 0.0, 0.0, 0.0, 0.0, 0.0, 0.0, 0.0, 0.0, 0.0, 0.0, 0.0, 0.0, 0.0, 0.0, 0.0, 0.0, 0.0, 0.0, 0.0, 0.0, 0.0, 0.0, 0.0, 0.0, 0.0, 0.0, 0.0, 0.0, 0.0, 0.0, 0.0, 0.0, 0.0, 0.0, 0.0, 0.0, 0.0, 0.0, 0.0, 0.0, 0.0, 0.0, 0.0, 0.0, 0.0, 0.0, 0.0, 0.0, 0.0, 0.0, 0.0, 0.0, 0.0, 0.0, 0.0, 0.0, 0.0, 0.0, 0.0, 0.0, 0.0, 0.0, 0.0, 0.0, 0.0, 0.0, 0.0, 0.0, 0.0, 0.0, 0.0, 0.0, 0.0, 0.0, 0.0, 0.0, 0.0, 0.0, 0.0, 0.0, 0.0, 0.0, 0.0, 0.0, 0.0, 0.0, 0.0, 0.0, 0.0, 0.0, 0.0, 0.0, 0.0, 0.0, 0.0, 0.0, 0.0, 0.0, 0.0, 0.0, 0.0, 0.0, 0.0, 0.0, 0.0, 0.0, 0.0, 0.0, 0.0, 0.0, 0.0, 0.0, 0.0, 0.0, 0.0, 0.0, 0.0, 0.0, 0.0, 0.0, 0.0, 0.0, 0.0, 0.0, 0.0, 0.0, 0.0, 0.0, 0.0, 0.0, 0.0, 0.0, 0.0, 0.0, 0.0, 0.0, 0.0, 0.0, 0.0, 0.0, 0.0, 0.0, 0.0, 0.0, 0.0, 0.0, 0.0, 0.0, 0.0, 0.0, 0.0, 0.0, 0.0, 0.0, 0.0, 0.0, 0.0, 0.0, 0.0, 0.0, 0.0, 0.0, 0.0, 0.0, 0.0, 0.0, 0.0, 0.0, 0.0, 0.0, 0.0, 0.0, 0.0, 0.0, 0.0, 0.0, 0.0, 0.0, 0.0, 0.0, 0.0, 0.0, 0.0, 0.0, 0.0, 0.0, 0.0, 0.0, 0.0, 0.0, 0.0, 0.0, 0.0, 0.0, 0.0, 0.0, 0.0, 0.0, 0.0, 0.0, 0.0, 0.0, 0.0, 0.0, 0.0, 0.0, 0.0, 0.0, 0.0, 0.0, 0.0, 0.0, 0.0, 0.0, 0.0, 0.0, 0.0, 0.0, 0.0, 0.0, 0.0, 0.0, 0.0, 0.0, 0.0, 0.0, 0.0, 0.0, 0.0, 0.0, 0.0, 0.0, 0.0, 0.0, 0.0, 0.0, 0.0, 0.0, 0.0, 0.0, 0.0, 0.0, 0.0, 0.0, 0.0, 0.0, 0.0, 0.0, 0.0, 0.0, 0.0, 0.0, 0.0, 0.0, 0.0, 0.0, 0.0, 0.0, 0.0, 0.0], \"x0\": \" \", \"xaxis\": \"x\", \"y\": [0, 0, 0, 0, 1, 0, 5, 0, 1, 0, 0, 1, 0, 2, 0, 0, 0, 0, 0, 0, 0, 0, 0, 0, 0, 0, 0, 0, 1, 0, 1, 0, 2, 0, 0, 2, 0, 0, 0, 0, 2, 0, 0, 0, 0, 0, 0, 0, 3, 0, 0, 0, 0, 0, 2, 0, 0, 0, 0, 0, 0, 1, 0, 0, 0, 0, 0, 0, 0, 0, 0, 0, 0, 0, 1, 2, 0, 0, 0, 1, 0, 0, 0, 0, 0, 0, 0, 0, 0, 0, 2, 0, 0, 1, 2, 2, 0, 0, 0, 2, 0, 1, 0, 0, 2, 1, 0, 0, 1, 4, 0, 0, 0, 1, 0, 0, 1, 1, 0, 0, 0, 2, 0, 2, 0, 1, 0, 0, 0, 1, 0, 0, 2, 0, 0, 1, 0, 0, 0, 0, 0, 0, 0, 0, 0, 0, 0, 0, 0, 1, 0, 0, 0, 0, 0, 0, 0, 0, 0, 0, 0, 0, 0, 0, 0, 1, 0, 0, 2, 0, 1, 0, 0, 0, 1, 0, 1, 0, 0, 1, 0, 0, 0, 0, 0, 0, 0, 0, 0, 0, 0, 2, 0, 0, 0, 1, 0, 1, 0, 0, 0, 2, 0, 0, 1, 0, 0, 0, 0, 0, 0, 0, 0, 0, 0, 1, 0, 0, 0, 0, 4, 0, 1, 0, 0, 0, 0, 0, 0, 1, 2, 0, 0, 0, 0, 0, 2, 0, 0, 0, 0, 0, 0, 0, 0, 0, 0, 0, 0, 0, 1, 0, 0, 0, 0, 0, 2, 0, 0, 0, 1, 1, 0, 0, 0, 0, 2, 4, 0, 0, 0, 2, 0, 0, 0, 0, 0, 0, 0, 0, 0, 0, 0, 0, 0, 0, 0, 0, 0, 0, 0, 0, 2, 0, 0, 1, 0, 0, 0, 0, 0, 0, 0, 0, 0, 2, 0, 0, 0, 0, 0, 0, 0, 0, 0, 0, 0, 0, 0, 0, 0, 0, 0, 0, 1, 0, 1, 0, 0, 0, 2, 2, 0, 0, 1, 0, 0, 0, 0, 0, 0, 0, 0, 0, 0, 0, 4, 0, 0, 0, 0, 0, 0, 0, 0, 0, 0, 0, 0, 2, 0, 1, 0, 0, 0, 0, 0, 0, 0, 5, 0, 0, 0, 1, 0, 0, 0, 0, 0, 0, 0, 0, 0, 0, 0, 2, 0, 1, 5, 0, 0, 2, 0, 0, 0, 0, 0, 0, 0, 1, 0, 2, 0, 0, 0, 0, 0, 0, 0, 0, 0, 0, 0, 0, 6, 0, 0, 2, 1, 2, 1, 0, 0, 0, 0, 0, 0, 1, 0, 1, 0, 0, 0, 0, 0, 0, 0, 0, 0, 0, 0, 0, 0, 0, 0, 0, 0, 0, 0, 0, 3, 0, 0, 0, 0, 1, 1, 0, 0, 0, 0, 0, 0, 0, 0, 0, 0, 0, 0, 0, 0, 0, 0, 0, 0, 0, 0, 0, 0, 2, 0, 0, 1, 0, 0, 0, 2, 0, 0, 0, 0, 1, 0, 0, 0, 0, 0, 0, 0, 0, 2, 0, 0, 0, 1, 0, 2, 0, 1, 0, 0, 0, 0, 0, 0, 0, 0, 0, 0, 0, 0, 2, 0, 1, 2, 0, 1, 0, 0, 0, 0, 2, 0, 0, 0, 0, 0, 0, 0, 0, 0, 0, 0, 0, 0, 5, 0, 2, 0, 0, 0, 0, 1, 0, 1, 0, 0, 0, 0, 0, 0, 0, 0, 0, 1, 0, 1, 0, 1, 0, 2, 2, 0, 0, 0, 0, 0, 0, 0, 0, 1, 2, 1, 0, 0, 0, 0, 0, 0, 4, 0, 0, 0, 0, 0, 0, 0, 0, 0, 0, 0, 2, 0, 0, 0, 0, 0, 0, 0, 0, 0, 0, 0, 0, 0, 0, 1, 0, 0, 0, 1, 0, 0, 0, 4, 0, 0, 0, 0, 0, 6, 2, 0, 3, 0, 1, 1, 0, 0, 2, 0, 0, 2, 0, 0, 0, 0, 0, 0, 0, 5, 2, 0, 3, 2, 0, 0, 0, 0, 0, 0, 1, 2, 0, 2, 0, 0, 0, 0, 0, 0, 0, 0, 0, 0, 0, 1, 0, 0, 0, 0, 0, 0, 0, 0, 0, 0, 0, 0, 0, 0, 0, 2, 1, 2, 0, 0, 1, 0, 0, 0, 0, 0, 0, 0, 2, 0, 0, 0, 0, 0, 0, 0, 0, 0, 0, 0, 0, 0, 1, 0, 0, 0, 0, 0, 0, 2, 0, 0, 1, 2, 1, 1, 0, 0, 0, 0, 0, 0, 0, 0, 0, 0, 0, 0, 0, 0, 1, 2, 0, 0, 1, 0, 0, 0, 0, 0, 9, 1, 0, 0, 0, 1, 0, 0, 2, 0, 0, 0, 2, 1, 0, 0, 9, 0, 0, 0, 0, 0, 0, 0, 0, 2, 0, 0, 0, 0, 0, 0, 1, 1, 0, 0, 1, 0, 0, 0, 1, 0, 0, 0, 0, 0, 0], \"y0\": \" \", \"yaxis\": \"y\"}, {\"alignmentgroup\": \"True\", \"box\": {\"visible\": true}, \"hovertemplate\": \"Survived=%{x}<br>Parch=%{y}<extra></extra>\", \"legendgroup\": \"1.0\", \"marker\": {\"color\": \"#EF553B\"}, \"name\": \"1.0\", \"offsetgroup\": \"1.0\", \"orientation\": \"v\", \"scalegroup\": \"True\", \"showlegend\": true, \"type\": \"violin\", \"x\": [1.0, 1.0, 1.0, 1.0, 1.0, 1.0, 1.0, 1.0, 1.0, 1.0, 1.0, 1.0, 1.0, 1.0, 1.0, 1.0, 1.0, 1.0, 1.0, 1.0, 1.0, 1.0, 1.0, 1.0, 1.0, 1.0, 1.0, 1.0, 1.0, 1.0, 1.0, 1.0, 1.0, 1.0, 1.0, 1.0, 1.0, 1.0, 1.0, 1.0, 1.0, 1.0, 1.0, 1.0, 1.0, 1.0, 1.0, 1.0, 1.0, 1.0, 1.0, 1.0, 1.0, 1.0, 1.0, 1.0, 1.0, 1.0, 1.0, 1.0, 1.0, 1.0, 1.0, 1.0, 1.0, 1.0, 1.0, 1.0, 1.0, 1.0, 1.0, 1.0, 1.0, 1.0, 1.0, 1.0, 1.0, 1.0, 1.0, 1.0, 1.0, 1.0, 1.0, 1.0, 1.0, 1.0, 1.0, 1.0, 1.0, 1.0, 1.0, 1.0, 1.0, 1.0, 1.0, 1.0, 1.0, 1.0, 1.0, 1.0, 1.0, 1.0, 1.0, 1.0, 1.0, 1.0, 1.0, 1.0, 1.0, 1.0, 1.0, 1.0, 1.0, 1.0, 1.0, 1.0, 1.0, 1.0, 1.0, 1.0, 1.0, 1.0, 1.0, 1.0, 1.0, 1.0, 1.0, 1.0, 1.0, 1.0, 1.0, 1.0, 1.0, 1.0, 1.0, 1.0, 1.0, 1.0, 1.0, 1.0, 1.0, 1.0, 1.0, 1.0, 1.0, 1.0, 1.0, 1.0, 1.0, 1.0, 1.0, 1.0, 1.0, 1.0, 1.0, 1.0, 1.0, 1.0, 1.0, 1.0, 1.0, 1.0, 1.0, 1.0, 1.0, 1.0, 1.0, 1.0, 1.0, 1.0, 1.0, 1.0, 1.0, 1.0, 1.0, 1.0, 1.0, 1.0, 1.0, 1.0, 1.0, 1.0, 1.0, 1.0, 1.0, 1.0, 1.0, 1.0, 1.0, 1.0, 1.0, 1.0, 1.0, 1.0, 1.0, 1.0, 1.0, 1.0, 1.0, 1.0, 1.0, 1.0, 1.0, 1.0, 1.0, 1.0, 1.0, 1.0, 1.0, 1.0, 1.0, 1.0, 1.0, 1.0, 1.0, 1.0, 1.0, 1.0, 1.0, 1.0, 1.0, 1.0, 1.0, 1.0, 1.0, 1.0, 1.0, 1.0, 1.0, 1.0, 1.0, 1.0, 1.0, 1.0, 1.0, 1.0, 1.0, 1.0, 1.0, 1.0, 1.0, 1.0, 1.0, 1.0, 1.0, 1.0, 1.0, 1.0, 1.0, 1.0, 1.0, 1.0, 1.0, 1.0, 1.0, 1.0, 1.0, 1.0, 1.0, 1.0, 1.0, 1.0, 1.0, 1.0, 1.0, 1.0, 1.0, 1.0, 1.0, 1.0, 1.0, 1.0, 1.0, 1.0, 1.0, 1.0, 1.0, 1.0, 1.0, 1.0, 1.0, 1.0, 1.0, 1.0, 1.0, 1.0, 1.0, 1.0, 1.0, 1.0, 1.0, 1.0, 1.0, 1.0, 1.0, 1.0, 1.0, 1.0, 1.0, 1.0, 1.0, 1.0, 1.0, 1.0, 1.0, 1.0, 1.0, 1.0, 1.0, 1.0, 1.0, 1.0, 1.0, 1.0, 1.0, 1.0, 1.0, 1.0, 1.0, 1.0, 1.0, 1.0, 1.0, 1.0, 1.0, 1.0, 1.0, 1.0, 1.0, 1.0, 1.0, 1.0, 1.0, 1.0, 1.0, 1.0, 1.0, 1.0, 1.0, 1.0, 1.0, 1.0, 1.0, 1.0, 1.0, 1.0, 1.0, 1.0, 1.0, 1.0, 1.0, 1.0, 1.0, 1.0, 1.0, 1.0, 1.0, 1.0, 1.0, 1.0, 1.0, 1.0, 1.0, 1.0, 1.0, 1.0, 1.0, 1.0, 1.0, 1.0, 1.0, 1.0, 1.0, 1.0, 1.0, 1.0, 1.0, 1.0, 1.0, 1.0, 1.0, 1.0, 1.0, 1.0, 1.0, 1.0, 1.0, 1.0, 1.0, 1.0, 1.0, 1.0, 1.0, 1.0, 1.0, 1.0, 1.0, 1.0, 1.0, 1.0, 1.0, 1.0, 1.0, 1.0, 1.0, 1.0, 1.0, 1.0, 1.0, 1.0, 1.0, 1.0, 1.0, 1.0, 1.0, 1.0, 1.0, 1.0, 1.0, 1.0, 1.0, 1.0, 1.0, 1.0, 1.0, 1.0, 1.0, 1.0, 1.0, 1.0, 1.0, 1.0, 1.0, 1.0, 1.0, 1.0, 1.0, 1.0, 1.0, 1.0, 1.0, 1.0, 1.0, 1.0, 1.0, 1.0, 1.0, 1.0, 1.0, 1.0, 1.0, 1.0, 1.0, 1.0, 1.0, 1.0, 1.0, 1.0, 1.0, 1.0, 1.0, 1.0, 1.0, 1.0, 1.0, 1.0, 1.0, 1.0, 1.0, 1.0, 1.0, 1.0, 1.0, 1.0, 1.0, 1.0, 1.0, 1.0, 1.0, 1.0, 1.0, 1.0, 1.0, 1.0, 1.0, 1.0, 1.0, 1.0, 1.0, 1.0, 1.0, 1.0, 1.0, 1.0, 1.0, 1.0, 1.0, 1.0, 1.0, 1.0, 1.0, 1.0, 1.0, 1.0, 1.0], \"x0\": \" \", \"xaxis\": \"x\", \"y\": [0, 0, 0, 2, 0, 1, 0, 0, 0, 0, 0, 0, 0, 5, 0, 0, 0, 0, 0, 2, 0, 0, 0, 0, 0, 0, 2, 0, 1, 0, 2, 0, 2, 0, 0, 0, 0, 0, 2, 1, 1, 0, 0, 0, 0, 0, 0, 1, 0, 2, 0, 0, 0, 0, 0, 0, 2, 1, 1, 1, 2, 0, 0, 0, 0, 1, 0, 0, 0, 0, 0, 0, 0, 0, 0, 0, 0, 0, 0, 0, 0, 2, 2, 0, 2, 1, 2, 0, 0, 0, 1, 2, 0, 1, 0, 0, 1, 0, 0, 1, 0, 0, 0, 0, 0, 0, 0, 1, 0, 0, 0, 2, 0, 0, 0, 0, 2, 0, 0, 2, 1, 0, 1, 0, 0, 1, 1, 0, 0, 0, 0, 1, 2, 0, 0, 0, 1, 1, 0, 0, 0, 0, 0, 0, 0, 0, 0, 0, 2, 0, 0, 0, 2, 0, 0, 2, 0, 0, 1, 0, 0, 1, 2, 0, 0, 0, 0, 0, 0, 2, 3, 1, 0, 0, 2, 1, 0, 1, 0, 0, 0, 0, 0, 0, 1, 2, 0, 1, 0, 0, 0, 1, 0, 0, 2, 0, 0, 0, 0, 0, 0, 0, 0, 1, 0, 1, 2, 2, 0, 2, 2, 0, 0, 0, 1, 2, 0, 0, 0, 1, 0, 0, 0, 0, 0, 0, 0, 0, 0, 1, 1, 2, 1, 0, 0, 0, 1, 0, 0, 2, 0, 0, 2, 1, 0, 1, 0, 0, 0, 0, 0, 0, 1, 0, 0, 0, 1, 0, 0, 0, 0, 1, 0, 0, 1, 0, 1, 0, 1, 0, 0, 0, 0, 0, 0, 0, 1, 0, 0, 0, 0, 1, 0, 0, 0, 0, 0, 0, 2, 0, 0, 1, 1, 2, 1, 0, 0, 2, 0, 3, 0, 1, 0, 0, 0, 2, 0, 0, 1, 2, 1, 0, 0, 1, 0, 1, 2, 0, 0, 0, 1, 1, 0, 0, 0, 0, 1, 1, 1, 0, 3, 0, 0, 0, 1, 1, 0, 0, 1, 1, 0, 0, 0, 0, 0, 0, 0, 0, 3, 0, 0, 0, 0, 0, 0, 0, 1, 0, 0, 0, 0, 2, 0, 0, 0, 0, 0, 0, 2, 0, 0, 0, 0, 0, 0, 0, 1, 0, 0, 0, 1, 0, 0, 0, 0, 0, 0, 1, 0, 0, 0, 0, 0, 0, 0, 0, 0, 0, 0, 0, 0, 0, 0, 0, 0, 2, 0, 0, 1, 0, 1, 2, 0, 0, 0, 0, 1, 1, 0, 1, 2, 0, 0, 0, 0, 2, 1, 0, 0, 0, 0, 2, 1, 0, 0, 2, 0, 0, 1, 0, 0, 0, 2, 0, 0, 0, 0, 0, 1, 0, 0, 0, 0, 0, 1, 1, 0, 0, 0, 1, 0, 0, 0, 0, 1, 0, 0, 0, 0, 0, 0, 0, 0, 0, 2, 0, 1, 0, 0, 2, 0, 0, 0, 1, 0, 1, 0, 0, 0, 0, 2, 0, 2, 1, 0, 0, 0, 0, 1, 0, 1, 0, 0, 0, 1], \"y0\": \" \", \"yaxis\": \"y\"}],                        {\"legend\": {\"title\": {\"text\": \"Survived\"}, \"tracegroupgap\": 0}, \"margin\": {\"t\": 60}, \"template\": {\"data\": {\"bar\": [{\"error_x\": {\"color\": \"#2a3f5f\"}, \"error_y\": {\"color\": \"#2a3f5f\"}, \"marker\": {\"line\": {\"color\": \"#E5ECF6\", \"width\": 0.5}}, \"type\": \"bar\"}], \"barpolar\": [{\"marker\": {\"line\": {\"color\": \"#E5ECF6\", \"width\": 0.5}}, \"type\": \"barpolar\"}], \"carpet\": [{\"aaxis\": {\"endlinecolor\": \"#2a3f5f\", \"gridcolor\": \"white\", \"linecolor\": \"white\", \"minorgridcolor\": \"white\", \"startlinecolor\": \"#2a3f5f\"}, \"baxis\": {\"endlinecolor\": \"#2a3f5f\", \"gridcolor\": \"white\", \"linecolor\": \"white\", \"minorgridcolor\": \"white\", \"startlinecolor\": \"#2a3f5f\"}, \"type\": \"carpet\"}], \"choropleth\": [{\"colorbar\": {\"outlinewidth\": 0, \"ticks\": \"\"}, \"type\": \"choropleth\"}], \"contour\": [{\"colorbar\": {\"outlinewidth\": 0, \"ticks\": \"\"}, \"colorscale\": [[0.0, \"#0d0887\"], [0.1111111111111111, \"#46039f\"], [0.2222222222222222, \"#7201a8\"], [0.3333333333333333, \"#9c179e\"], [0.4444444444444444, \"#bd3786\"], [0.5555555555555556, \"#d8576b\"], [0.6666666666666666, \"#ed7953\"], [0.7777777777777778, \"#fb9f3a\"], [0.8888888888888888, \"#fdca26\"], [1.0, \"#f0f921\"]], \"type\": \"contour\"}], \"contourcarpet\": [{\"colorbar\": {\"outlinewidth\": 0, \"ticks\": \"\"}, \"type\": \"contourcarpet\"}], \"heatmap\": [{\"colorbar\": {\"outlinewidth\": 0, \"ticks\": \"\"}, \"colorscale\": [[0.0, \"#0d0887\"], [0.1111111111111111, \"#46039f\"], [0.2222222222222222, \"#7201a8\"], [0.3333333333333333, \"#9c179e\"], [0.4444444444444444, \"#bd3786\"], [0.5555555555555556, \"#d8576b\"], [0.6666666666666666, \"#ed7953\"], [0.7777777777777778, \"#fb9f3a\"], [0.8888888888888888, \"#fdca26\"], [1.0, \"#f0f921\"]], \"type\": \"heatmap\"}], \"heatmapgl\": [{\"colorbar\": {\"outlinewidth\": 0, \"ticks\": \"\"}, \"colorscale\": [[0.0, \"#0d0887\"], [0.1111111111111111, \"#46039f\"], [0.2222222222222222, \"#7201a8\"], [0.3333333333333333, \"#9c179e\"], [0.4444444444444444, \"#bd3786\"], [0.5555555555555556, \"#d8576b\"], [0.6666666666666666, \"#ed7953\"], [0.7777777777777778, \"#fb9f3a\"], [0.8888888888888888, \"#fdca26\"], [1.0, \"#f0f921\"]], \"type\": \"heatmapgl\"}], \"histogram\": [{\"marker\": {\"colorbar\": {\"outlinewidth\": 0, \"ticks\": \"\"}}, \"type\": \"histogram\"}], \"histogram2d\": [{\"colorbar\": {\"outlinewidth\": 0, \"ticks\": \"\"}, \"colorscale\": [[0.0, \"#0d0887\"], [0.1111111111111111, \"#46039f\"], [0.2222222222222222, \"#7201a8\"], [0.3333333333333333, \"#9c179e\"], [0.4444444444444444, \"#bd3786\"], [0.5555555555555556, \"#d8576b\"], [0.6666666666666666, \"#ed7953\"], [0.7777777777777778, \"#fb9f3a\"], [0.8888888888888888, \"#fdca26\"], [1.0, \"#f0f921\"]], \"type\": \"histogram2d\"}], \"histogram2dcontour\": [{\"colorbar\": {\"outlinewidth\": 0, \"ticks\": \"\"}, \"colorscale\": [[0.0, \"#0d0887\"], [0.1111111111111111, \"#46039f\"], [0.2222222222222222, \"#7201a8\"], [0.3333333333333333, \"#9c179e\"], [0.4444444444444444, \"#bd3786\"], [0.5555555555555556, \"#d8576b\"], [0.6666666666666666, \"#ed7953\"], [0.7777777777777778, \"#fb9f3a\"], [0.8888888888888888, \"#fdca26\"], [1.0, \"#f0f921\"]], \"type\": \"histogram2dcontour\"}], \"mesh3d\": [{\"colorbar\": {\"outlinewidth\": 0, \"ticks\": \"\"}, \"type\": \"mesh3d\"}], \"parcoords\": [{\"line\": {\"colorbar\": {\"outlinewidth\": 0, \"ticks\": \"\"}}, \"type\": \"parcoords\"}], \"pie\": [{\"automargin\": true, \"type\": \"pie\"}], \"scatter\": [{\"marker\": {\"colorbar\": {\"outlinewidth\": 0, \"ticks\": \"\"}}, \"type\": \"scatter\"}], \"scatter3d\": [{\"line\": {\"colorbar\": {\"outlinewidth\": 0, \"ticks\": \"\"}}, \"marker\": {\"colorbar\": {\"outlinewidth\": 0, \"ticks\": \"\"}}, \"type\": \"scatter3d\"}], \"scattercarpet\": [{\"marker\": {\"colorbar\": {\"outlinewidth\": 0, \"ticks\": \"\"}}, \"type\": \"scattercarpet\"}], \"scattergeo\": [{\"marker\": {\"colorbar\": {\"outlinewidth\": 0, \"ticks\": \"\"}}, \"type\": \"scattergeo\"}], \"scattergl\": [{\"marker\": {\"colorbar\": {\"outlinewidth\": 0, \"ticks\": \"\"}}, \"type\": \"scattergl\"}], \"scattermapbox\": [{\"marker\": {\"colorbar\": {\"outlinewidth\": 0, \"ticks\": \"\"}}, \"type\": \"scattermapbox\"}], \"scatterpolar\": [{\"marker\": {\"colorbar\": {\"outlinewidth\": 0, \"ticks\": \"\"}}, \"type\": \"scatterpolar\"}], \"scatterpolargl\": [{\"marker\": {\"colorbar\": {\"outlinewidth\": 0, \"ticks\": \"\"}}, \"type\": \"scatterpolargl\"}], \"scatterternary\": [{\"marker\": {\"colorbar\": {\"outlinewidth\": 0, \"ticks\": \"\"}}, \"type\": \"scatterternary\"}], \"surface\": [{\"colorbar\": {\"outlinewidth\": 0, \"ticks\": \"\"}, \"colorscale\": [[0.0, \"#0d0887\"], [0.1111111111111111, \"#46039f\"], [0.2222222222222222, \"#7201a8\"], [0.3333333333333333, \"#9c179e\"], [0.4444444444444444, \"#bd3786\"], [0.5555555555555556, \"#d8576b\"], [0.6666666666666666, \"#ed7953\"], [0.7777777777777778, \"#fb9f3a\"], [0.8888888888888888, \"#fdca26\"], [1.0, \"#f0f921\"]], \"type\": \"surface\"}], \"table\": [{\"cells\": {\"fill\": {\"color\": \"#EBF0F8\"}, \"line\": {\"color\": \"white\"}}, \"header\": {\"fill\": {\"color\": \"#C8D4E3\"}, \"line\": {\"color\": \"white\"}}, \"type\": \"table\"}]}, \"layout\": {\"annotationdefaults\": {\"arrowcolor\": \"#2a3f5f\", \"arrowhead\": 0, \"arrowwidth\": 1}, \"autotypenumbers\": \"strict\", \"coloraxis\": {\"colorbar\": {\"outlinewidth\": 0, \"ticks\": \"\"}}, \"colorscale\": {\"diverging\": [[0, \"#8e0152\"], [0.1, \"#c51b7d\"], [0.2, \"#de77ae\"], [0.3, \"#f1b6da\"], [0.4, \"#fde0ef\"], [0.5, \"#f7f7f7\"], [0.6, \"#e6f5d0\"], [0.7, \"#b8e186\"], [0.8, \"#7fbc41\"], [0.9, \"#4d9221\"], [1, \"#276419\"]], \"sequential\": [[0.0, \"#0d0887\"], [0.1111111111111111, \"#46039f\"], [0.2222222222222222, \"#7201a8\"], [0.3333333333333333, \"#9c179e\"], [0.4444444444444444, \"#bd3786\"], [0.5555555555555556, \"#d8576b\"], [0.6666666666666666, \"#ed7953\"], [0.7777777777777778, \"#fb9f3a\"], [0.8888888888888888, \"#fdca26\"], [1.0, \"#f0f921\"]], \"sequentialminus\": [[0.0, \"#0d0887\"], [0.1111111111111111, \"#46039f\"], [0.2222222222222222, \"#7201a8\"], [0.3333333333333333, \"#9c179e\"], [0.4444444444444444, \"#bd3786\"], [0.5555555555555556, \"#d8576b\"], [0.6666666666666666, \"#ed7953\"], [0.7777777777777778, \"#fb9f3a\"], [0.8888888888888888, \"#fdca26\"], [1.0, \"#f0f921\"]]}, \"colorway\": [\"#636efa\", \"#EF553B\", \"#00cc96\", \"#ab63fa\", \"#FFA15A\", \"#19d3f3\", \"#FF6692\", \"#B6E880\", \"#FF97FF\", \"#FECB52\"], \"font\": {\"color\": \"#2a3f5f\"}, \"geo\": {\"bgcolor\": \"white\", \"lakecolor\": \"white\", \"landcolor\": \"#E5ECF6\", \"showlakes\": true, \"showland\": true, \"subunitcolor\": \"white\"}, \"hoverlabel\": {\"align\": \"left\"}, \"hovermode\": \"closest\", \"mapbox\": {\"style\": \"light\"}, \"paper_bgcolor\": \"white\", \"plot_bgcolor\": \"#E5ECF6\", \"polar\": {\"angularaxis\": {\"gridcolor\": \"white\", \"linecolor\": \"white\", \"ticks\": \"\"}, \"bgcolor\": \"#E5ECF6\", \"radialaxis\": {\"gridcolor\": \"white\", \"linecolor\": \"white\", \"ticks\": \"\"}}, \"scene\": {\"xaxis\": {\"backgroundcolor\": \"#E5ECF6\", \"gridcolor\": \"white\", \"gridwidth\": 2, \"linecolor\": \"white\", \"showbackground\": true, \"ticks\": \"\", \"zerolinecolor\": \"white\"}, \"yaxis\": {\"backgroundcolor\": \"#E5ECF6\", \"gridcolor\": \"white\", \"gridwidth\": 2, \"linecolor\": \"white\", \"showbackground\": true, \"ticks\": \"\", \"zerolinecolor\": \"white\"}, \"zaxis\": {\"backgroundcolor\": \"#E5ECF6\", \"gridcolor\": \"white\", \"gridwidth\": 2, \"linecolor\": \"white\", \"showbackground\": true, \"ticks\": \"\", \"zerolinecolor\": \"white\"}}, \"shapedefaults\": {\"line\": {\"color\": \"#2a3f5f\"}}, \"ternary\": {\"aaxis\": {\"gridcolor\": \"white\", \"linecolor\": \"white\", \"ticks\": \"\"}, \"baxis\": {\"gridcolor\": \"white\", \"linecolor\": \"white\", \"ticks\": \"\"}, \"bgcolor\": \"#E5ECF6\", \"caxis\": {\"gridcolor\": \"white\", \"linecolor\": \"white\", \"ticks\": \"\"}}, \"title\": {\"x\": 0.05}, \"xaxis\": {\"automargin\": true, \"gridcolor\": \"white\", \"linecolor\": \"white\", \"ticks\": \"\", \"title\": {\"standoff\": 15}, \"zerolinecolor\": \"white\", \"zerolinewidth\": 2}, \"yaxis\": {\"automargin\": true, \"gridcolor\": \"white\", \"linecolor\": \"white\", \"ticks\": \"\", \"title\": {\"standoff\": 15}, \"zerolinecolor\": \"white\", \"zerolinewidth\": 2}}}, \"violinmode\": \"overlay\", \"xaxis\": {\"anchor\": \"y\", \"categoryarray\": [0.0, 1.0], \"categoryorder\": \"array\", \"domain\": [0.0, 1.0], \"title\": {\"text\": \"Survived\"}}, \"yaxis\": {\"anchor\": \"x\", \"domain\": [0.0, 1.0], \"title\": {\"text\": \"Parch\"}}},                        {\"responsive\": true}                    ).then(function(){\n",
       "                            \n",
       "var gd = document.getElementById('024e4512-43e8-497a-ba32-dc1e85b91af8');\n",
       "var x = new MutationObserver(function (mutations, observer) {{\n",
       "        var display = window.getComputedStyle(gd).display;\n",
       "        if (!display || display === 'none') {{\n",
       "            console.log([gd, 'removed!']);\n",
       "            Plotly.purge(gd);\n",
       "            observer.disconnect();\n",
       "        }}\n",
       "}});\n",
       "\n",
       "// Listen for the removal of the full notebook cells\n",
       "var notebookContainer = gd.closest('#notebook-container');\n",
       "if (notebookContainer) {{\n",
       "    x.observe(notebookContainer, {childList: true});\n",
       "}}\n",
       "\n",
       "// Listen for the clearing of the current output cell\n",
       "var outputEl = gd.closest('.output');\n",
       "if (outputEl) {{\n",
       "    x.observe(outputEl, {childList: true});\n",
       "}}\n",
       "\n",
       "                        })                };                });            </script>        </div>"
      ]
     },
     "metadata": {},
     "output_type": "display_data"
    }
   ],
   "source": [
    "violin('Parch')"
   ]
  },
  {
   "cell_type": "code",
   "execution_count": 44,
   "metadata": {
    "execution": {
     "iopub.execute_input": "2021-06-07T10:56:57.078090Z",
     "iopub.status.busy": "2021-06-07T10:56:57.074745Z",
     "iopub.status.idle": "2021-06-07T10:56:57.140153Z",
     "shell.execute_reply": "2021-06-07T10:56:57.139591Z",
     "shell.execute_reply.started": "2021-06-06T10:51:40.672396Z"
    },
    "papermill": {
     "duration": 0.173962,
     "end_time": "2021-06-07T10:56:57.140316",
     "exception": false,
     "start_time": "2021-06-07T10:56:56.966354",
     "status": "completed"
    },
    "tags": []
   },
   "outputs": [
    {
     "data": {
      "text/html": [
       "<div>                            <div id=\"0b81e099-63bf-47d5-b92a-9471001b87fa\" class=\"plotly-graph-div\" style=\"height:525px; width:100%;\"></div>            <script type=\"text/javascript\">                require([\"plotly\"], function(Plotly) {                    window.PLOTLYENV=window.PLOTLYENV || {};                                    if (document.getElementById(\"0b81e099-63bf-47d5-b92a-9471001b87fa\")) {                    Plotly.newPlot(                        \"0b81e099-63bf-47d5-b92a-9471001b87fa\",                        [{\"alignmentgroup\": \"True\", \"box\": {\"visible\": true}, \"hovertemplate\": \"Survived=%{x}<br>Fare=%{y}<extra></extra>\", \"legendgroup\": \"0.0\", \"marker\": {\"color\": \"#636efa\"}, \"name\": \"0.0\", \"offsetgroup\": \"0.0\", \"orientation\": \"v\", \"scalegroup\": \"True\", \"showlegend\": true, \"type\": \"violin\", \"x\": [0.0, 0.0, 0.0, 0.0, 0.0, 0.0, 0.0, 0.0, 0.0, 0.0, 0.0, 0.0, 0.0, 0.0, 0.0, 0.0, 0.0, 0.0, 0.0, 0.0, 0.0, 0.0, 0.0, 0.0, 0.0, 0.0, 0.0, 0.0, 0.0, 0.0, 0.0, 0.0, 0.0, 0.0, 0.0, 0.0, 0.0, 0.0, 0.0, 0.0, 0.0, 0.0, 0.0, 0.0, 0.0, 0.0, 0.0, 0.0, 0.0, 0.0, 0.0, 0.0, 0.0, 0.0, 0.0, 0.0, 0.0, 0.0, 0.0, 0.0, 0.0, 0.0, 0.0, 0.0, 0.0, 0.0, 0.0, 0.0, 0.0, 0.0, 0.0, 0.0, 0.0, 0.0, 0.0, 0.0, 0.0, 0.0, 0.0, 0.0, 0.0, 0.0, 0.0, 0.0, 0.0, 0.0, 0.0, 0.0, 0.0, 0.0, 0.0, 0.0, 0.0, 0.0, 0.0, 0.0, 0.0, 0.0, 0.0, 0.0, 0.0, 0.0, 0.0, 0.0, 0.0, 0.0, 0.0, 0.0, 0.0, 0.0, 0.0, 0.0, 0.0, 0.0, 0.0, 0.0, 0.0, 0.0, 0.0, 0.0, 0.0, 0.0, 0.0, 0.0, 0.0, 0.0, 0.0, 0.0, 0.0, 0.0, 0.0, 0.0, 0.0, 0.0, 0.0, 0.0, 0.0, 0.0, 0.0, 0.0, 0.0, 0.0, 0.0, 0.0, 0.0, 0.0, 0.0, 0.0, 0.0, 0.0, 0.0, 0.0, 0.0, 0.0, 0.0, 0.0, 0.0, 0.0, 0.0, 0.0, 0.0, 0.0, 0.0, 0.0, 0.0, 0.0, 0.0, 0.0, 0.0, 0.0, 0.0, 0.0, 0.0, 0.0, 0.0, 0.0, 0.0, 0.0, 0.0, 0.0, 0.0, 0.0, 0.0, 0.0, 0.0, 0.0, 0.0, 0.0, 0.0, 0.0, 0.0, 0.0, 0.0, 0.0, 0.0, 0.0, 0.0, 0.0, 0.0, 0.0, 0.0, 0.0, 0.0, 0.0, 0.0, 0.0, 0.0, 0.0, 0.0, 0.0, 0.0, 0.0, 0.0, 0.0, 0.0, 0.0, 0.0, 0.0, 0.0, 0.0, 0.0, 0.0, 0.0, 0.0, 0.0, 0.0, 0.0, 0.0, 0.0, 0.0, 0.0, 0.0, 0.0, 0.0, 0.0, 0.0, 0.0, 0.0, 0.0, 0.0, 0.0, 0.0, 0.0, 0.0, 0.0, 0.0, 0.0, 0.0, 0.0, 0.0, 0.0, 0.0, 0.0, 0.0, 0.0, 0.0, 0.0, 0.0, 0.0, 0.0, 0.0, 0.0, 0.0, 0.0, 0.0, 0.0, 0.0, 0.0, 0.0, 0.0, 0.0, 0.0, 0.0, 0.0, 0.0, 0.0, 0.0, 0.0, 0.0, 0.0, 0.0, 0.0, 0.0, 0.0, 0.0, 0.0, 0.0, 0.0, 0.0, 0.0, 0.0, 0.0, 0.0, 0.0, 0.0, 0.0, 0.0, 0.0, 0.0, 0.0, 0.0, 0.0, 0.0, 0.0, 0.0, 0.0, 0.0, 0.0, 0.0, 0.0, 0.0, 0.0, 0.0, 0.0, 0.0, 0.0, 0.0, 0.0, 0.0, 0.0, 0.0, 0.0, 0.0, 0.0, 0.0, 0.0, 0.0, 0.0, 0.0, 0.0, 0.0, 0.0, 0.0, 0.0, 0.0, 0.0, 0.0, 0.0, 0.0, 0.0, 0.0, 0.0, 0.0, 0.0, 0.0, 0.0, 0.0, 0.0, 0.0, 0.0, 0.0, 0.0, 0.0, 0.0, 0.0, 0.0, 0.0, 0.0, 0.0, 0.0, 0.0, 0.0, 0.0, 0.0, 0.0, 0.0, 0.0, 0.0, 0.0, 0.0, 0.0, 0.0, 0.0, 0.0, 0.0, 0.0, 0.0, 0.0, 0.0, 0.0, 0.0, 0.0, 0.0, 0.0, 0.0, 0.0, 0.0, 0.0, 0.0, 0.0, 0.0, 0.0, 0.0, 0.0, 0.0, 0.0, 0.0, 0.0, 0.0, 0.0, 0.0, 0.0, 0.0, 0.0, 0.0, 0.0, 0.0, 0.0, 0.0, 0.0, 0.0, 0.0, 0.0, 0.0, 0.0, 0.0, 0.0, 0.0, 0.0, 0.0, 0.0, 0.0, 0.0, 0.0, 0.0, 0.0, 0.0, 0.0, 0.0, 0.0, 0.0, 0.0, 0.0, 0.0, 0.0, 0.0, 0.0, 0.0, 0.0, 0.0, 0.0, 0.0, 0.0, 0.0, 0.0, 0.0, 0.0, 0.0, 0.0, 0.0, 0.0, 0.0, 0.0, 0.0, 0.0, 0.0, 0.0, 0.0, 0.0, 0.0, 0.0, 0.0, 0.0, 0.0, 0.0, 0.0, 0.0, 0.0, 0.0, 0.0, 0.0, 0.0, 0.0, 0.0, 0.0, 0.0, 0.0, 0.0, 0.0, 0.0, 0.0, 0.0, 0.0, 0.0, 0.0, 0.0, 0.0, 0.0, 0.0, 0.0, 0.0, 0.0, 0.0, 0.0, 0.0, 0.0, 0.0, 0.0, 0.0, 0.0, 0.0, 0.0, 0.0, 0.0, 0.0, 0.0, 0.0, 0.0, 0.0, 0.0, 0.0, 0.0, 0.0, 0.0, 0.0, 0.0, 0.0, 0.0, 0.0, 0.0, 0.0, 0.0, 0.0, 0.0, 0.0, 0.0, 0.0, 0.0, 0.0, 0.0, 0.0, 0.0, 0.0, 0.0, 0.0, 0.0, 0.0, 0.0, 0.0, 0.0, 0.0, 0.0, 0.0, 0.0, 0.0, 0.0, 0.0, 0.0, 0.0, 0.0, 0.0, 0.0, 0.0, 0.0, 0.0, 0.0, 0.0, 0.0, 0.0, 0.0, 0.0, 0.0, 0.0, 0.0, 0.0, 0.0, 0.0, 0.0, 0.0, 0.0, 0.0, 0.0, 0.0, 0.0, 0.0, 0.0, 0.0, 0.0, 0.0, 0.0, 0.0, 0.0, 0.0, 0.0, 0.0, 0.0, 0.0, 0.0, 0.0, 0.0, 0.0, 0.0, 0.0, 0.0, 0.0, 0.0, 0.0, 0.0, 0.0, 0.0, 0.0, 0.0, 0.0, 0.0, 0.0, 0.0, 0.0, 0.0, 0.0, 0.0, 0.0, 0.0, 0.0, 0.0, 0.0, 0.0, 0.0, 0.0, 0.0, 0.0, 0.0, 0.0, 0.0, 0.0, 0.0, 0.0, 0.0, 0.0, 0.0, 0.0, 0.0, 0.0, 0.0, 0.0, 0.0, 0.0, 0.0, 0.0, 0.0, 0.0, 0.0, 0.0, 0.0, 0.0, 0.0, 0.0, 0.0, 0.0, 0.0, 0.0, 0.0, 0.0, 0.0, 0.0, 0.0, 0.0, 0.0, 0.0, 0.0, 0.0, 0.0, 0.0, 0.0, 0.0, 0.0, 0.0, 0.0, 0.0, 0.0, 0.0, 0.0, 0.0, 0.0, 0.0, 0.0, 0.0, 0.0, 0.0, 0.0, 0.0, 0.0, 0.0, 0.0, 0.0, 0.0, 0.0, 0.0, 0.0, 0.0, 0.0, 0.0, 0.0, 0.0, 0.0, 0.0, 0.0, 0.0, 0.0, 0.0, 0.0, 0.0, 0.0, 0.0, 0.0, 0.0, 0.0, 0.0, 0.0, 0.0, 0.0, 0.0, 0.0, 0.0, 0.0, 0.0, 0.0, 0.0, 0.0, 0.0, 0.0, 0.0, 0.0, 0.0, 0.0, 0.0, 0.0, 0.0, 0.0, 0.0, 0.0, 0.0, 0.0, 0.0, 0.0, 0.0, 0.0, 0.0, 0.0, 0.0, 0.0, 0.0, 0.0, 0.0, 0.0, 0.0, 0.0, 0.0, 0.0, 0.0, 0.0, 0.0, 0.0, 0.0, 0.0, 0.0, 0.0, 0.0, 0.0, 0.0, 0.0, 0.0, 0.0, 0.0, 0.0, 0.0, 0.0, 0.0, 0.0, 0.0, 0.0, 0.0, 0.0, 0.0, 0.0, 0.0, 0.0, 0.0, 0.0, 0.0, 0.0, 0.0, 0.0, 0.0, 0.0, 0.0, 0.0, 0.0, 0.0, 0.0, 0.0, 0.0, 0.0, 0.0, 0.0, 0.0, 0.0, 0.0, 0.0, 0.0, 0.0, 0.0, 0.0, 0.0, 0.0], \"x0\": \" \", \"xaxis\": \"x\", \"y\": [7.25, 8.05, 8.4583, 51.8625, 21.075, 8.05, 31.275, 7.8542, 29.125, 18.0, 26.0, 21.075, 7.225, 263.0, 7.8958, 27.7208, 10.5, 82.1708, 52.0, 8.05, 18.0, 9.475, 21.0, 7.8958, 8.05, 15.5, 21.6792, 17.8, 39.6875, 7.8, 61.9792, 7.2292, 46.9, 7.2292, 83.475, 27.9, 27.7208, 8.1583, 8.6625, 10.5, 46.9, 73.5, 14.4542, 7.65, 7.8958, 8.05, 9.0, 47.1, 34.375, 8.05, 8.05, 8.05, 7.8542, 61.175, 20.575, 7.25, 8.05, 34.6542, 26.0, 7.8958, 7.8958, 77.2875, 8.6542, 7.925, 7.8958, 7.8958, 52.0, 14.4542, 8.05, 9.825, 14.4583, 7.925, 7.75, 21.0, 247.5208, 31.275, 73.5, 8.05, 30.0708, 77.2875, 7.75, 6.975, 7.8958, 7.05, 14.5, 13.0, 15.0458, 53.1, 9.2167, 79.2, 15.2458, 6.75, 11.5, 36.75, 34.375, 26.0, 13.0, 12.525, 8.05, 14.5, 7.3125, 61.3792, 8.05, 8.6625, 69.55, 16.1, 7.775, 8.6625, 39.6875, 27.9, 25.925, 56.4958, 33.5, 29.125, 7.925, 30.6958, 7.8542, 25.4667, 28.7125, 13.0, 0.0, 69.55, 15.05, 31.3875, 50.0, 15.5, 7.8958, 13.0, 7.75, 8.4042, 13.0, 9.5, 69.55, 6.4958, 7.225, 10.4625, 15.85, 7.05, 7.25, 13.0, 7.75, 27.0, 10.5, 13.0, 8.05, 7.8958, 9.35, 7.25, 13.0, 25.4667, 7.775, 13.5, 10.5, 7.55, 26.0, 10.5, 12.275, 14.4542, 10.5, 7.125, 7.225, 90.0, 7.775, 26.0, 7.25, 10.4625, 26.55, 16.1, 20.2125, 7.75, 79.65, 0.0, 7.75, 10.5, 39.6875, 31.0, 29.7, 7.75, 0.0, 29.125, 7.75, 7.8542, 9.5, 26.0, 8.6625, 7.8958, 12.875, 8.85, 7.8958, 27.7208, 7.2292, 151.55, 0.0, 8.05, 24.0, 26.0, 7.8958, 26.25, 14.0, 7.25, 7.8958, 69.55, 6.2375, 28.5, 153.4625, 18.0, 7.8958, 66.6, 35.5, 13.0, 13.0, 13.0, 8.6625, 9.225, 35.0, 7.2292, 17.8, 7.225, 9.5, 13.0, 27.9, 27.7208, 14.4542, 7.05, 15.5, 7.25, 6.4958, 8.05, 135.6333, 21.075, 211.5, 4.0125, 7.775, 7.925, 7.8958, 73.5, 46.9, 7.7292, 7.925, 7.7958, 7.8542, 26.0, 10.5, 8.05, 9.825, 15.85, 8.6625, 21.0, 7.75, 7.775, 25.4667, 7.8958, 6.8583, 0.0, 8.05, 13.0, 24.15, 7.8958, 7.7333, 7.875, 14.4, 20.2125, 7.25, 7.75, 7.125, 55.9, 34.375, 263.0, 10.5, 9.5, 7.775, 27.75, 19.9667, 27.75, 8.05, 26.55, 7.75, 8.05, 38.5, 13.0, 8.05, 7.05, 0.0, 26.55, 7.725, 7.25, 8.6625, 9.8375, 52.0, 21.0, 7.0458, 7.5208, 46.9, 0.0, 8.05, 25.4667, 29.7, 8.05, 19.9667, 7.25, 30.5, 49.5042, 8.05, 14.4583, 15.1, 151.55, 7.7958, 8.6625, 7.75, 7.6292, 9.5875, 108.9, 22.525, 8.05, 7.4958, 34.0208, 24.15, 7.8958, 7.8958, 7.225, 7.2292, 7.75, 221.7792, 7.925, 11.5, 7.2292, 7.2292, 8.6625, 26.55, 14.5, 31.275, 31.275, 106.425, 26.0, 20.525, 26.0, 7.8292, 26.55, 227.525, 7.75, 7.8958, 13.5, 8.05, 8.05, 24.15, 7.8958, 21.075, 7.2292, 8.05, 14.5, 14.4583, 26.0, 40.125, 8.7125, 15.0, 8.05, 8.05, 7.125, 7.25, 7.75, 26.0, 24.15, 0.0, 7.225, 7.8958, 42.4, 8.05, 15.55, 7.8958, 31.275, 7.05, 7.75, 8.05, 14.4, 16.1, 10.5, 14.4542, 7.8542, 16.1, 32.3208, 12.35, 7.8958, 7.7333, 7.0542, 0.0, 27.9, 7.925, 26.25, 39.6875, 16.1, 7.8542, 27.9, 7.8958, 7.55, 7.8958, 8.4333, 6.75, 73.5, 7.8958, 15.5, 13.0, 113.275, 7.225, 25.5875, 7.4958, 73.5, 13.0, 7.775, 8.05, 52.0, 10.5, 0.0, 7.775, 8.05, 46.9, 8.1375, 9.225, 46.9, 39.0, 41.5792, 39.6875, 10.1708, 7.7958, 7.225, 26.55, 13.5, 8.05, 110.8833, 7.65, 14.4542, 7.7417, 7.8542, 26.0, 26.55, 9.4833, 13.0, 7.65, 15.5, 7.775, 7.0542, 13.0, 13.0, 8.6625, 26.0, 7.925, 18.7875, 0.0, 13.0, 13.0, 16.1, 34.375, 7.8958, 7.8958, 78.85, 16.1, 71.0, 20.25, 53.1, 7.75, 9.5, 7.8958, 7.7958, 11.5, 8.05, 14.5, 7.125, 7.775, 39.6, 7.75, 24.15, 8.3625, 9.5, 7.8542, 10.5, 7.225, 7.75, 7.75, 7.7375, 30.0, 23.45, 7.05, 7.25, 29.125, 79.2, 7.75, 26.0, 69.55, 30.6958, 7.8958, 13.0, 7.2292, 24.15, 13.0, 7.775, 0.0, 7.775, 13.0, 7.8875, 24.15, 10.5, 31.275, 8.05, 0.0, 7.925, 37.0042, 6.45, 27.9, 0.0, 39.6875, 6.95, 56.4958, 7.2292, 7.8542, 8.3, 8.6625, 8.05, 7.925, 10.5, 6.4375, 8.6625, 7.55, 69.55, 7.8958, 33.0, 31.275, 7.775, 15.2458, 26.0, 7.2292, 14.1083, 11.5, 69.55, 13.0, 50.4958, 9.5, 7.8958, 5.0, 9.0, 9.8458, 7.8958, 7.8958, 7.8958, 10.5167, 10.5, 7.05, 29.125, 13.0, 23.45, 7.75, 7.8292, 7.0, 8.6625, 12.2875, 7.6292, 29.0, 7.2292, 24.15, 7.8958, 82.2667, 27.7208, 12.35, 7.225, 7.225, 59.4, 3.1708, 31.6833, 61.3792, 14.5, 61.9792, 26.0, 20.575, 23.45, 57.75, 8.05, 8.6625, 26.55, 7.85, 13.0, 52.5542, 60.0, 23.0, 263.0, 29.125, 7.8958, 16.1, 7.8958, 7.75, 21.0, 42.4, 263.0, 7.8958, 27.7208, 211.5, 13.0, 7.75, 26.0, 14.4542, 7.8792, 8.05, 7.75, 13.9, 52.0, 8.05, 7.925, 8.05, 55.4417, 26.0, 7.775, 22.525, 7.75, 8.7125, 13.0, 15.0458, 31.6792, 7.2833, 6.4375, 16.7, 26.0, 7.75, 7.25, 16.1, 13.0, 8.05, 28.5, 25.4667, 6.4375, 7.8958, 7.8542, 7.225, 13.0, 46.9, 46.9, 151.55, 262.375, 26.55, 26.0, 83.1583, 7.8958, 13.0, 12.1833, 7.55, 7.8542, 13.775, 7.7333, 13.5, 7.0, 50.4958, 8.9625, 7.55, 13.9, 31.3875, 39.0, 55.4417, 39.0, 83.1583, 13.0, 53.1, 7.75, 8.05, 13.0, 26.0, 14.5, 32.5, 7.8542, 134.5, 7.775, 15.5, 227.525, 10.5, 25.7417, 10.5, 7.05, 73.5, 26.0, 42.5, 7.8792, 164.8667, 8.05, 13.8583, 8.05, 27.4458, 7.7958, 15.1, 13.0, 65.0, 26.55, 6.4958, 71.2833, 7.8542, 75.25, 7.225, 106.425, 30.0, 134.5, 23.45, 51.8625, 21.0, 32.5, 14.4542, 136.7792, 7.75, 8.05, 7.775, 17.4, 7.8542, 23.0, 12.7375, 7.8958, 0.0, 8.05, 8.6625, 75.2417, 7.75, 15.5, 10.5, 21.0, 10.5, 8.6625, 7.75, 15.2458, 7.25, 8.05, 39.6, 6.95, 7.2292, 7.8958, 41.5792, 21.6792, 7.8542, 26.55, 151.55, 9.35, 93.5, 14.1083, 8.6625, 7.575, 7.75, 135.6333, 7.7333, 146.5208, 7.8542, 7.775, 7.2292, 13.0, 26.55, 211.3375, 7.05, 39.0, 36.75, 29.7, 7.225, 15.7417, 7.8958, 26.0, 31.5, 10.5, 7.5792, 69.55, 512.3292, 7.65, 13.0, 21.0, 63.3583, 10.5, 73.5, 65.0, 26.0, 7.75, 15.55, 69.55, 37.0042, 8.6625, 55.4417, 69.55, 14.4583, 39.6875, 13.8583, 11.5, 134.5, 13.0, 8.6625, 50.0, 31.3875, 7.8792, 16.1, 12.875, 7.775, 13.0, 7.75, 21.075, 39.4, 10.5, 60.0, 79.2, 7.775, 164.8667, 21.0, 59.4, 27.7208, 10.5, 7.75, 108.9, 7.25, 8.05], \"y0\": \" \", \"yaxis\": \"y\"}, {\"alignmentgroup\": \"True\", \"box\": {\"visible\": true}, \"hovertemplate\": \"Survived=%{x}<br>Fare=%{y}<extra></extra>\", \"legendgroup\": \"1.0\", \"marker\": {\"color\": \"#EF553B\"}, \"name\": \"1.0\", \"offsetgroup\": \"1.0\", \"orientation\": \"v\", \"scalegroup\": \"True\", \"showlegend\": true, \"type\": \"violin\", \"x\": [1.0, 1.0, 1.0, 1.0, 1.0, 1.0, 1.0, 1.0, 1.0, 1.0, 1.0, 1.0, 1.0, 1.0, 1.0, 1.0, 1.0, 1.0, 1.0, 1.0, 1.0, 1.0, 1.0, 1.0, 1.0, 1.0, 1.0, 1.0, 1.0, 1.0, 1.0, 1.0, 1.0, 1.0, 1.0, 1.0, 1.0, 1.0, 1.0, 1.0, 1.0, 1.0, 1.0, 1.0, 1.0, 1.0, 1.0, 1.0, 1.0, 1.0, 1.0, 1.0, 1.0, 1.0, 1.0, 1.0, 1.0, 1.0, 1.0, 1.0, 1.0, 1.0, 1.0, 1.0, 1.0, 1.0, 1.0, 1.0, 1.0, 1.0, 1.0, 1.0, 1.0, 1.0, 1.0, 1.0, 1.0, 1.0, 1.0, 1.0, 1.0, 1.0, 1.0, 1.0, 1.0, 1.0, 1.0, 1.0, 1.0, 1.0, 1.0, 1.0, 1.0, 1.0, 1.0, 1.0, 1.0, 1.0, 1.0, 1.0, 1.0, 1.0, 1.0, 1.0, 1.0, 1.0, 1.0, 1.0, 1.0, 1.0, 1.0, 1.0, 1.0, 1.0, 1.0, 1.0, 1.0, 1.0, 1.0, 1.0, 1.0, 1.0, 1.0, 1.0, 1.0, 1.0, 1.0, 1.0, 1.0, 1.0, 1.0, 1.0, 1.0, 1.0, 1.0, 1.0, 1.0, 1.0, 1.0, 1.0, 1.0, 1.0, 1.0, 1.0, 1.0, 1.0, 1.0, 1.0, 1.0, 1.0, 1.0, 1.0, 1.0, 1.0, 1.0, 1.0, 1.0, 1.0, 1.0, 1.0, 1.0, 1.0, 1.0, 1.0, 1.0, 1.0, 1.0, 1.0, 1.0, 1.0, 1.0, 1.0, 1.0, 1.0, 1.0, 1.0, 1.0, 1.0, 1.0, 1.0, 1.0, 1.0, 1.0, 1.0, 1.0, 1.0, 1.0, 1.0, 1.0, 1.0, 1.0, 1.0, 1.0, 1.0, 1.0, 1.0, 1.0, 1.0, 1.0, 1.0, 1.0, 1.0, 1.0, 1.0, 1.0, 1.0, 1.0, 1.0, 1.0, 1.0, 1.0, 1.0, 1.0, 1.0, 1.0, 1.0, 1.0, 1.0, 1.0, 1.0, 1.0, 1.0, 1.0, 1.0, 1.0, 1.0, 1.0, 1.0, 1.0, 1.0, 1.0, 1.0, 1.0, 1.0, 1.0, 1.0, 1.0, 1.0, 1.0, 1.0, 1.0, 1.0, 1.0, 1.0, 1.0, 1.0, 1.0, 1.0, 1.0, 1.0, 1.0, 1.0, 1.0, 1.0, 1.0, 1.0, 1.0, 1.0, 1.0, 1.0, 1.0, 1.0, 1.0, 1.0, 1.0, 1.0, 1.0, 1.0, 1.0, 1.0, 1.0, 1.0, 1.0, 1.0, 1.0, 1.0, 1.0, 1.0, 1.0, 1.0, 1.0, 1.0, 1.0, 1.0, 1.0, 1.0, 1.0, 1.0, 1.0, 1.0, 1.0, 1.0, 1.0, 1.0, 1.0, 1.0, 1.0, 1.0, 1.0, 1.0, 1.0, 1.0, 1.0, 1.0, 1.0, 1.0, 1.0, 1.0, 1.0, 1.0, 1.0, 1.0, 1.0, 1.0, 1.0, 1.0, 1.0, 1.0, 1.0, 1.0, 1.0, 1.0, 1.0, 1.0, 1.0, 1.0, 1.0, 1.0, 1.0, 1.0, 1.0, 1.0, 1.0, 1.0, 1.0, 1.0, 1.0, 1.0, 1.0, 1.0, 1.0, 1.0, 1.0, 1.0, 1.0, 1.0, 1.0, 1.0, 1.0, 1.0, 1.0, 1.0, 1.0, 1.0, 1.0, 1.0, 1.0, 1.0, 1.0, 1.0, 1.0, 1.0, 1.0, 1.0, 1.0, 1.0, 1.0, 1.0, 1.0, 1.0, 1.0, 1.0, 1.0, 1.0, 1.0, 1.0, 1.0, 1.0, 1.0, 1.0, 1.0, 1.0, 1.0, 1.0, 1.0, 1.0, 1.0, 1.0, 1.0, 1.0, 1.0, 1.0, 1.0, 1.0, 1.0, 1.0, 1.0, 1.0, 1.0, 1.0, 1.0, 1.0, 1.0, 1.0, 1.0, 1.0, 1.0, 1.0, 1.0, 1.0, 1.0, 1.0, 1.0, 1.0, 1.0, 1.0, 1.0, 1.0, 1.0, 1.0, 1.0, 1.0, 1.0, 1.0, 1.0, 1.0, 1.0, 1.0, 1.0, 1.0, 1.0, 1.0, 1.0, 1.0, 1.0, 1.0, 1.0, 1.0, 1.0, 1.0, 1.0, 1.0, 1.0, 1.0, 1.0, 1.0, 1.0, 1.0, 1.0, 1.0, 1.0, 1.0, 1.0, 1.0, 1.0, 1.0, 1.0, 1.0, 1.0, 1.0, 1.0, 1.0, 1.0, 1.0, 1.0, 1.0, 1.0, 1.0, 1.0, 1.0, 1.0, 1.0, 1.0, 1.0, 1.0, 1.0, 1.0, 1.0, 1.0, 1.0, 1.0, 1.0, 1.0, 1.0, 1.0, 1.0, 1.0, 1.0, 1.0, 1.0, 1.0, 1.0, 1.0, 1.0, 1.0, 1.0, 1.0, 1.0, 1.0, 1.0, 1.0, 1.0, 1.0, 1.0, 1.0], \"x0\": \" \", \"xaxis\": \"x\", \"y\": [71.2833, 7.925, 53.1, 11.1333, 30.0708, 16.7, 26.55, 16.0, 13.0, 7.225, 13.0, 8.0292, 35.5, 31.3875, 7.8792, 146.5208, 7.75, 7.2292, 11.2417, 41.5792, 7.8792, 7.75, 76.7292, 26.0, 35.5, 10.5, 27.75, 80.0, 15.2458, 10.5, 7.925, 56.4958, 29.0, 12.475, 9.5, 7.7875, 10.5, 15.85, 263.0, 63.3583, 23.0, 7.65, 7.775, 24.15, 13.0, 11.2417, 7.1417, 22.3583, 26.0, 26.2833, 7.75, 15.85, 7.7958, 66.6, 7.7333, 15.75, 20.525, 55.0, 11.1333, 39.0, 22.025, 15.5, 26.55, 13.0, 7.8542, 26.0, 27.7208, 146.5208, 7.75, 8.05, 18.7875, 7.75, 31.0, 21.0, 113.275, 7.925, 76.2917, 8.05, 90.0, 10.5, 83.475, 31.3875, 26.25, 15.5, 14.5, 52.5542, 15.2458, 79.2, 86.5, 512.3292, 26.0, 31.3875, 7.775, 153.4625, 135.6333, 0.0, 19.5, 7.75, 77.9583, 20.25, 8.05, 9.5, 13.0, 7.75, 78.85, 91.0792, 30.5, 247.5208, 7.75, 23.25, 12.35, 151.55, 110.8833, 108.9, 56.9292, 83.1583, 262.375, 7.8542, 26.0, 164.8667, 134.5, 12.35, 29.0, 135.6333, 13.0, 20.525, 57.9792, 23.25, 133.65, 134.5, 8.05, 26.0, 263.0, 13.0, 13.0, 16.1, 15.9, 55.0, 7.8792, 7.8792, 75.25, 7.2292, 7.75, 69.3, 55.4417, 82.1708, 7.25, 227.525, 15.7417, 52.0, 13.0, 12.0, 120.0, 7.7958, 113.275, 16.7, 12.65, 7.925, 18.75, 90.0, 7.925, 32.5, 13.0, 26.0, 26.0, 8.05, 26.55, 16.1, 26.0, 120.0, 18.75, 26.25, 13.0, 8.1125, 81.8583, 19.5, 26.55, 19.2583, 30.5, 89.1042, 7.8958, 51.8625, 10.5, 26.55, 19.2583, 27.75, 13.7917, 12.2875, 9.5875, 91.0792, 90.0, 15.9, 78.2667, 86.5, 26.0, 26.55, 56.4958, 7.75, 26.2875, 59.4, 10.5, 26.0, 93.5, 57.9792, 10.5, 26.0, 22.3583, 26.25, 106.425, 49.5, 71.0, 26.0, 26.0, 13.8625, 36.75, 110.8833, 7.225, 7.775, 39.6, 79.65, 17.4, 7.8542, 10.5, 51.4792, 26.3875, 7.75, 13.0, 55.9, 7.925, 30.0, 110.8833, 79.65, 79.2, 78.2667, 33.0, 56.9292, 27.0, 26.55, 30.5, 41.5792, 153.4625, 15.5, 65.0, 39.0, 52.5542, 15.7417, 77.9583, 30.0, 30.5, 13.0, 69.3, 56.4958, 19.2583, 76.7292, 35.5, 7.55, 23.0, 7.8292, 133.65, 7.925, 52.0, 39.0, 13.0, 9.8417, 512.3292, 76.7292, 211.3375, 57.0, 13.4167, 56.4958, 7.7333, 227.525, 26.2875, 13.5, 26.2875, 151.55, 15.2458, 49.5042, 52.0, 227.525, 10.5, 33.0, 53.1, 21.0, 7.7375, 211.3375, 512.3292, 30.0, 262.375, 7.925, 13.0, 23.0, 12.475, 65.0, 14.5, 86.5, 7.2292, 120.0, 77.9583, 23.0, 12.475, 211.3375, 7.2292, 57.0, 7.4958, 20.575, 25.9292, 8.6833, 26.25, 120.0, 8.5167, 6.975, 53.1, 93.5, 8.6625, 12.475, 37.0042, 7.75, 80.0, 14.4542, 18.75, 83.1583, 56.4958, 29.7, 31.0, 89.1042, 39.4, 9.35, 164.8667, 26.55, 19.2583, 25.9292, 13.0, 13.8583, 11.1333, 52.5542, 24.0, 7.225, 83.1583, 26.0, 30.0, 30.0, 9.6875, 9.225, 26.0, 26.0, 61.175, 7.925, 262.375, 7.225, 30.5, 21.6792, 31.5, 7.2292, 9.5, 56.4958, 13.4167, 7.925, 29.7, 7.75, 76.2917, 15.9, 15.0333, 15.5792, 7.65, 262.375, 13.5, 7.725, 262.375, 7.8792, 28.5375, 7.75, 7.925, 211.5, 8.05, 25.7, 15.2458, 221.7792, 7.8958, 10.7083, 23.0, 7.775, 26.0, 7.7958, 78.85, 7.8542, 7.75, 8.5167, 7.8208, 7.7792, 221.7792, 14.4542, 75.2417, 15.75, 57.75, 7.75, 7.7958, 23.25, 8.05, 8.05, 26.0, 26.55, 18.0, 51.8625, 8.05, 31.3875, 221.7792, 26.55, 15.2458, 13.0, 22.025, 34.375, 27.7208, 7.225, 7.2292, 36.75, 83.1583, 247.5208, 16.0, 21.0, 69.55, 26.0, 12.35, 10.5, 8.1125, 14.4, 26.0, 7.75, 27.7208, 7.8958, 22.525, 7.775, 211.5, 10.5, 7.7958, 15.2458, 7.75, 7.8792, 13.0, 27.7208, 7.8875, 26.0, 27.75, 7.925, 9.325, 9.5, 7.55, 13.0, 12.1833, 7.55, 136.7792, 7.225, 26.0, 26.0, 13.775, 20.2125, 7.25, 82.2667, 7.2292, 81.8583, 9.5, 45.5, 7.775, 15.0458, 21.0, 8.6625, 7.75, 7.225, 10.5, 31.5, 79.2, 26.0, 13.0, 13.0, 7.2292, 7.2292, 14.5, 7.2292, 13.5, 20.575, 51.4792, 7.8792, 21.0, 59.4, 0.0, 81.8583, 262.375, 11.5, 7.75, 14.5, 65.0, 93.5, 20.25, 22.025, 7.25, 7.7333, 47.1, 13.8625, 211.5, 7.7208, 13.775, 90.0, 7.775, 8.05, 22.3583], \"y0\": \" \", \"yaxis\": \"y\"}],                        {\"legend\": {\"title\": {\"text\": \"Survived\"}, \"tracegroupgap\": 0}, \"margin\": {\"t\": 60}, \"template\": {\"data\": {\"bar\": [{\"error_x\": {\"color\": \"#2a3f5f\"}, \"error_y\": {\"color\": \"#2a3f5f\"}, \"marker\": {\"line\": {\"color\": \"#E5ECF6\", \"width\": 0.5}}, \"type\": \"bar\"}], \"barpolar\": [{\"marker\": {\"line\": {\"color\": \"#E5ECF6\", \"width\": 0.5}}, \"type\": \"barpolar\"}], \"carpet\": [{\"aaxis\": {\"endlinecolor\": \"#2a3f5f\", \"gridcolor\": \"white\", \"linecolor\": \"white\", \"minorgridcolor\": \"white\", \"startlinecolor\": \"#2a3f5f\"}, \"baxis\": {\"endlinecolor\": \"#2a3f5f\", \"gridcolor\": \"white\", \"linecolor\": \"white\", \"minorgridcolor\": \"white\", \"startlinecolor\": \"#2a3f5f\"}, \"type\": \"carpet\"}], \"choropleth\": [{\"colorbar\": {\"outlinewidth\": 0, \"ticks\": \"\"}, \"type\": \"choropleth\"}], \"contour\": [{\"colorbar\": {\"outlinewidth\": 0, \"ticks\": \"\"}, \"colorscale\": [[0.0, \"#0d0887\"], [0.1111111111111111, \"#46039f\"], [0.2222222222222222, \"#7201a8\"], [0.3333333333333333, \"#9c179e\"], [0.4444444444444444, \"#bd3786\"], [0.5555555555555556, \"#d8576b\"], [0.6666666666666666, \"#ed7953\"], [0.7777777777777778, \"#fb9f3a\"], [0.8888888888888888, \"#fdca26\"], [1.0, \"#f0f921\"]], \"type\": \"contour\"}], \"contourcarpet\": [{\"colorbar\": {\"outlinewidth\": 0, \"ticks\": \"\"}, \"type\": \"contourcarpet\"}], \"heatmap\": [{\"colorbar\": {\"outlinewidth\": 0, \"ticks\": \"\"}, \"colorscale\": [[0.0, \"#0d0887\"], [0.1111111111111111, \"#46039f\"], [0.2222222222222222, \"#7201a8\"], [0.3333333333333333, \"#9c179e\"], [0.4444444444444444, \"#bd3786\"], [0.5555555555555556, \"#d8576b\"], [0.6666666666666666, \"#ed7953\"], [0.7777777777777778, \"#fb9f3a\"], [0.8888888888888888, \"#fdca26\"], [1.0, \"#f0f921\"]], \"type\": \"heatmap\"}], \"heatmapgl\": [{\"colorbar\": {\"outlinewidth\": 0, \"ticks\": \"\"}, \"colorscale\": [[0.0, \"#0d0887\"], [0.1111111111111111, \"#46039f\"], [0.2222222222222222, \"#7201a8\"], [0.3333333333333333, \"#9c179e\"], [0.4444444444444444, \"#bd3786\"], [0.5555555555555556, \"#d8576b\"], [0.6666666666666666, \"#ed7953\"], [0.7777777777777778, \"#fb9f3a\"], [0.8888888888888888, \"#fdca26\"], [1.0, \"#f0f921\"]], \"type\": \"heatmapgl\"}], \"histogram\": [{\"marker\": {\"colorbar\": {\"outlinewidth\": 0, \"ticks\": \"\"}}, \"type\": \"histogram\"}], \"histogram2d\": [{\"colorbar\": {\"outlinewidth\": 0, \"ticks\": \"\"}, \"colorscale\": [[0.0, \"#0d0887\"], [0.1111111111111111, \"#46039f\"], [0.2222222222222222, \"#7201a8\"], [0.3333333333333333, \"#9c179e\"], [0.4444444444444444, \"#bd3786\"], [0.5555555555555556, \"#d8576b\"], [0.6666666666666666, \"#ed7953\"], [0.7777777777777778, \"#fb9f3a\"], [0.8888888888888888, \"#fdca26\"], [1.0, \"#f0f921\"]], \"type\": \"histogram2d\"}], \"histogram2dcontour\": [{\"colorbar\": {\"outlinewidth\": 0, \"ticks\": \"\"}, \"colorscale\": [[0.0, \"#0d0887\"], [0.1111111111111111, \"#46039f\"], [0.2222222222222222, \"#7201a8\"], [0.3333333333333333, \"#9c179e\"], [0.4444444444444444, \"#bd3786\"], [0.5555555555555556, \"#d8576b\"], [0.6666666666666666, \"#ed7953\"], [0.7777777777777778, \"#fb9f3a\"], [0.8888888888888888, \"#fdca26\"], [1.0, \"#f0f921\"]], \"type\": \"histogram2dcontour\"}], \"mesh3d\": [{\"colorbar\": {\"outlinewidth\": 0, \"ticks\": \"\"}, \"type\": \"mesh3d\"}], \"parcoords\": [{\"line\": {\"colorbar\": {\"outlinewidth\": 0, \"ticks\": \"\"}}, \"type\": \"parcoords\"}], \"pie\": [{\"automargin\": true, \"type\": \"pie\"}], \"scatter\": [{\"marker\": {\"colorbar\": {\"outlinewidth\": 0, \"ticks\": \"\"}}, \"type\": \"scatter\"}], \"scatter3d\": [{\"line\": {\"colorbar\": {\"outlinewidth\": 0, \"ticks\": \"\"}}, \"marker\": {\"colorbar\": {\"outlinewidth\": 0, \"ticks\": \"\"}}, \"type\": \"scatter3d\"}], \"scattercarpet\": [{\"marker\": {\"colorbar\": {\"outlinewidth\": 0, \"ticks\": \"\"}}, \"type\": \"scattercarpet\"}], \"scattergeo\": [{\"marker\": {\"colorbar\": {\"outlinewidth\": 0, \"ticks\": \"\"}}, \"type\": \"scattergeo\"}], \"scattergl\": [{\"marker\": {\"colorbar\": {\"outlinewidth\": 0, \"ticks\": \"\"}}, \"type\": \"scattergl\"}], \"scattermapbox\": [{\"marker\": {\"colorbar\": {\"outlinewidth\": 0, \"ticks\": \"\"}}, \"type\": \"scattermapbox\"}], \"scatterpolar\": [{\"marker\": {\"colorbar\": {\"outlinewidth\": 0, \"ticks\": \"\"}}, \"type\": \"scatterpolar\"}], \"scatterpolargl\": [{\"marker\": {\"colorbar\": {\"outlinewidth\": 0, \"ticks\": \"\"}}, \"type\": \"scatterpolargl\"}], \"scatterternary\": [{\"marker\": {\"colorbar\": {\"outlinewidth\": 0, \"ticks\": \"\"}}, \"type\": \"scatterternary\"}], \"surface\": [{\"colorbar\": {\"outlinewidth\": 0, \"ticks\": \"\"}, \"colorscale\": [[0.0, \"#0d0887\"], [0.1111111111111111, \"#46039f\"], [0.2222222222222222, \"#7201a8\"], [0.3333333333333333, \"#9c179e\"], [0.4444444444444444, \"#bd3786\"], [0.5555555555555556, \"#d8576b\"], [0.6666666666666666, \"#ed7953\"], [0.7777777777777778, \"#fb9f3a\"], [0.8888888888888888, \"#fdca26\"], [1.0, \"#f0f921\"]], \"type\": \"surface\"}], \"table\": [{\"cells\": {\"fill\": {\"color\": \"#EBF0F8\"}, \"line\": {\"color\": \"white\"}}, \"header\": {\"fill\": {\"color\": \"#C8D4E3\"}, \"line\": {\"color\": \"white\"}}, \"type\": \"table\"}]}, \"layout\": {\"annotationdefaults\": {\"arrowcolor\": \"#2a3f5f\", \"arrowhead\": 0, \"arrowwidth\": 1}, \"autotypenumbers\": \"strict\", \"coloraxis\": {\"colorbar\": {\"outlinewidth\": 0, \"ticks\": \"\"}}, \"colorscale\": {\"diverging\": [[0, \"#8e0152\"], [0.1, \"#c51b7d\"], [0.2, \"#de77ae\"], [0.3, \"#f1b6da\"], [0.4, \"#fde0ef\"], [0.5, \"#f7f7f7\"], [0.6, \"#e6f5d0\"], [0.7, \"#b8e186\"], [0.8, \"#7fbc41\"], [0.9, \"#4d9221\"], [1, \"#276419\"]], \"sequential\": [[0.0, \"#0d0887\"], [0.1111111111111111, \"#46039f\"], [0.2222222222222222, \"#7201a8\"], [0.3333333333333333, \"#9c179e\"], [0.4444444444444444, \"#bd3786\"], [0.5555555555555556, \"#d8576b\"], [0.6666666666666666, \"#ed7953\"], [0.7777777777777778, \"#fb9f3a\"], [0.8888888888888888, \"#fdca26\"], [1.0, \"#f0f921\"]], \"sequentialminus\": [[0.0, \"#0d0887\"], [0.1111111111111111, \"#46039f\"], [0.2222222222222222, \"#7201a8\"], [0.3333333333333333, \"#9c179e\"], [0.4444444444444444, \"#bd3786\"], [0.5555555555555556, \"#d8576b\"], [0.6666666666666666, \"#ed7953\"], [0.7777777777777778, \"#fb9f3a\"], [0.8888888888888888, \"#fdca26\"], [1.0, \"#f0f921\"]]}, \"colorway\": [\"#636efa\", \"#EF553B\", \"#00cc96\", \"#ab63fa\", \"#FFA15A\", \"#19d3f3\", \"#FF6692\", \"#B6E880\", \"#FF97FF\", \"#FECB52\"], \"font\": {\"color\": \"#2a3f5f\"}, \"geo\": {\"bgcolor\": \"white\", \"lakecolor\": \"white\", \"landcolor\": \"#E5ECF6\", \"showlakes\": true, \"showland\": true, \"subunitcolor\": \"white\"}, \"hoverlabel\": {\"align\": \"left\"}, \"hovermode\": \"closest\", \"mapbox\": {\"style\": \"light\"}, \"paper_bgcolor\": \"white\", \"plot_bgcolor\": \"#E5ECF6\", \"polar\": {\"angularaxis\": {\"gridcolor\": \"white\", \"linecolor\": \"white\", \"ticks\": \"\"}, \"bgcolor\": \"#E5ECF6\", \"radialaxis\": {\"gridcolor\": \"white\", \"linecolor\": \"white\", \"ticks\": \"\"}}, \"scene\": {\"xaxis\": {\"backgroundcolor\": \"#E5ECF6\", \"gridcolor\": \"white\", \"gridwidth\": 2, \"linecolor\": \"white\", \"showbackground\": true, \"ticks\": \"\", \"zerolinecolor\": \"white\"}, \"yaxis\": {\"backgroundcolor\": \"#E5ECF6\", \"gridcolor\": \"white\", \"gridwidth\": 2, \"linecolor\": \"white\", \"showbackground\": true, \"ticks\": \"\", \"zerolinecolor\": \"white\"}, \"zaxis\": {\"backgroundcolor\": \"#E5ECF6\", \"gridcolor\": \"white\", \"gridwidth\": 2, \"linecolor\": \"white\", \"showbackground\": true, \"ticks\": \"\", \"zerolinecolor\": \"white\"}}, \"shapedefaults\": {\"line\": {\"color\": \"#2a3f5f\"}}, \"ternary\": {\"aaxis\": {\"gridcolor\": \"white\", \"linecolor\": \"white\", \"ticks\": \"\"}, \"baxis\": {\"gridcolor\": \"white\", \"linecolor\": \"white\", \"ticks\": \"\"}, \"bgcolor\": \"#E5ECF6\", \"caxis\": {\"gridcolor\": \"white\", \"linecolor\": \"white\", \"ticks\": \"\"}}, \"title\": {\"x\": 0.05}, \"xaxis\": {\"automargin\": true, \"gridcolor\": \"white\", \"linecolor\": \"white\", \"ticks\": \"\", \"title\": {\"standoff\": 15}, \"zerolinecolor\": \"white\", \"zerolinewidth\": 2}, \"yaxis\": {\"automargin\": true, \"gridcolor\": \"white\", \"linecolor\": \"white\", \"ticks\": \"\", \"title\": {\"standoff\": 15}, \"zerolinecolor\": \"white\", \"zerolinewidth\": 2}}}, \"violinmode\": \"overlay\", \"xaxis\": {\"anchor\": \"y\", \"categoryarray\": [0.0, 1.0], \"categoryorder\": \"array\", \"domain\": [0.0, 1.0], \"title\": {\"text\": \"Survived\"}}, \"yaxis\": {\"anchor\": \"x\", \"domain\": [0.0, 1.0], \"title\": {\"text\": \"Fare\"}}},                        {\"responsive\": true}                    ).then(function(){\n",
       "                            \n",
       "var gd = document.getElementById('0b81e099-63bf-47d5-b92a-9471001b87fa');\n",
       "var x = new MutationObserver(function (mutations, observer) {{\n",
       "        var display = window.getComputedStyle(gd).display;\n",
       "        if (!display || display === 'none') {{\n",
       "            console.log([gd, 'removed!']);\n",
       "            Plotly.purge(gd);\n",
       "            observer.disconnect();\n",
       "        }}\n",
       "}});\n",
       "\n",
       "// Listen for the removal of the full notebook cells\n",
       "var notebookContainer = gd.closest('#notebook-container');\n",
       "if (notebookContainer) {{\n",
       "    x.observe(notebookContainer, {childList: true});\n",
       "}}\n",
       "\n",
       "// Listen for the clearing of the current output cell\n",
       "var outputEl = gd.closest('.output');\n",
       "if (outputEl) {{\n",
       "    x.observe(outputEl, {childList: true});\n",
       "}}\n",
       "\n",
       "                        })                };                });            </script>        </div>"
      ]
     },
     "metadata": {},
     "output_type": "display_data"
    }
   ],
   "source": [
    "violin('Fare')"
   ]
  },
  {
   "cell_type": "code",
   "execution_count": 45,
   "metadata": {
    "execution": {
     "iopub.execute_input": "2021-06-07T10:56:57.332480Z",
     "iopub.status.busy": "2021-06-07T10:56:57.331764Z",
     "iopub.status.idle": "2021-06-07T10:56:57.436215Z",
     "shell.execute_reply": "2021-06-07T10:56:57.436750Z",
     "shell.execute_reply.started": "2021-06-06T10:51:53.654042Z"
    },
    "papermill": {
     "duration": 0.201707,
     "end_time": "2021-06-07T10:56:57.436930",
     "exception": false,
     "start_time": "2021-06-07T10:56:57.235223",
     "status": "completed"
    },
    "tags": []
   },
   "outputs": [
    {
     "data": {
      "text/html": [
       "<div>                            <div id=\"fb09773b-3475-4efe-8edc-7a5dedbcaee6\" class=\"plotly-graph-div\" style=\"height:525px; width:100%;\"></div>            <script type=\"text/javascript\">                require([\"plotly\"], function(Plotly) {                    window.PLOTLYENV=window.PLOTLYENV || {};                                    if (document.getElementById(\"fb09773b-3475-4efe-8edc-7a5dedbcaee6\")) {                    Plotly.newPlot(                        \"fb09773b-3475-4efe-8edc-7a5dedbcaee6\",                        [{\"hovertemplate\": \"Age=%{x}<br>Fare=%{y}<br>Survived=%{marker.color}<extra></extra>\", \"legendgroup\": \"\", \"marker\": {\"color\": [0.0, 1.0, 1.0, 1.0, 0.0, 0.0, 0.0, 0.0, 1.0, 1.0, 1.0, 1.0, 0.0, 0.0, 0.0, 1.0, 0.0, 1.0, 0.0, 1.0, 0.0, 1.0, 1.0, 1.0, 0.0, 1.0, 0.0, 0.0, 1.0, 0.0, 0.0, 1.0, 1.0, 0.0, 0.0, 0.0, 1.0, 0.0, 0.0, 1.0, 0.0, 0.0, 0.0, 1.0, 1.0, 0.0, 0.0, 1.0, 0.0, 0.0, 0.0, 0.0, 1.0, 1.0, 0.0, 1.0, 1.0, 0.0, 1.0, 0.0, 0.0, 1.0, 0.0, 0.0, 0.0, 1.0, 1.0, 0.0, 1.0, 0.0, 0.0, 0.0, 0.0, 0.0, 1.0, 0.0, 0.0, 0.0, 1.0, 1.0, 0.0, 1.0, 1.0, 0.0, 1.0, 1.0, 0.0, 0.0, 1.0, 0.0, 0.0, 0.0, 0.0, 0.0, 0.0, 0.0, 0.0, 1.0, 1.0, 0.0, 0.0, 0.0, 0.0, 0.0, 0.0, 0.0, 1.0, 1.0, 0.0, 1.0, 0.0, 0.0, 0.0, 0.0, 0.0, 0.0, 0.0, 0.0, 0.0, 0.0, 0.0, 0.0, 0.0, 1.0, 0.0, 1.0, 0.0, 1.0, 1.0, 0.0, 0.0, 0.0, 0.0, 1.0, 0.0, 0.0, 1.0, 0.0, 0.0, 0.0, 0.0, 1.0, 1.0, 0.0, 0.0, 0.0, 1.0, 0.0, 0.0, 0.0, 0.0, 1.0, 0.0, 0.0, 0.0, 0.0, 1.0, 0.0, 0.0, 0.0, 0.0, 1.0, 0.0, 0.0, 0.0, 1.0, 1.0, 0.0, 0.0, 0.0, 0.0, 0.0, 1.0, 0.0, 0.0, 0.0, 0.0, 0.0, 0.0, 0.0, 0.0, 0.0, 0.0, 1.0, 1.0, 0.0, 1.0, 1.0, 0.0, 0.0, 1.0, 0.0, 1.0, 1.0, 1.0, 1.0, 0.0, 0.0, 1.0, 0.0, 0.0, 0.0, 0.0, 0.0, 1.0, 0.0, 0.0, 1.0, 1.0, 1.0, 0.0, 1.0, 0.0, 0.0, 0.0, 1.0, 1.0, 0.0, 1.0, 0.0, 1.0, 0.0, 0.0, 0.0, 1.0, 0.0, 1.0, 0.0, 0.0, 0.0, 1.0, 0.0, 0.0, 1.0, 0.0, 0.0, 0.0, 1.0, 0.0, 0.0, 0.0, 1.0, 0.0, 0.0, 0.0, 0.0, 0.0, 1.0, 1.0, 0.0, 0.0, 0.0, 0.0, 0.0, 0.0, 1.0, 1.0, 1.0, 1.0, 1.0, 0.0, 1.0, 0.0, 0.0, 0.0, 0.0, 0.0, 1.0, 1.0, 1.0, 0.0, 1.0, 1.0, 0.0, 1.0, 1.0, 0.0, 0.0, 0.0, 1.0, 0.0, 0.0, 0.0, 1.0, 0.0, 0.0, 1.0, 0.0, 1.0, 1.0, 1.0, 1.0, 0.0, 0.0, 0.0, 0.0, 0.0, 0.0, 1.0, 1.0, 1.0, 1.0, 0.0, 1.0, 0.0, 1.0, 1.0, 1.0, 0.0, 1.0, 1.0, 1.0, 0.0, 0.0, 0.0, 1.0, 1.0, 0.0, 1.0, 1.0, 0.0, 0.0, 1.0, 1.0, 0.0, 1.0, 0.0, 1.0, 1.0, 1.0, 1.0, 0.0, 0.0, 0.0, 1.0, 0.0, 0.0, 1.0, 1.0, 0.0, 1.0, 1.0, 0.0, 0.0, 0.0, 1.0, 1.0, 1.0, 1.0, 0.0, 0.0, 0.0, 0.0, 0.0, 0.0, 0.0, 1.0, 0.0, 1.0, 1.0, 0.0, 0.0, 0.0, 0.0, 0.0, 0.0, 1.0, 1.0, 1.0, 1.0, 1.0, 0.0, 0.0, 0.0, 0.0, 1.0, 1.0, 0.0, 0.0, 0.0, 1.0, 1.0, 0.0, 1.0, 0.0, 0.0, 0.0, 1.0, 0.0, 1.0, 1.0, 1.0, 0.0, 1.0, 1.0, 0.0, 0.0, 0.0, 0.0, 1.0, 1.0, 0.0, 0.0, 0.0, 0.0, 0.0, 0.0, 1.0, 0.0, 0.0, 0.0, 0.0, 1.0, 0.0, 1.0, 0.0, 1.0, 1.0, 0.0, 0.0, 0.0, 0.0, 0.0, 0.0, 0.0, 0.0, 1.0, 1.0, 0.0, 1.0, 1.0, 1.0, 1.0, 0.0, 0.0, 1.0, 0.0, 1.0, 0.0, 0.0, 1.0, 0.0, 0.0, 1.0, 1.0, 1.0, 1.0, 1.0, 1.0, 1.0, 0.0, 0.0, 0.0, 1.0, 0.0, 1.0, 0.0, 1.0, 1.0, 0.0, 1.0, 0.0, 0.0, 0.0, 0.0, 0.0, 0.0, 0.0, 0.0, 1.0, 0.0, 0.0, 1.0, 1.0, 0.0, 0.0, 0.0, 0.0, 0.0, 1.0, 0.0, 0.0, 0.0, 1.0, 1.0, 0.0, 1.0, 0.0, 0.0, 1.0, 0.0, 0.0, 0.0, 0.0, 0.0, 0.0, 1.0, 0.0, 0.0, 0.0, 0.0, 0.0, 0.0, 0.0, 1.0, 0.0, 1.0, 1.0, 0.0, 1.0, 1.0, 0.0, 1.0, 1.0, 0.0, 0.0, 1.0, 0.0, 1.0, 0.0, 1.0, 0.0, 0.0, 1.0, 0.0, 0.0, 1.0, 0.0, 0.0, 0.0, 1.0, 0.0, 0.0, 1.0, 0.0, 1.0, 0.0, 1.0, 0.0, 1.0, 1.0, 0.0, 0.0, 1.0, 0.0, 0.0, 1.0, 1.0, 0.0, 1.0, 1.0, 0.0, 0.0, 1.0, 1.0, 0.0, 1.0, 0.0, 1.0, 1.0, 0.0, 0.0, 0.0, 0.0, 0.0, 0.0, 0.0, 0.0, 0.0, 1.0, 1.0, 1.0, 1.0, 1.0, 0.0, 0.0, 1.0, 1.0, 0.0, 1.0, 1.0, 1.0, 0.0, 0.0, 0.0, 1.0, 0.0, 1.0, 0.0, 0.0, 0.0, 1.0, 0.0, 0.0, 0.0, 0.0, 1.0, 0.0, 0.0, 1.0, 1.0, 0.0, 0.0, 0.0, 1.0, 0.0, 0.0, 1.0, 1.0, 1.0, 0.0, 0.0, 1.0, 0.0, 0.0, 1.0, 0.0, 0.0, 1.0, 0.0, 0.0, 1.0, 1.0, 0.0, 0.0, 0.0, 0.0, 1.0, 0.0, 0.0, 1.0, 0.0, 1.0, 0.0, 0.0, 1.0, 0.0, 0.0, 0.0, 0.0, 0.0, 1.0, 0.0, 1.0, 1.0, 1.0, 0.0, 1.0, 0.0, 1.0, 0.0, 1.0, 0.0, 1.0, 0.0, 0.0, 0.0, 0.0, 0.0, 0.0, 1.0, 0.0, 0.0, 0.0, 1.0, 0.0, 0.0, 0.0, 0.0, 1.0, 1.0, 0.0, 0.0, 1.0, 0.0, 0.0, 0.0, 1.0, 0.0, 1.0, 0.0, 1.0, 0.0, 0.0, 0.0, 0.0, 0.0, 0.0, 0.0, 1.0, 1.0, 1.0, 1.0, 0.0, 0.0, 0.0, 0.0, 1.0, 0.0, 0.0, 1.0, 1.0, 0.0, 0.0, 0.0, 0.0, 1.0, 1.0, 1.0, 1.0, 1.0, 0.0, 1.0, 0.0, 0.0, 0.0, 1.0, 1.0, 0.0, 0.0, 1.0, 0.0, 0.0, 0.0, 1.0, 0.0, 1.0, 1.0, 0.0, 0.0, 1.0, 0.0, 0.0, 0.0, 0.0, 0.0, 0.0, 1.0, 0.0, 0.0, 1.0, 0.0, 1.0, 0.0, 1.0, 0.0, 0.0, 1.0, 0.0, 0.0, 1.0, 1.0, 0.0, 0.0, 1.0, 1.0, 0.0, 0.0, 0.0, 1.0, 0.0, 0.0, 1.0, 1.0, 0.0, 1.0, 0.0, 0.0, 0.0, 0.0, 0.0, 0.0, 0.0, 0.0, 1.0, 0.0, 0.0, 1.0, 0.0, 1.0, 1.0, 1.0, 0.0, 0.0, 0.0, 0.0, 1.0, 0.0, 1.0, 0.0, 0.0, 0.0, 0.0, 0.0, 0.0, 0.0, 1.0, 1.0, 0.0, 0.0, 0.0, 1.0, 1.0, 1.0, 1.0, 0.0, 0.0, 0.0, 0.0, 1.0, 0.0, 0.0, 0.0, 0.0, 0.0, 0.0, 0.0, 0.0, 0.0, 0.0, 1.0, 1.0, 0.0, 1.0, 0.0, 0.0, 0.0, 1.0, 1.0, 1.0, 1.0, 1.0, 0.0, 0.0, 0.0, 1.0, 0.0, 0.0, 1.0, 1.0, 0.0, 0.0, 1.0, 0.0, 0.0, 0.0, 0.0, 0.0, 0.0, 1.0, 0.0, 0.0, 0.0, 1.0, 0.0, 1.0, 1.0, 1.0, 1.0, 0.0, 0.0, 0.0, 1.0, 0.0, 0.0, 1.0, 1.0, 0.0, 0.0, 1.0, 0.0, 1.0, 0.0, 0.0, 1.0, 1.0, 0.0, 0.0, 0.0, 1.0, 1.0, 0.0, 0.0, 0.0, 0.0, 0.0, 0.0, 1.0, 0.0, 1.0, 0.0, 0.0, 0.0, 1.0, 0.0, 0.0, 1.0, 0.0, 0.0, 0.0, 0.0, 0.0, 1.0, 0.0, 1.0, 1.0, 0.0, 0.0, 0.0, 1.0, 0.0, 0.0, 0.0, 0.0, 0.0, 1.0, 0.0, 0.0, 1.0, 1.0, 1.0, 0.0, 1.0, 0.0, 0.0, 0.0, 1.0, 0.0, 0.0, 1.0, 1.0, 1.0, 0.0, 0.0, 0.0, 0.0, 1.0, 1.0, 1.0, 1.0, 1.0, 0.0, 1.0, 0.0, 0.0, 1.0, 0.0, 0.0, 1.0, 0.0, 1.0, 0.0, 1.0, 0.0, 1.0, 1.0, 0.0, 1.0, 0.0, 1.0, 0.0, 1.0, 0.0, 1.0, 0.0, 0.0, 1.0, 1.0, 1.0, 0.0, 0.0, 1.0, 1.0, 0.0, 1.0, 1.0, 0.0, 0.0, 0.0, 0.0, 1.0, 0.0, 1.0, 0.0, 0.0, 1.0, 1.0, 1.0, 0.0, 1.0, 0.0, 0.0, 0.0, 1.0, 0.0, 1.0, 0.0, 1.0, 0.0, 0.0, 0.0, 0.0, 1.0, 0.0, 0.0, 1.0, 1.0, 0.0, 0.0, 1.0, 0.0, 1.0, 0.0, 1.0, 0.0, 1.0, 0.0, 1.0, 1.0, 0.0, 1.0, 0.0, 0.0, 0.0, 0.0, 0.0, 0.0, 0.0, 0.0, 1.0, 0.0, 0.0, 0.0, 0.0, 1.0, 1.0, 1.0, 1.0, 1.0, 0.0, 0.0, 0.0, 0.0, 0.0, 0.0, 1.0, 0.0, 1.0, 0.0, 1.0, 0.0, 0.0, 1.0, 0.0, 0.0, 1.0, 1.0, 0.0, 1.0, 1.0, 0.0, 0.0, 1.0, 0.0, 1.0, 0.0, 0.0, 1.0, 0.0, 0.0, 0.0, 0.0, 1.0, 0.0, 0.0, 1.0, 1.0, 1.0, 0.0, 1.0, 0.0, 0.0, 1.0, 0.0, 1.0, 0.0, 0.0, 0.0, 0.0, 1.0, 1.0, 0.0, 1.0, 0.0, 1.0, 0.0, 0.0, 1.0, 0.0, 1.0, 1.0, 1.0, 0.0, 0.0, 0.0, 1.0, 0.0, 0.0, 0.0, 1.0, 0.0, 0.0, 0.0, 1.0, 1.0, 0.0, 1.0, 0.0, 1.0, 0.0, 0.0, 0.0, 0.0, 0.0, 1.0, 0.0, 0.0, 0.0, 0.0, 1.0, 0.0, 1.0, 0.0, 0.0, 1.0, 0.0, 0.0, 0.0, 0.0, 1.0, 0.0, 1.0, 1.0, 0.0, 1.0, 1.0, 1.0, 0.0, 0.0, 1.0, 0.0, 0.0, 0.0, 0.0, 1.0, 0.0, 0.0, 0.0, 1.0, 0.0, 0.0, 0.0, 0.0, 1.0, 0.0, 1.0, 1.0, 0.0, 1.0, 0.0, 0.0, 0.0, 1.0, 0.0, 0.0, 1.0, 0.0, 1.0, 1.0, 1.0, 0.0, 0.0, 0.0, 0.0, 1.0, 1.0, 0.0, 0.0, 0.0, 1.0, 0.0, 1.0, 1.0, 1.0, 1.0, 1.0, 0.0, 0.0, 0.0, 0.0, 0.0, 0.0, 1.0, 0.0, 0.0, 0.0, 0.0, 0.0, 1.0, 0.0, 1.0, 0.0, 0.0, 0.0, 0.0, 0.0, 0.0, 0.0, 1.0, 1.0, 1.0, 0.0, 0.0, 0.0, 0.0, 0.0, 0.0, 1.0, 1.0, 0.0, 1.0, 0.0, 0.0, 0.0, 0.0, 1.0, 0.0, 0.0, 1.0, 1.0, 0.0, 0.0, 0.0, 0.0, 0.0, 1.0, 0.0, 1.0, 1.0, 0.0, 0.0, 0.0, 0.0, 1.0, 0.0, 0.0, 0.0, 0.0, 0.0, 1.0, 0.0, 0.0, 0.0, 1.0, 0.0, 1.0, 1.0, 0.0, 1.0, 0.0, 0.0, 1.0, 0.0, 1.0, 0.0, 0.0, 1.0, 0.0, 0.0, 0.0, 0.0, 1.0, 0.0, 1.0, 0.0, 1.0, 0.0, 1.0, 0.0, 0.0, 1.0, 0.0, 0.0, 0.0, 1.0, 0.0, 1.0, 0.0, 1.0, 1.0, 1.0, 0.0, 1.0, 1.0, 1.0, 0.0, 0.0, 0.0, 1.0], \"coloraxis\": \"coloraxis\", \"symbol\": \"circle\"}, \"mode\": \"markers\", \"name\": \"\", \"showlegend\": false, \"type\": \"scattergl\", \"x\": [22.0, 38.0, 26.0, 35.0, 35.0, 25.0, 54.0, 2.0, 27.0, 14.0, 4.0, 58.0, 20.0, 39.0, 14.0, 55.0, 2.0, 36.0, 31.0, 24.0, 35.0, 34.0, 15.0, 28.0, 8.0, 38.0, 24.0, 19.0, 27.0, 35.0, 40.0, 22.0, 17.0, 66.0, 28.0, 42.0, 18.0, 21.0, 18.0, 14.0, 40.0, 27.0, 54.0, 3.0, 19.0, 20.0, 32.0, 21.0, 27.0, 18.0, 7.0, 21.0, 49.0, 29.0, 65.0, 19.0, 21.0, 28.5, 5.0, 11.0, 22.0, 38.0, 45.0, 4.0, 47.0, 48.0, 29.0, 19.0, 17.0, 26.0, 32.0, 16.0, 21.0, 26.0, 32.0, 25.0, 41.0, 15.0, 0.83, 30.0, 22.0, 29.0, 25.0, 28.0, 17.0, 33.0, 16.0, 38.0, 23.0, 24.0, 29.0, 20.0, 46.0, 26.0, 59.0, 36.0, 71.0, 23.0, 34.0, 34.0, 28.0, 45.0, 21.0, 33.0, 37.0, 28.0, 21.0, 27.0, 38.0, 27.0, 47.0, 14.5, 22.0, 20.0, 17.0, 21.0, 70.5, 29.0, 24.0, 2.0, 21.0, 18.0, 32.5, 32.5, 54.0, 12.0, 18.0, 24.0, 29.0, 45.0, 33.0, 20.0, 47.0, 29.0, 25.0, 23.0, 19.0, 37.0, 16.0, 24.0, 22.0, 22.0, 24.0, 19.0, 18.0, 19.0, 27.0, 9.0, 36.5, 42.0, 51.0, 22.0, 55.5, 40.5, 20.0, 51.0, 16.0, 30.0, 42.0, 1.0, 44.0, 40.0, 26.0, 17.0, 1.0, 9.0, 22.0, 45.0, 29.0, 28.0, 61.0, 4.0, 1.0, 21.0, 56.0, 18.0, 26.0, 50.0, 30.0, 36.0, 22.0, 35.0, 9.0, 1.0, 4.0, 19.0, 39.0, 45.0, 40.0, 36.0, 32.0, 19.0, 19.0, 3.0, 44.0, 58.0, 4.0, 42.0, 6.0, 24.0, 28.0, 27.0, 34.0, 45.5, 18.0, 2.0, 32.0, 26.0, 16.0, 40.0, 24.0, 35.0, 22.0, 30.0, 39.0, 31.0, 27.0, 42.0, 32.0, 30.0, 16.0, 27.0, 51.0, 32.0, 38.0, 22.0, 19.0, 20.5, 18.0, 26.0, 35.0, 29.0, 59.0, 5.0, 24.0, 50.0, 44.0, 8.0, 19.0, 33.0, 16.0, 10.0, 29.0, 22.0, 30.0, 44.0, 25.0, 24.0, 37.0, 54.0, 17.0, 29.0, 62.0, 30.0, 41.0, 29.0, 11.5, 30.0, 35.0, 50.0, 55.0, 3.0, 52.0, 40.0, 41.0, 36.0, 16.0, 25.0, 58.0, 35.0, 32.0, 25.0, 41.0, 37.0, 17.0, 63.0, 45.0, 40.0, 7.0, 35.0, 65.0, 28.0, 16.0, 19.0, 35.0, 33.0, 30.0, 22.0, 42.0, 22.0, 26.0, 19.0, 36.0, 24.0, 24.0, 35.0, 23.5, 2.0, 40.0, 50.0, 22.5, 9.0, 19.0, 31.0, 43.0, 0.92, 27.0, 17.0, 30.0, 30.0, 24.0, 18.0, 26.0, 28.0, 43.0, 26.0, 24.0, 54.0, 31.0, 40.0, 22.0, 27.0, 30.0, 22.0, 21.0, 36.0, 61.0, 36.0, 31.0, 16.0, 24.0, 45.5, 38.0, 16.0, 8.0, 9.0, 29.0, 41.0, 45.0, 45.0, 2.0, 24.0, 28.0, 25.0, 36.0, 24.0, 40.0, 36.0, 3.0, 42.0, 23.0, 66.0, 15.0, 25.0, 27.0, 28.0, 22.0, 38.0, 48.0, 9.0, 40.0, 29.0, 45.0, 35.0, 26.0, 30.0, 60.0, 33.0, 29.0, 24.0, 25.0, 18.0, 19.0, 22.0, 3.0, 47.0, 22.0, 27.0, 20.0, 19.0, 42.0, 1.0, 32.0, 35.0, 34.0, 18.0, 1.0, 36.0, 1.0, 17.0, 36.0, 21.0, 28.0, 23.0, 24.0, 22.0, 31.0, 46.0, 23.0, 28.0, 39.0, 26.0, 21.0, 28.0, 20.0, 34.0, 51.0, 3.0, 21.0, 30.0, 25.0, 28.5, 33.0, 21.0, 44.0, 21.0, 34.0, 18.0, 30.0, 10.0, 29.0, 21.0, 29.0, 28.0, 18.0, 54.0, 28.0, 19.0, 45.0, 32.0, 28.0, 21.0, 42.0, 17.0, 50.0, 14.0, 21.0, 24.0, 64.0, 31.0, 45.0, 20.0, 25.0, 28.0, 47.0, 4.0, 13.0, 34.0, 5.0, 52.0, 36.0, 39.0, 30.0, 49.0, 14.0, 29.0, 65.0, 26.0, 50.0, 24.0, 48.0, 34.0, 47.0, 48.0, 40.0, 38.0, 47.0, 56.0, 18.0, 0.75, 31.0, 38.0, 33.0, 23.0, 22.0, 23.0, 34.0, 29.0, 22.0, 2.0, 9.0, 31.0, 50.0, 63.0, 25.0, 35.0, 35.0, 58.0, 30.0, 9.0, 44.0, 21.0, 55.0, 71.0, 21.0, 18.0, 54.0, 25.0, 25.0, 24.0, 17.0, 21.0, 56.0, 37.0, 16.0, 18.0, 33.0, 32.0, 28.0, 26.0, 29.0, 34.5, 36.0, 54.0, 24.0, 47.0, 34.0, 8.0, 36.0, 32.0, 30.0, 22.0, 25.0, 44.0, 24.0, 40.5, 50.0, 22.0, 39.0, 23.0, 2.0, 48.0, 17.0, 28.0, 30.0, 7.0, 45.0, 30.0, 51.0, 22.0, 36.0, 9.0, 11.0, 32.0, 50.0, 64.0, 19.0, 62.0, 33.0, 8.0, 17.0, 27.0, 58.0, 22.0, 22.0, 62.0, 48.0, 34.0, 39.0, 36.0, 24.0, 40.0, 28.0, 60.0, 15.0, 24.0, 19.0, 29.0, 45.5, 32.0, 62.0, 53.0, 36.0, 22.0, 16.0, 19.0, 34.0, 39.0, 29.0, 32.0, 25.0, 39.0, 54.0, 36.0, 33.0, 18.0, 47.0, 60.0, 22.0, 14.0, 35.0, 52.0, 47.0, 48.0, 37.0, 36.0, 26.0, 49.0, 17.0, 49.0, 24.0, 19.0, 21.0, 44.0, 35.0, 36.0, 30.0, 27.0, 22.0, 40.0, 39.0, 23.0, 20.0, 8.0, 35.0, 24.0, 34.0, 26.0, 4.0, 26.0, 27.0, 42.0, 20.0, 21.0, 21.0, 61.0, 57.0, 21.0, 26.0, 30.0, 80.0, 51.0, 32.0, 19.0, 9.0, 28.0, 32.0, 31.0, 41.0, 31.0, 20.0, 24.0, 2.0, 43.0, 0.75, 48.0, 19.0, 56.0, 39.0, 23.0, 45.0, 18.0, 21.0, 27.0, 18.0, 24.0, 53.0, 32.0, 23.0, 58.0, 50.0, 40.0, 47.0, 36.0, 20.0, 32.0, 25.0, 24.0, 43.0, 62.0, 40.0, 31.0, 70.0, 31.0, 44.0, 18.0, 24.5, 18.0, 43.0, 36.0, 21.0, 27.0, 20.0, 14.0, 60.0, 25.0, 14.0, 19.0, 18.0, 15.0, 31.0, 4.0, 40.5, 25.0, 60.0, 52.0, 44.0, 25.0, 49.0, 42.0, 18.0, 35.0, 18.0, 25.0, 26.0, 39.0, 45.0, 42.0, 22.0, 46.0, 24.0, 11.0, 48.0, 29.0, 52.0, 19.0, 38.0, 27.0, 17.0, 33.0, 6.0, 17.0, 34.0, 50.0, 27.0, 20.0, 30.0, 13.0, 25.0, 25.0, 29.0, 11.0, 38.0, 23.0, 23.0, 28.5, 48.0, 35.0, 34.0, 50.0, 24.0, 36.0, 21.0, 24.0, 31.0, 70.0, 16.0, 30.0, 19.0, 31.0, 4.0, 6.0, 33.0, 23.0, 48.0, 0.67, 28.0, 18.0, 34.0, 33.0, 29.0, 41.0, 20.0, 36.0, 16.0, 51.0, 18.0, 30.5, 41.0, 32.0, 24.0, 48.0, 57.0, 24.0, 54.0, 18.0, 34.0, 5.0, 57.0, 43.0, 13.0, 17.0, 29.0, 22.0, 25.0, 25.0, 18.0, 8.0, 1.0, 46.0, 25.0, 16.0, 24.0, 16.0, 25.0, 39.0, 49.0, 31.0, 30.0, 30.0, 34.0, 31.0, 11.0, 0.42, 27.0, 31.0, 39.0, 18.0, 39.0, 33.0, 26.0, 39.0, 35.0, 6.0, 30.5, 55.0, 23.0, 31.0, 43.0, 10.0, 52.0, 27.0, 38.0, 27.0, 2.0, 16.0, 0.92, 1.0, 62.0, 62.0, 15.0, 0.83, 28.0, 23.0, 18.0, 39.0, 21.0, 11.0, 32.0, 9.0, 20.0, 16.0, 30.0, 34.5, 17.0, 42.0, 22.0, 35.0, 28.0, 15.0, 4.0, 74.0, 9.0, 16.0, 44.0, 18.0, 45.0, 51.0, 24.0, 22.0, 41.0, 21.0, 48.0, 24.0, 24.0, 42.0, 27.0, 31.0, 18.0, 4.0, 26.0, 47.0, 33.0, 47.0, 28.0, 15.0, 20.0, 19.0, 20.0, 56.0, 25.0, 33.0, 22.0, 28.0, 25.0, 39.0, 27.0, 19.0, 27.0, 26.0, 32.0, 34.5, 47.0, 62.0, 27.0, 22.0, 14.0, 30.0, 26.0, 18.0, 21.0, 9.0, 46.0, 23.0, 63.0, 47.0, 24.0, 35.0, 21.0, 27.0, 45.0, 55.0, 9.0, 58.0, 21.0, 48.0, 50.0, 22.0, 22.5, 41.0, 63.0, 50.0, 24.0, 33.0, 36.0, 30.0, 18.5, 21.0, 21.0, 25.0, 50.0, 39.0, 16.0, 41.0, 30.0, 45.0, 25.0, 45.0, 39.0, 60.0, 36.0, 24.0, 27.0, 20.0, 28.0, 4.0, 10.0, 35.0, 25.0, 3.0, 36.0, 17.0, 32.0, 18.0, 22.0, 13.0, 36.5, 18.0, 47.0, 31.0, 60.0, 24.0, 21.0, 29.0, 28.5, 35.0, 32.5, 30.0, 55.0, 30.0, 24.0, 6.0, 67.0, 49.0, 25.0, 49.0, 22.0, 27.0, 18.0, 30.0, 2.0, 22.0, 44.0, 27.0, 62.0, 25.0, 25.0, 76.0, 29.0, 20.0, 33.0, 43.0, 27.0, 36.0, 26.0, 16.0, 28.0, 21.0, 21.0, 46.0, 18.5, 41.0, 20.0, 36.0, 18.5, 63.0, 18.0, 14.0, 1.0, 36.0, 29.0, 12.0, 4.0, 35.0, 28.0, 37.0, 17.0, 22.0, 21.0, 42.0, 24.0, 32.0, 53.0, 28.0, 24.0, 43.0, 24.0, 26.5, 26.0, 23.0, 40.0, 10.0, 33.0, 61.0, 28.0, 42.0, 31.0, 13.0, 22.0, 20.5, 30.0, 23.0, 33.0, 60.5, 36.0, 13.0, 24.0, 29.0, 23.0, 42.0, 26.0, 45.0, 7.0, 26.0, 34.0, 41.0, 26.0, 48.0, 18.0, 7.0, 22.0, 54.0, 27.0, 23.0, 16.0, 40.0, 15.0, 20.0, 54.0, 36.0, 64.0, 30.0, 37.0, 18.0, 46.0, 27.0, 40.0, 21.0, 17.0, 18.0, 40.0, 34.0, 30.0, 11.5, 61.0, 8.0, 33.0, 6.0, 18.0, 23.0, 42.0, 28.0, 0.33, 47.0, 8.0, 25.0, 26.0, 35.0, 24.0, 33.0, 25.0, 32.0, 12.0, 17.0, 60.0, 38.0, 42.0, 30.0, 57.0, 50.0, 29.0, 30.0, 21.0, 22.0, 21.0, 53.0, 32.0, 23.0, 26.0, 40.5, 36.0, 14.0, 21.0, 21.0, 35.0, 39.0, 20.0, 64.0, 20.0, 18.0, 48.0, 55.0, 45.0, 45.0, 24.0, 3.0, 41.0, 22.0, 42.0, 29.0, 29.0, 0.92, 20.0, 27.0, 24.0, 32.5, 47.0, 20.0, 28.0, 19.0, 21.0, 36.5, 21.0, 29.0, 1.0, 30.0, 41.0, 45.0, 18.0, 29.0, 17.0, 46.0, 58.0, 26.0, 22.0, 48.0, 20.0, 28.0, 40.0, 30.0, 22.0, 23.0, 0.75, 40.0, 9.0, 2.0, 36.0, 26.0, 24.0, 24.0, 26.0, 24.0, 30.0, 21.0, 53.0, 36.0, 26.0, 1.0, 36.0, 30.0, 29.0, 32.0, 28.0, 43.0, 24.0, 22.0, 64.0, 30.0, 0.83, 55.0, 45.0, 18.0, 22.0, 25.0, 37.0, 55.0, 17.0, 57.0, 19.0, 27.0, 22.0, 26.0, 25.0, 26.0, 33.0, 39.0, 23.0, 12.0, 46.0, 29.0, 21.0, 48.0, 39.0, 9.0, 19.0, 27.0, 30.0, 32.0, 39.0, 25.0, 0.42, 18.0, 32.0, 56.0, 58.0, 1.0, 16.0, 26.0, 38.0, 24.0, 31.0, 45.0, 25.0, 18.0, 49.0, 0.17, 50.0, 59.0, 18.0, 19.0, 30.0, 14.5, 24.0, 31.0, 27.0, 25.0, 39.0, 4.0, 22.0, 45.0, 29.0, 21.0, 31.0, 49.0, 44.0, 54.0, 45.0, 22.0, 21.0, 55.0, 5.0, 40.0, 26.0, 18.0, 19.0, 30.0, 24.0, 24.0, 57.0, 21.0, 6.0, 23.0, 51.0, 13.0, 47.0, 29.0, 18.0, 24.0, 48.0, 22.0, 31.0, 30.0, 38.0, 22.0, 17.0, 43.0, 20.0, 23.0, 50.0, 25.0, 3.0, 30.0, 37.0, 28.0, 50.0, 39.0, 38.5, 42.0, 0.83], \"xaxis\": \"x\", \"y\": [7.25, 71.2833, 7.925, 53.1, 8.05, 8.4583, 51.8625, 21.075, 11.1333, 30.0708, 16.7, 26.55, 8.05, 31.275, 7.8542, 16.0, 29.125, 13.0, 18.0, 7.225, 26.0, 13.0, 8.0292, 35.5, 21.075, 31.3875, 7.225, 263.0, 7.8792, 7.8958, 27.7208, 146.5208, 7.75, 10.5, 82.1708, 52.0, 7.2292, 8.05, 18.0, 11.2417, 9.475, 21.0, 7.8958, 41.5792, 7.8792, 8.05, 15.5, 7.75, 21.6792, 17.8, 39.6875, 7.8, 76.7292, 26.0, 61.9792, 35.5, 10.5, 7.2292, 27.75, 46.9, 7.2292, 80.0, 83.475, 27.9, 27.7208, 15.2458, 10.5, 8.1583, 7.925, 8.6625, 10.5, 46.9, 73.5, 14.4542, 56.4958, 7.65, 7.8958, 8.05, 29.0, 12.475, 9.0, 9.5, 7.7875, 47.1, 10.5, 15.85, 34.375, 8.05, 263.0, 8.05, 8.05, 7.8542, 61.175, 20.575, 7.25, 8.05, 34.6542, 63.3583, 23.0, 26.0, 7.8958, 7.8958, 77.2875, 8.6542, 7.925, 7.8958, 7.65, 7.775, 7.8958, 24.15, 52.0, 14.4542, 8.05, 9.825, 14.4583, 7.925, 7.75, 21.0, 247.5208, 31.275, 73.5, 8.05, 30.0708, 13.0, 77.2875, 11.2417, 7.75, 7.1417, 22.3583, 6.975, 7.8958, 7.05, 14.5, 26.0, 13.0, 15.0458, 26.2833, 53.1, 9.2167, 79.2, 15.2458, 7.75, 15.85, 6.75, 11.5, 36.75, 7.7958, 34.375, 26.0, 13.0, 12.525, 66.6, 8.05, 14.5, 7.3125, 61.3792, 7.7333, 8.05, 8.6625, 69.55, 16.1, 15.75, 7.775, 8.6625, 39.6875, 20.525, 55.0, 27.9, 25.925, 56.4958, 33.5, 29.125, 11.1333, 7.925, 30.6958, 7.8542, 25.4667, 28.7125, 13.0, 0.0, 69.55, 15.05, 31.3875, 39.0, 22.025, 50.0, 15.5, 26.55, 15.5, 7.8958, 13.0, 13.0, 7.8542, 26.0, 27.7208, 146.5208, 7.75, 8.4042, 7.75, 13.0, 9.5, 69.55, 6.4958, 7.225, 8.05, 10.4625, 15.85, 18.7875, 7.75, 31.0, 7.05, 21.0, 7.25, 13.0, 7.75, 113.275, 7.925, 27.0, 76.2917, 10.5, 8.05, 13.0, 8.05, 7.8958, 90.0, 9.35, 10.5, 7.25, 13.0, 25.4667, 83.475, 7.775, 13.5, 31.3875, 10.5, 7.55, 26.0, 26.25, 10.5, 12.275, 14.4542, 15.5, 10.5, 7.125, 7.225, 90.0, 7.775, 14.5, 52.5542, 26.0, 7.25, 10.4625, 26.55, 16.1, 20.2125, 15.2458, 79.2, 86.5, 512.3292, 26.0, 7.75, 31.3875, 79.65, 0.0, 7.75, 10.5, 39.6875, 7.775, 153.4625, 135.6333, 31.0, 0.0, 19.5, 29.7, 7.75, 77.9583, 7.75, 0.0, 29.125, 20.25, 7.75, 7.8542, 9.5, 8.05, 26.0, 8.6625, 9.5, 7.8958, 13.0, 7.75, 78.85, 91.0792, 12.875, 8.85, 7.8958, 27.7208, 7.2292, 151.55, 30.5, 247.5208, 7.75, 23.25, 0.0, 12.35, 8.05, 151.55, 110.8833, 108.9, 24.0, 56.9292, 83.1583, 262.375, 26.0, 7.8958, 26.25, 7.8542, 26.0, 14.0, 164.8667, 134.5, 7.25, 7.8958, 12.35, 29.0, 69.55, 135.6333, 6.2375, 13.0, 20.525, 57.9792, 23.25, 28.5, 153.4625, 18.0, 133.65, 7.8958, 66.6, 134.5, 8.05, 35.5, 26.0, 263.0, 13.0, 13.0, 13.0, 13.0, 13.0, 16.1, 15.9, 8.6625, 9.225, 35.0, 7.2292, 17.8, 7.225, 9.5, 55.0, 13.0, 7.8792, 7.8792, 27.9, 27.7208, 14.4542, 7.05, 15.5, 7.25, 75.25, 7.2292, 7.75, 69.3, 55.4417, 6.4958, 8.05, 135.6333, 21.075, 82.1708, 7.25, 211.5, 4.0125, 7.775, 227.525, 15.7417, 7.925, 52.0, 7.8958, 73.5, 46.9, 13.0, 7.7292, 12.0, 120.0, 7.7958, 7.925, 113.275, 16.7, 7.7958, 7.8542, 26.0, 10.5, 12.65, 7.925, 8.05, 9.825, 15.85, 8.6625, 21.0, 7.75, 18.75, 7.775, 25.4667, 7.8958, 6.8583, 90.0, 0.0, 7.925, 8.05, 32.5, 13.0, 13.0, 24.15, 7.8958, 7.7333, 7.875, 14.4, 20.2125, 7.25, 26.0, 26.0, 7.75, 8.05, 26.55, 16.1, 26.0, 7.125, 55.9, 120.0, 34.375, 18.75, 263.0, 10.5, 26.25, 9.5, 7.775, 13.0, 8.1125, 81.8583, 19.5, 26.55, 19.2583, 30.5, 27.75, 19.9667, 27.75, 89.1042, 8.05, 7.8958, 26.55, 51.8625, 10.5, 7.75, 26.55, 8.05, 38.5, 13.0, 8.05, 7.05, 0.0, 26.55, 7.725, 19.2583, 7.25, 8.6625, 27.75, 13.7917, 9.8375, 52.0, 21.0, 7.0458, 7.5208, 12.2875, 46.9, 0.0, 8.05, 9.5875, 91.0792, 25.4667, 90.0, 29.7, 8.05, 15.9, 19.9667, 7.25, 30.5, 49.5042, 8.05, 14.4583, 78.2667, 15.1, 151.55, 7.7958, 8.6625, 7.75, 7.6292, 9.5875, 86.5, 108.9, 26.0, 26.55, 22.525, 56.4958, 7.75, 8.05, 26.2875, 59.4, 7.4958, 34.0208, 10.5, 24.15, 26.0, 7.8958, 93.5, 7.8958, 7.225, 57.9792, 7.2292, 7.75, 10.5, 221.7792, 7.925, 11.5, 26.0, 7.2292, 7.2292, 22.3583, 8.6625, 26.25, 26.55, 106.425, 14.5, 49.5, 71.0, 31.275, 31.275, 26.0, 106.425, 26.0, 26.0, 13.8625, 20.525, 36.75, 110.8833, 26.0, 7.8292, 7.225, 7.775, 26.55, 39.6, 227.525, 79.65, 17.4, 7.75, 7.8958, 13.5, 8.05, 8.05, 24.15, 7.8958, 21.075, 7.2292, 7.8542, 10.5, 51.4792, 26.3875, 7.75, 8.05, 14.5, 13.0, 55.9, 14.4583, 7.925, 30.0, 110.8833, 26.0, 40.125, 8.7125, 79.65, 15.0, 79.2, 8.05, 8.05, 7.125, 78.2667, 7.25, 7.75, 26.0, 24.15, 33.0, 0.0, 7.225, 56.9292, 27.0, 7.8958, 42.4, 8.05, 26.55, 15.55, 7.8958, 30.5, 41.5792, 153.4625, 31.275, 7.05, 15.5, 7.75, 8.05, 65.0, 14.4, 16.1, 39.0, 10.5, 14.4542, 52.5542, 15.7417, 7.8542, 16.1, 32.3208, 12.35, 77.9583, 7.8958, 7.7333, 30.0, 7.0542, 30.5, 0.0, 27.9, 13.0, 7.925, 26.25, 39.6875, 16.1, 7.8542, 69.3, 27.9, 56.4958, 19.2583, 76.7292, 7.8958, 35.5, 7.55, 7.55, 7.8958, 23.0, 8.4333, 7.8292, 6.75, 73.5, 7.8958, 15.5, 13.0, 113.275, 133.65, 7.225, 25.5875, 7.4958, 7.925, 73.5, 13.0, 7.775, 8.05, 52.0, 39.0, 52.0, 10.5, 13.0, 0.0, 7.775, 8.05, 9.8417, 46.9, 512.3292, 8.1375, 76.7292, 9.225, 46.9, 39.0, 41.5792, 39.6875, 10.1708, 7.7958, 211.3375, 57.0, 13.4167, 56.4958, 7.225, 26.55, 13.5, 8.05, 7.7333, 110.8833, 7.65, 227.525, 26.2875, 14.4542, 7.7417, 7.8542, 26.0, 13.5, 26.2875, 151.55, 15.2458, 49.5042, 26.55, 52.0, 9.4833, 13.0, 7.65, 227.525, 10.5, 15.5, 7.775, 33.0, 7.0542, 13.0, 13.0, 53.1, 8.6625, 21.0, 7.7375, 26.0, 7.925, 211.3375, 18.7875, 0.0, 13.0, 13.0, 16.1, 34.375, 512.3292, 7.8958, 7.8958, 30.0, 78.85, 262.375, 16.1, 7.925, 71.0, 20.25, 13.0, 53.1, 7.75, 23.0, 12.475, 9.5, 7.8958, 65.0, 14.5, 7.7958, 11.5, 8.05, 86.5, 14.5, 7.125, 7.2292, 120.0, 7.775, 77.9583, 39.6, 7.75, 24.15, 8.3625, 9.5, 7.8542, 10.5, 7.225, 23.0, 7.75, 7.75, 12.475, 7.7375, 211.3375, 7.2292, 57.0, 30.0, 23.45, 7.05, 7.25, 7.4958, 29.125, 20.575, 79.2, 7.75, 26.0, 69.55, 30.6958, 7.8958, 13.0, 25.9292, 8.6833, 7.2292, 24.15, 13.0, 26.25, 120.0, 8.5167, 6.975, 7.775, 0.0, 7.775, 13.0, 53.1, 7.8875, 24.15, 10.5, 31.275, 8.05, 0.0, 7.925, 37.0042, 6.45, 27.9, 93.5, 8.6625, 0.0, 12.475, 39.6875, 6.95, 56.4958, 37.0042, 7.75, 80.0, 14.4542, 18.75, 7.2292, 7.8542, 8.3, 83.1583, 8.6625, 8.05, 56.4958, 29.7, 7.925, 10.5, 31.0, 6.4375, 8.6625, 7.55, 69.55, 7.8958, 33.0, 89.1042, 31.275, 7.775, 15.2458, 39.4, 26.0, 9.35, 164.8667, 26.55, 19.2583, 7.2292, 14.1083, 11.5, 25.9292, 69.55, 13.0, 13.0, 13.8583, 50.4958, 9.5, 11.1333, 7.8958, 52.5542, 5.0, 9.0, 24.0, 7.225, 9.8458, 7.8958, 7.8958, 83.1583, 26.0, 7.8958, 10.5167, 10.5, 7.05, 29.125, 13.0, 30.0, 23.45, 30.0, 7.75, 7.8292, 7.0, 9.6875, 8.6625, 12.2875, 9.225, 7.6292, 29.0, 7.2292, 24.15, 7.8958, 26.0, 82.2667, 26.0, 61.175, 27.7208, 12.35, 7.225, 7.925, 7.225, 59.4, 3.1708, 31.6833, 61.3792, 262.375, 14.5, 61.9792, 7.225, 30.5, 21.6792, 26.0, 31.5, 20.575, 23.45, 57.75, 7.2292, 8.05, 8.6625, 9.5, 56.4958, 13.4167, 26.55, 7.85, 13.0, 52.5542, 7.925, 29.7, 7.75, 76.2917, 15.9, 60.0, 15.0333, 23.0, 263.0, 15.5792, 29.125, 7.8958, 7.65, 16.1, 262.375, 7.8958, 13.5, 7.75, 7.725, 262.375, 21.0, 7.8792, 42.4, 28.5375, 263.0, 7.75, 7.8958, 7.925, 27.7208, 211.5, 211.5, 8.05, 25.7, 13.0, 7.75, 15.2458, 221.7792, 26.0, 7.8958, 10.7083, 14.4542, 7.8792, 8.05, 7.75, 23.0, 13.9, 7.775, 52.0, 8.05, 26.0, 7.7958, 78.85, 7.925, 7.8542, 8.05, 55.4417, 26.0, 7.75, 7.775, 8.5167, 22.525, 7.8208, 7.75, 8.7125, 13.0, 15.0458, 7.7792, 31.6792, 7.2833, 221.7792, 14.4542, 6.4375, 16.7, 75.2417, 26.0, 15.75, 7.75, 57.75, 7.25, 7.75, 16.1, 7.7958, 23.25, 13.0, 8.05, 8.05, 28.5, 25.4667, 6.4375, 7.8958, 7.8542, 7.225, 13.0, 8.05, 46.9, 46.9, 151.55, 262.375, 26.0, 26.55, 18.0, 51.8625, 8.05, 26.55, 26.0, 83.1583, 7.8958, 13.0, 12.1833, 31.3875, 7.55, 221.7792, 7.8542, 26.55, 13.775, 7.7333, 15.2458, 13.5, 7.0, 13.0, 22.025, 50.4958, 34.375, 27.7208, 8.9625, 7.55, 7.225, 13.9, 7.2292, 31.3875, 39.0, 36.75, 55.4417, 39.0, 83.1583, 13.0, 83.1583, 53.1, 7.75, 247.5208, 16.0, 21.0, 8.05, 69.55, 13.0, 26.0, 26.0, 14.5, 12.35, 32.5, 7.8542, 134.5, 7.775, 10.5, 8.1125, 15.5, 14.4, 227.525, 26.0, 10.5, 25.7417, 7.75, 10.5, 27.7208, 7.8958, 22.525, 7.05, 73.5, 26.0, 7.775, 42.5, 7.8792, 164.8667, 211.5, 8.05, 13.8583, 8.05, 10.5, 7.7958, 27.4458, 15.2458, 7.7958, 7.75, 15.1, 13.0, 65.0, 26.55, 6.4958, 7.8792, 71.2833, 7.8542, 75.25, 7.225, 13.0, 106.425, 27.7208, 30.0, 134.5, 7.8875, 23.45, 51.8625, 21.0, 32.5, 26.0, 14.4542, 27.75, 7.925, 136.7792, 9.325, 9.5, 7.55, 7.75, 8.05, 13.0, 7.775, 17.4, 7.8542, 23.0, 12.1833, 12.7375, 7.8958, 0.0, 7.55, 8.05, 8.6625, 75.2417, 7.75, 136.7792, 15.5, 7.225, 26.0, 10.5, 26.0, 21.0, 10.5, 8.6625, 13.775, 7.75, 15.2458, 20.2125, 7.25, 7.25, 82.2667, 7.2292, 8.05, 39.6, 6.95, 7.2292, 81.8583, 9.5, 7.8958, 41.5792, 21.6792, 45.5, 7.8542, 7.775, 15.0458, 21.0, 8.6625, 7.75, 26.55, 151.55, 9.35, 93.5, 14.1083, 8.6625, 7.225, 7.575, 7.75, 135.6333, 7.7333, 146.5208, 10.5, 7.8542, 31.5, 7.775, 7.2292, 13.0, 26.55, 211.3375, 7.05, 39.0, 79.2, 26.0, 13.0, 36.75, 29.7, 7.225, 15.7417, 7.8958, 26.0, 13.0, 7.2292, 31.5, 7.2292, 10.5, 7.5792, 69.55, 512.3292, 14.5, 7.65, 13.0, 7.2292, 13.5, 21.0, 63.3583, 10.5, 73.5, 65.0, 20.575, 26.0, 51.4792, 7.8792, 7.75, 15.55, 69.55, 37.0042, 21.0, 8.6625, 55.4417, 69.55, 14.4583, 39.6875, 59.4, 13.8583, 11.5, 134.5, 0.0, 13.0, 81.8583, 262.375, 8.6625, 11.5, 50.0, 31.3875, 7.75, 7.8792, 14.5, 16.1, 12.875, 65.0, 7.775, 13.0, 7.75, 21.075, 93.5, 39.4, 20.25, 10.5, 22.025, 60.0, 7.25, 79.2, 7.775, 7.7333, 164.8667, 21.0, 59.4, 47.1, 27.7208, 13.8625, 10.5, 211.5, 7.7208, 13.775, 7.75, 90.0, 7.775, 8.05, 108.9, 7.25, 8.05, 22.3583], \"yaxis\": \"y\"}],                        {\"coloraxis\": {\"colorbar\": {\"title\": {\"text\": \"Survived\"}}, \"colorscale\": [[0.0, \"#0d0887\"], [0.1111111111111111, \"#46039f\"], [0.2222222222222222, \"#7201a8\"], [0.3333333333333333, \"#9c179e\"], [0.4444444444444444, \"#bd3786\"], [0.5555555555555556, \"#d8576b\"], [0.6666666666666666, \"#ed7953\"], [0.7777777777777778, \"#fb9f3a\"], [0.8888888888888888, \"#fdca26\"], [1.0, \"#f0f921\"]]}, \"legend\": {\"tracegroupgap\": 0}, \"margin\": {\"t\": 60}, \"template\": {\"data\": {\"bar\": [{\"error_x\": {\"color\": \"#2a3f5f\"}, \"error_y\": {\"color\": \"#2a3f5f\"}, \"marker\": {\"line\": {\"color\": \"#E5ECF6\", \"width\": 0.5}}, \"type\": \"bar\"}], \"barpolar\": [{\"marker\": {\"line\": {\"color\": \"#E5ECF6\", \"width\": 0.5}}, \"type\": \"barpolar\"}], \"carpet\": [{\"aaxis\": {\"endlinecolor\": \"#2a3f5f\", \"gridcolor\": \"white\", \"linecolor\": \"white\", \"minorgridcolor\": \"white\", \"startlinecolor\": \"#2a3f5f\"}, \"baxis\": {\"endlinecolor\": \"#2a3f5f\", \"gridcolor\": \"white\", \"linecolor\": \"white\", \"minorgridcolor\": \"white\", \"startlinecolor\": \"#2a3f5f\"}, \"type\": \"carpet\"}], \"choropleth\": [{\"colorbar\": {\"outlinewidth\": 0, \"ticks\": \"\"}, \"type\": \"choropleth\"}], \"contour\": [{\"colorbar\": {\"outlinewidth\": 0, \"ticks\": \"\"}, \"colorscale\": [[0.0, \"#0d0887\"], [0.1111111111111111, \"#46039f\"], [0.2222222222222222, \"#7201a8\"], [0.3333333333333333, \"#9c179e\"], [0.4444444444444444, \"#bd3786\"], [0.5555555555555556, \"#d8576b\"], [0.6666666666666666, \"#ed7953\"], [0.7777777777777778, \"#fb9f3a\"], [0.8888888888888888, \"#fdca26\"], [1.0, \"#f0f921\"]], \"type\": \"contour\"}], \"contourcarpet\": [{\"colorbar\": {\"outlinewidth\": 0, \"ticks\": \"\"}, \"type\": \"contourcarpet\"}], \"heatmap\": [{\"colorbar\": {\"outlinewidth\": 0, \"ticks\": \"\"}, \"colorscale\": [[0.0, \"#0d0887\"], [0.1111111111111111, \"#46039f\"], [0.2222222222222222, \"#7201a8\"], [0.3333333333333333, \"#9c179e\"], [0.4444444444444444, \"#bd3786\"], [0.5555555555555556, \"#d8576b\"], [0.6666666666666666, \"#ed7953\"], [0.7777777777777778, \"#fb9f3a\"], [0.8888888888888888, \"#fdca26\"], [1.0, \"#f0f921\"]], \"type\": \"heatmap\"}], \"heatmapgl\": [{\"colorbar\": {\"outlinewidth\": 0, \"ticks\": \"\"}, \"colorscale\": [[0.0, \"#0d0887\"], [0.1111111111111111, \"#46039f\"], [0.2222222222222222, \"#7201a8\"], [0.3333333333333333, \"#9c179e\"], [0.4444444444444444, \"#bd3786\"], [0.5555555555555556, \"#d8576b\"], [0.6666666666666666, \"#ed7953\"], [0.7777777777777778, \"#fb9f3a\"], [0.8888888888888888, \"#fdca26\"], [1.0, \"#f0f921\"]], \"type\": \"heatmapgl\"}], \"histogram\": [{\"marker\": {\"colorbar\": {\"outlinewidth\": 0, \"ticks\": \"\"}}, \"type\": \"histogram\"}], \"histogram2d\": [{\"colorbar\": {\"outlinewidth\": 0, \"ticks\": \"\"}, \"colorscale\": [[0.0, \"#0d0887\"], [0.1111111111111111, \"#46039f\"], [0.2222222222222222, \"#7201a8\"], [0.3333333333333333, \"#9c179e\"], [0.4444444444444444, \"#bd3786\"], [0.5555555555555556, \"#d8576b\"], [0.6666666666666666, \"#ed7953\"], [0.7777777777777778, \"#fb9f3a\"], [0.8888888888888888, \"#fdca26\"], [1.0, \"#f0f921\"]], \"type\": \"histogram2d\"}], \"histogram2dcontour\": [{\"colorbar\": {\"outlinewidth\": 0, \"ticks\": \"\"}, \"colorscale\": [[0.0, \"#0d0887\"], [0.1111111111111111, \"#46039f\"], [0.2222222222222222, \"#7201a8\"], [0.3333333333333333, \"#9c179e\"], [0.4444444444444444, \"#bd3786\"], [0.5555555555555556, \"#d8576b\"], [0.6666666666666666, \"#ed7953\"], [0.7777777777777778, \"#fb9f3a\"], [0.8888888888888888, \"#fdca26\"], [1.0, \"#f0f921\"]], \"type\": \"histogram2dcontour\"}], \"mesh3d\": [{\"colorbar\": {\"outlinewidth\": 0, \"ticks\": \"\"}, \"type\": \"mesh3d\"}], \"parcoords\": [{\"line\": {\"colorbar\": {\"outlinewidth\": 0, \"ticks\": \"\"}}, \"type\": \"parcoords\"}], \"pie\": [{\"automargin\": true, \"type\": \"pie\"}], \"scatter\": [{\"marker\": {\"colorbar\": {\"outlinewidth\": 0, \"ticks\": \"\"}}, \"type\": \"scatter\"}], \"scatter3d\": [{\"line\": {\"colorbar\": {\"outlinewidth\": 0, \"ticks\": \"\"}}, \"marker\": {\"colorbar\": {\"outlinewidth\": 0, \"ticks\": \"\"}}, \"type\": \"scatter3d\"}], \"scattercarpet\": [{\"marker\": {\"colorbar\": {\"outlinewidth\": 0, \"ticks\": \"\"}}, \"type\": \"scattercarpet\"}], \"scattergeo\": [{\"marker\": {\"colorbar\": {\"outlinewidth\": 0, \"ticks\": \"\"}}, \"type\": \"scattergeo\"}], \"scattergl\": [{\"marker\": {\"colorbar\": {\"outlinewidth\": 0, \"ticks\": \"\"}}, \"type\": \"scattergl\"}], \"scattermapbox\": [{\"marker\": {\"colorbar\": {\"outlinewidth\": 0, \"ticks\": \"\"}}, \"type\": \"scattermapbox\"}], \"scatterpolar\": [{\"marker\": {\"colorbar\": {\"outlinewidth\": 0, \"ticks\": \"\"}}, \"type\": \"scatterpolar\"}], \"scatterpolargl\": [{\"marker\": {\"colorbar\": {\"outlinewidth\": 0, \"ticks\": \"\"}}, \"type\": \"scatterpolargl\"}], \"scatterternary\": [{\"marker\": {\"colorbar\": {\"outlinewidth\": 0, \"ticks\": \"\"}}, \"type\": \"scatterternary\"}], \"surface\": [{\"colorbar\": {\"outlinewidth\": 0, \"ticks\": \"\"}, \"colorscale\": [[0.0, \"#0d0887\"], [0.1111111111111111, \"#46039f\"], [0.2222222222222222, \"#7201a8\"], [0.3333333333333333, \"#9c179e\"], [0.4444444444444444, \"#bd3786\"], [0.5555555555555556, \"#d8576b\"], [0.6666666666666666, \"#ed7953\"], [0.7777777777777778, \"#fb9f3a\"], [0.8888888888888888, \"#fdca26\"], [1.0, \"#f0f921\"]], \"type\": \"surface\"}], \"table\": [{\"cells\": {\"fill\": {\"color\": \"#EBF0F8\"}, \"line\": {\"color\": \"white\"}}, \"header\": {\"fill\": {\"color\": \"#C8D4E3\"}, \"line\": {\"color\": \"white\"}}, \"type\": \"table\"}]}, \"layout\": {\"annotationdefaults\": {\"arrowcolor\": \"#2a3f5f\", \"arrowhead\": 0, \"arrowwidth\": 1}, \"autotypenumbers\": \"strict\", \"coloraxis\": {\"colorbar\": {\"outlinewidth\": 0, \"ticks\": \"\"}}, \"colorscale\": {\"diverging\": [[0, \"#8e0152\"], [0.1, \"#c51b7d\"], [0.2, \"#de77ae\"], [0.3, \"#f1b6da\"], [0.4, \"#fde0ef\"], [0.5, \"#f7f7f7\"], [0.6, \"#e6f5d0\"], [0.7, \"#b8e186\"], [0.8, \"#7fbc41\"], [0.9, \"#4d9221\"], [1, \"#276419\"]], \"sequential\": [[0.0, \"#0d0887\"], [0.1111111111111111, \"#46039f\"], [0.2222222222222222, \"#7201a8\"], [0.3333333333333333, \"#9c179e\"], [0.4444444444444444, \"#bd3786\"], [0.5555555555555556, \"#d8576b\"], [0.6666666666666666, \"#ed7953\"], [0.7777777777777778, \"#fb9f3a\"], [0.8888888888888888, \"#fdca26\"], [1.0, \"#f0f921\"]], \"sequentialminus\": [[0.0, \"#0d0887\"], [0.1111111111111111, \"#46039f\"], [0.2222222222222222, \"#7201a8\"], [0.3333333333333333, \"#9c179e\"], [0.4444444444444444, \"#bd3786\"], [0.5555555555555556, \"#d8576b\"], [0.6666666666666666, \"#ed7953\"], [0.7777777777777778, \"#fb9f3a\"], [0.8888888888888888, \"#fdca26\"], [1.0, \"#f0f921\"]]}, \"colorway\": [\"#636efa\", \"#EF553B\", \"#00cc96\", \"#ab63fa\", \"#FFA15A\", \"#19d3f3\", \"#FF6692\", \"#B6E880\", \"#FF97FF\", \"#FECB52\"], \"font\": {\"color\": \"#2a3f5f\"}, \"geo\": {\"bgcolor\": \"white\", \"lakecolor\": \"white\", \"landcolor\": \"#E5ECF6\", \"showlakes\": true, \"showland\": true, \"subunitcolor\": \"white\"}, \"hoverlabel\": {\"align\": \"left\"}, \"hovermode\": \"closest\", \"mapbox\": {\"style\": \"light\"}, \"paper_bgcolor\": \"white\", \"plot_bgcolor\": \"#E5ECF6\", \"polar\": {\"angularaxis\": {\"gridcolor\": \"white\", \"linecolor\": \"white\", \"ticks\": \"\"}, \"bgcolor\": \"#E5ECF6\", \"radialaxis\": {\"gridcolor\": \"white\", \"linecolor\": \"white\", \"ticks\": \"\"}}, \"scene\": {\"xaxis\": {\"backgroundcolor\": \"#E5ECF6\", \"gridcolor\": \"white\", \"gridwidth\": 2, \"linecolor\": \"white\", \"showbackground\": true, \"ticks\": \"\", \"zerolinecolor\": \"white\"}, \"yaxis\": {\"backgroundcolor\": \"#E5ECF6\", \"gridcolor\": \"white\", \"gridwidth\": 2, \"linecolor\": \"white\", \"showbackground\": true, \"ticks\": \"\", \"zerolinecolor\": \"white\"}, \"zaxis\": {\"backgroundcolor\": \"#E5ECF6\", \"gridcolor\": \"white\", \"gridwidth\": 2, \"linecolor\": \"white\", \"showbackground\": true, \"ticks\": \"\", \"zerolinecolor\": \"white\"}}, \"shapedefaults\": {\"line\": {\"color\": \"#2a3f5f\"}}, \"ternary\": {\"aaxis\": {\"gridcolor\": \"white\", \"linecolor\": \"white\", \"ticks\": \"\"}, \"baxis\": {\"gridcolor\": \"white\", \"linecolor\": \"white\", \"ticks\": \"\"}, \"bgcolor\": \"#E5ECF6\", \"caxis\": {\"gridcolor\": \"white\", \"linecolor\": \"white\", \"ticks\": \"\"}}, \"title\": {\"x\": 0.05}, \"xaxis\": {\"automargin\": true, \"gridcolor\": \"white\", \"linecolor\": \"white\", \"ticks\": \"\", \"title\": {\"standoff\": 15}, \"zerolinecolor\": \"white\", \"zerolinewidth\": 2}, \"yaxis\": {\"automargin\": true, \"gridcolor\": \"white\", \"linecolor\": \"white\", \"ticks\": \"\", \"title\": {\"standoff\": 15}, \"zerolinecolor\": \"white\", \"zerolinewidth\": 2}}}, \"xaxis\": {\"anchor\": \"y\", \"domain\": [0.0, 1.0], \"title\": {\"text\": \"Age\"}}, \"yaxis\": {\"anchor\": \"x\", \"domain\": [0.0, 1.0], \"title\": {\"text\": \"Fare\"}}},                        {\"responsive\": true}                    ).then(function(){\n",
       "                            \n",
       "var gd = document.getElementById('fb09773b-3475-4efe-8edc-7a5dedbcaee6');\n",
       "var x = new MutationObserver(function (mutations, observer) {{\n",
       "        var display = window.getComputedStyle(gd).display;\n",
       "        if (!display || display === 'none') {{\n",
       "            console.log([gd, 'removed!']);\n",
       "            Plotly.purge(gd);\n",
       "            observer.disconnect();\n",
       "        }}\n",
       "}});\n",
       "\n",
       "// Listen for the removal of the full notebook cells\n",
       "var notebookContainer = gd.closest('#notebook-container');\n",
       "if (notebookContainer) {{\n",
       "    x.observe(notebookContainer, {childList: true});\n",
       "}}\n",
       "\n",
       "// Listen for the clearing of the current output cell\n",
       "var outputEl = gd.closest('.output');\n",
       "if (outputEl) {{\n",
       "    x.observe(outputEl, {childList: true});\n",
       "}}\n",
       "\n",
       "                        })                };                });            </script>        </div>"
      ]
     },
     "metadata": {},
     "output_type": "display_data"
    }
   ],
   "source": [
    "scatters('Age','Fare')"
   ]
  },
  {
   "cell_type": "markdown",
   "metadata": {
    "papermill": {
     "duration": 0.09569,
     "end_time": "2021-06-07T10:56:57.627162",
     "exception": false,
     "start_time": "2021-06-07T10:56:57.531472",
     "status": "completed"
    },
    "tags": []
   },
   "source": [
    "##  checking co-relation in our data"
   ]
  },
  {
   "cell_type": "code",
   "execution_count": 46,
   "metadata": {
    "execution": {
     "iopub.execute_input": "2021-06-07T10:56:57.825674Z",
     "iopub.status.busy": "2021-06-07T10:56:57.824622Z",
     "iopub.status.idle": "2021-06-07T10:56:58.167324Z",
     "shell.execute_reply": "2021-06-07T10:56:58.167789Z",
     "shell.execute_reply.started": "2021-06-06T10:45:44.68558Z"
    },
    "papermill": {
     "duration": 0.445951,
     "end_time": "2021-06-07T10:56:58.167974",
     "exception": false,
     "start_time": "2021-06-07T10:56:57.722023",
     "status": "completed"
    },
    "tags": []
   },
   "outputs": [
    {
     "data": {
      "text/plain": [
       "<AxesSubplot:>"
      ]
     },
     "execution_count": 46,
     "metadata": {},
     "output_type": "execute_result"
    },
    {
     "data": {
      "image/png": "[encoded data removed]",
      "text/plain": [
       "<Figure size 1080x720 with 2 Axes>"
      ]
     },
     "metadata": {
      "needs_background": "light"
     },
     "output_type": "display_data"
    }
   ],
   "source": [
    "m=data.loc[:,data.columns!='Survived'].corr()\n",
    "plt.figure(figsize=(15,10))\n",
    "sns.heatmap(m,annot=True,cmap=\"Reds\")"
   ]
  },
  {
   "cell_type": "code",
   "execution_count": 47,
   "metadata": {
    "execution": {
     "iopub.execute_input": "2021-06-07T10:56:58.366986Z",
     "iopub.status.busy": "2021-06-07T10:56:58.366314Z",
     "iopub.status.idle": "2021-06-07T10:56:58.372906Z",
     "shell.execute_reply": "2021-06-07T10:56:58.373423Z",
     "shell.execute_reply.started": "2021-06-06T10:46:01.918563Z"
    },
    "papermill": {
     "duration": 0.108652,
     "end_time": "2021-06-07T10:56:58.373592",
     "exception": false,
     "start_time": "2021-06-07T10:56:58.264940",
     "status": "completed"
    },
    "tags": []
   },
   "outputs": [
    {
     "data": {
      "text/plain": [
       "Survived    1.000000\n",
       "Pclass     -0.230324\n",
       "Age        -0.062972\n",
       "SibSp      -0.020982\n",
       "Parch       0.031853\n",
       "Fare        0.174918\n",
       "Name: Survived, dtype: float64"
      ]
     },
     "execution_count": 47,
     "metadata": {},
     "output_type": "execute_result"
    }
   ],
   "source": [
    "corelation=data.corr()[\"Survived\"]\n",
    "corelation"
   ]
  },
  {
   "cell_type": "code",
   "execution_count": 48,
   "metadata": {
    "execution": {
     "iopub.execute_input": "2021-06-07T10:56:58.570485Z",
     "iopub.status.busy": "2021-06-07T10:56:58.569754Z",
     "iopub.status.idle": "2021-06-07T10:56:58.577593Z",
     "shell.execute_reply": "2021-06-07T10:56:58.578074Z",
     "shell.execute_reply.started": "2021-06-06T10:46:12.082018Z"
    },
    "papermill": {
     "duration": 0.107925,
     "end_time": "2021-06-07T10:56:58.578287",
     "exception": false,
     "start_time": "2021-06-07T10:56:58.470362",
     "status": "completed"
    },
    "tags": []
   },
   "outputs": [
    {
     "data": {
      "text/plain": [
       "Pclass    0.230324\n",
       "Fare      0.174918\n",
       "Age       0.062972\n",
       "Parch     0.031853\n",
       "SibSp     0.020982\n",
       "Name: Survived, dtype: float64"
      ]
     },
     "execution_count": 48,
     "metadata": {},
     "output_type": "execute_result"
    }
   ],
   "source": [
    "corelation.abs().sort_values(ascending=False)[1:]"
   ]
  },
  {
   "cell_type": "code",
   "execution_count": 49,
   "metadata": {
    "execution": {
     "iopub.execute_input": "2021-06-07T10:56:58.775091Z",
     "iopub.status.busy": "2021-06-07T10:56:58.774479Z",
     "iopub.status.idle": "2021-06-07T10:56:58.790546Z",
     "shell.execute_reply": "2021-06-07T10:56:58.791046Z",
     "shell.execute_reply.started": "2021-06-06T10:53:04.804717Z"
    },
    "papermill": {
     "duration": 0.116148,
     "end_time": "2021-06-07T10:56:58.791263",
     "exception": false,
     "start_time": "2021-06-07T10:56:58.675115",
     "status": "completed"
    },
    "tags": []
   },
   "outputs": [
    {
     "data": {
      "text/html": [
       "<div>\n",
       "<style scoped>\n",
       "    .dataframe tbody tr th:only-of-type {\n",
       "        vertical-align: middle;\n",
       "    }\n",
       "\n",
       "    .dataframe tbody tr th {\n",
       "        vertical-align: top;\n",
       "    }\n",
       "\n",
       "    .dataframe thead th {\n",
       "        text-align: right;\n",
       "    }\n",
       "</style>\n",
       "<table border=\"1\" class=\"dataframe\">\n",
       "  <thead>\n",
       "    <tr style=\"text-align: right;\">\n",
       "      <th></th>\n",
       "      <th>Survived</th>\n",
       "      <th>Pclass</th>\n",
       "      <th>Name</th>\n",
       "      <th>Sex</th>\n",
       "      <th>Age</th>\n",
       "      <th>SibSp</th>\n",
       "      <th>Parch</th>\n",
       "      <th>Ticket</th>\n",
       "      <th>Fare</th>\n",
       "      <th>Embarked</th>\n",
       "    </tr>\n",
       "  </thead>\n",
       "  <tbody>\n",
       "    <tr>\n",
       "      <th>0</th>\n",
       "      <td>0.0</td>\n",
       "      <td>3</td>\n",
       "      <td>Braund, Mr. Owen Harris</td>\n",
       "      <td>male</td>\n",
       "      <td>22.0</td>\n",
       "      <td>1</td>\n",
       "      <td>0</td>\n",
       "      <td>A/5 21171</td>\n",
       "      <td>7.2500</td>\n",
       "      <td>S</td>\n",
       "    </tr>\n",
       "    <tr>\n",
       "      <th>1</th>\n",
       "      <td>1.0</td>\n",
       "      <td>1</td>\n",
       "      <td>Cumings, Mrs. John Bradley (Florence Briggs Th...</td>\n",
       "      <td>female</td>\n",
       "      <td>38.0</td>\n",
       "      <td>1</td>\n",
       "      <td>0</td>\n",
       "      <td>PC 17599</td>\n",
       "      <td>71.2833</td>\n",
       "      <td>C</td>\n",
       "    </tr>\n",
       "    <tr>\n",
       "      <th>2</th>\n",
       "      <td>1.0</td>\n",
       "      <td>3</td>\n",
       "      <td>Heikkinen, Miss. Laina</td>\n",
       "      <td>female</td>\n",
       "      <td>26.0</td>\n",
       "      <td>0</td>\n",
       "      <td>0</td>\n",
       "      <td>STON/O2. 3101282</td>\n",
       "      <td>7.9250</td>\n",
       "      <td>S</td>\n",
       "    </tr>\n",
       "    <tr>\n",
       "      <th>3</th>\n",
       "      <td>1.0</td>\n",
       "      <td>1</td>\n",
       "      <td>Futrelle, Mrs. Jacques Heath (Lily May Peel)</td>\n",
       "      <td>female</td>\n",
       "      <td>35.0</td>\n",
       "      <td>1</td>\n",
       "      <td>0</td>\n",
       "      <td>113803</td>\n",
       "      <td>53.1000</td>\n",
       "      <td>S</td>\n",
       "    </tr>\n",
       "    <tr>\n",
       "      <th>4</th>\n",
       "      <td>0.0</td>\n",
       "      <td>3</td>\n",
       "      <td>Allen, Mr. William Henry</td>\n",
       "      <td>male</td>\n",
       "      <td>35.0</td>\n",
       "      <td>0</td>\n",
       "      <td>0</td>\n",
       "      <td>373450</td>\n",
       "      <td>8.0500</td>\n",
       "      <td>S</td>\n",
       "    </tr>\n",
       "  </tbody>\n",
       "</table>\n",
       "</div>"
      ],
      "text/plain": [
       "   Survived  Pclass                                               Name  \\\n",
       "0       0.0       3                            Braund, Mr. Owen Harris   \n",
       "1       1.0       1  Cumings, Mrs. John Bradley (Florence Briggs Th...   \n",
       "2       1.0       3                             Heikkinen, Miss. Laina   \n",
       "3       1.0       1       Futrelle, Mrs. Jacques Heath (Lily May Peel)   \n",
       "4       0.0       3                           Allen, Mr. William Henry   \n",
       "\n",
       "      Sex   Age  SibSp  Parch            Ticket     Fare Embarked  \n",
       "0    male  22.0      1      0         A/5 21171   7.2500        S  \n",
       "1  female  38.0      1      0          PC 17599  71.2833        C  \n",
       "2  female  26.0      0      0  STON/O2. 3101282   7.9250        S  \n",
       "3  female  35.0      1      0            113803  53.1000        S  \n",
       "4    male  35.0      0      0            373450   8.0500        S  "
      ]
     },
     "execution_count": 49,
     "metadata": {},
     "output_type": "execute_result"
    }
   ],
   "source": [
    "data.head()"
   ]
  },
  {
   "cell_type": "code",
   "execution_count": 50,
   "metadata": {
    "execution": {
     "iopub.execute_input": "2021-06-07T10:56:58.992981Z",
     "iopub.status.busy": "2021-06-07T10:56:58.992297Z",
     "iopub.status.idle": "2021-06-07T10:56:58.998259Z",
     "shell.execute_reply": "2021-06-07T10:56:58.997680Z",
     "shell.execute_reply.started": "2021-06-06T10:53:17.353286Z"
    },
    "papermill": {
     "duration": 0.107378,
     "end_time": "2021-06-07T10:56:58.998416",
     "exception": false,
     "start_time": "2021-06-07T10:56:58.891038",
     "status": "completed"
    },
    "tags": []
   },
   "outputs": [],
   "source": [
    "## we can have the total family members as a feature\n",
    "data['Family_members'] = data['SibSp'] + data['Parch']"
   ]
  },
  {
   "cell_type": "code",
   "execution_count": 51,
   "metadata": {
    "execution": {
     "iopub.execute_input": "2021-06-07T10:56:59.198727Z",
     "iopub.status.busy": "2021-06-07T10:56:59.198065Z",
     "iopub.status.idle": "2021-06-07T10:56:59.215552Z",
     "shell.execute_reply": "2021-06-07T10:56:59.215018Z",
     "shell.execute_reply.started": "2021-06-06T10:53:31.109156Z"
    },
    "papermill": {
     "duration": 0.117988,
     "end_time": "2021-06-07T10:56:59.215695",
     "exception": false,
     "start_time": "2021-06-07T10:56:59.097707",
     "status": "completed"
    },
    "tags": []
   },
   "outputs": [
    {
     "data": {
      "text/html": [
       "<div>\n",
       "<style scoped>\n",
       "    .dataframe tbody tr th:only-of-type {\n",
       "        vertical-align: middle;\n",
       "    }\n",
       "\n",
       "    .dataframe tbody tr th {\n",
       "        vertical-align: top;\n",
       "    }\n",
       "\n",
       "    .dataframe thead th {\n",
       "        text-align: right;\n",
       "    }\n",
       "</style>\n",
       "<table border=\"1\" class=\"dataframe\">\n",
       "  <thead>\n",
       "    <tr style=\"text-align: right;\">\n",
       "      <th></th>\n",
       "      <th>Survived</th>\n",
       "      <th>Pclass</th>\n",
       "      <th>Name</th>\n",
       "      <th>Sex</th>\n",
       "      <th>Age</th>\n",
       "      <th>SibSp</th>\n",
       "      <th>Parch</th>\n",
       "      <th>Ticket</th>\n",
       "      <th>Fare</th>\n",
       "      <th>Embarked</th>\n",
       "      <th>Family_members</th>\n",
       "    </tr>\n",
       "  </thead>\n",
       "  <tbody>\n",
       "    <tr>\n",
       "      <th>0</th>\n",
       "      <td>0.0</td>\n",
       "      <td>3</td>\n",
       "      <td>Braund, Mr. Owen Harris</td>\n",
       "      <td>male</td>\n",
       "      <td>22.0</td>\n",
       "      <td>1</td>\n",
       "      <td>0</td>\n",
       "      <td>A/5 21171</td>\n",
       "      <td>7.2500</td>\n",
       "      <td>S</td>\n",
       "      <td>1</td>\n",
       "    </tr>\n",
       "    <tr>\n",
       "      <th>1</th>\n",
       "      <td>1.0</td>\n",
       "      <td>1</td>\n",
       "      <td>Cumings, Mrs. John Bradley (Florence Briggs Th...</td>\n",
       "      <td>female</td>\n",
       "      <td>38.0</td>\n",
       "      <td>1</td>\n",
       "      <td>0</td>\n",
       "      <td>PC 17599</td>\n",
       "      <td>71.2833</td>\n",
       "      <td>C</td>\n",
       "      <td>1</td>\n",
       "    </tr>\n",
       "    <tr>\n",
       "      <th>2</th>\n",
       "      <td>1.0</td>\n",
       "      <td>3</td>\n",
       "      <td>Heikkinen, Miss. Laina</td>\n",
       "      <td>female</td>\n",
       "      <td>26.0</td>\n",
       "      <td>0</td>\n",
       "      <td>0</td>\n",
       "      <td>STON/O2. 3101282</td>\n",
       "      <td>7.9250</td>\n",
       "      <td>S</td>\n",
       "      <td>0</td>\n",
       "    </tr>\n",
       "    <tr>\n",
       "      <th>3</th>\n",
       "      <td>1.0</td>\n",
       "      <td>1</td>\n",
       "      <td>Futrelle, Mrs. Jacques Heath (Lily May Peel)</td>\n",
       "      <td>female</td>\n",
       "      <td>35.0</td>\n",
       "      <td>1</td>\n",
       "      <td>0</td>\n",
       "      <td>113803</td>\n",
       "      <td>53.1000</td>\n",
       "      <td>S</td>\n",
       "      <td>1</td>\n",
       "    </tr>\n",
       "    <tr>\n",
       "      <th>4</th>\n",
       "      <td>0.0</td>\n",
       "      <td>3</td>\n",
       "      <td>Allen, Mr. William Henry</td>\n",
       "      <td>male</td>\n",
       "      <td>35.0</td>\n",
       "      <td>0</td>\n",
       "      <td>0</td>\n",
       "      <td>373450</td>\n",
       "      <td>8.0500</td>\n",
       "      <td>S</td>\n",
       "      <td>0</td>\n",
       "    </tr>\n",
       "  </tbody>\n",
       "</table>\n",
       "</div>"
      ],
      "text/plain": [
       "   Survived  Pclass                                               Name  \\\n",
       "0       0.0       3                            Braund, Mr. Owen Harris   \n",
       "1       1.0       1  Cumings, Mrs. John Bradley (Florence Briggs Th...   \n",
       "2       1.0       3                             Heikkinen, Miss. Laina   \n",
       "3       1.0       1       Futrelle, Mrs. Jacques Heath (Lily May Peel)   \n",
       "4       0.0       3                           Allen, Mr. William Henry   \n",
       "\n",
       "      Sex   Age  SibSp  Parch            Ticket     Fare Embarked  \\\n",
       "0    male  22.0      1      0         A/5 21171   7.2500        S   \n",
       "1  female  38.0      1      0          PC 17599  71.2833        C   \n",
       "2  female  26.0      0      0  STON/O2. 3101282   7.9250        S   \n",
       "3  female  35.0      1      0            113803  53.1000        S   \n",
       "4    male  35.0      0      0            373450   8.0500        S   \n",
       "\n",
       "   Family_members  \n",
       "0               1  \n",
       "1               1  \n",
       "2               0  \n",
       "3               1  \n",
       "4               0  "
      ]
     },
     "execution_count": 51,
     "metadata": {},
     "output_type": "execute_result"
    }
   ],
   "source": [
    "data.head()"
   ]
  },
  {
   "cell_type": "code",
   "execution_count": 52,
   "metadata": {
    "execution": {
     "iopub.execute_input": "2021-06-07T10:56:59.429382Z",
     "iopub.status.busy": "2021-06-07T10:56:59.428254Z",
     "iopub.status.idle": "2021-06-07T10:56:59.437720Z",
     "shell.execute_reply": "2021-06-07T10:56:59.436898Z",
     "shell.execute_reply.started": "2021-06-06T10:53:45.867649Z"
    },
    "papermill": {
     "duration": 0.123329,
     "end_time": "2021-06-07T10:56:59.437891",
     "exception": false,
     "start_time": "2021-06-07T10:56:59.314562",
     "status": "completed"
    },
    "tags": []
   },
   "outputs": [],
   "source": [
    "data.drop(columns=['Name','Ticket'],axis=1,inplace=True)"
   ]
  },
  {
   "cell_type": "code",
   "execution_count": 53,
   "metadata": {
    "execution": {
     "iopub.execute_input": "2021-06-07T10:56:59.736454Z",
     "iopub.status.busy": "2021-06-07T10:56:59.735471Z",
     "iopub.status.idle": "2021-06-07T10:56:59.740727Z",
     "shell.execute_reply": "2021-06-07T10:56:59.740066Z",
     "shell.execute_reply.started": "2021-06-06T10:53:57.07033Z"
    },
    "papermill": {
     "duration": 0.135051,
     "end_time": "2021-06-07T10:56:59.740882",
     "exception": false,
     "start_time": "2021-06-07T10:56:59.605831",
     "status": "completed"
    },
    "tags": []
   },
   "outputs": [
    {
     "data": {
      "text/html": [
       "<div>\n",
       "<style scoped>\n",
       "    .dataframe tbody tr th:only-of-type {\n",
       "        vertical-align: middle;\n",
       "    }\n",
       "\n",
       "    .dataframe tbody tr th {\n",
       "        vertical-align: top;\n",
       "    }\n",
       "\n",
       "    .dataframe thead th {\n",
       "        text-align: right;\n",
       "    }\n",
       "</style>\n",
       "<table border=\"1\" class=\"dataframe\">\n",
       "  <thead>\n",
       "    <tr style=\"text-align: right;\">\n",
       "      <th></th>\n",
       "      <th>Survived</th>\n",
       "      <th>Pclass</th>\n",
       "      <th>Sex</th>\n",
       "      <th>Age</th>\n",
       "      <th>SibSp</th>\n",
       "      <th>Parch</th>\n",
       "      <th>Fare</th>\n",
       "      <th>Embarked</th>\n",
       "      <th>Family_members</th>\n",
       "    </tr>\n",
       "  </thead>\n",
       "  <tbody>\n",
       "    <tr>\n",
       "      <th>0</th>\n",
       "      <td>0.0</td>\n",
       "      <td>3</td>\n",
       "      <td>male</td>\n",
       "      <td>22.0</td>\n",
       "      <td>1</td>\n",
       "      <td>0</td>\n",
       "      <td>7.2500</td>\n",
       "      <td>S</td>\n",
       "      <td>1</td>\n",
       "    </tr>\n",
       "    <tr>\n",
       "      <th>1</th>\n",
       "      <td>1.0</td>\n",
       "      <td>1</td>\n",
       "      <td>female</td>\n",
       "      <td>38.0</td>\n",
       "      <td>1</td>\n",
       "      <td>0</td>\n",
       "      <td>71.2833</td>\n",
       "      <td>C</td>\n",
       "      <td>1</td>\n",
       "    </tr>\n",
       "    <tr>\n",
       "      <th>2</th>\n",
       "      <td>1.0</td>\n",
       "      <td>3</td>\n",
       "      <td>female</td>\n",
       "      <td>26.0</td>\n",
       "      <td>0</td>\n",
       "      <td>0</td>\n",
       "      <td>7.9250</td>\n",
       "      <td>S</td>\n",
       "      <td>0</td>\n",
       "    </tr>\n",
       "    <tr>\n",
       "      <th>3</th>\n",
       "      <td>1.0</td>\n",
       "      <td>1</td>\n",
       "      <td>female</td>\n",
       "      <td>35.0</td>\n",
       "      <td>1</td>\n",
       "      <td>0</td>\n",
       "      <td>53.1000</td>\n",
       "      <td>S</td>\n",
       "      <td>1</td>\n",
       "    </tr>\n",
       "    <tr>\n",
       "      <th>4</th>\n",
       "      <td>0.0</td>\n",
       "      <td>3</td>\n",
       "      <td>male</td>\n",
       "      <td>35.0</td>\n",
       "      <td>0</td>\n",
       "      <td>0</td>\n",
       "      <td>8.0500</td>\n",
       "      <td>S</td>\n",
       "      <td>0</td>\n",
       "    </tr>\n",
       "  </tbody>\n",
       "</table>\n",
       "</div>"
      ],
      "text/plain": [
       "   Survived  Pclass     Sex   Age  SibSp  Parch     Fare Embarked  \\\n",
       "0       0.0       3    male  22.0      1      0   7.2500        S   \n",
       "1       1.0       1  female  38.0      1      0  71.2833        C   \n",
       "2       1.0       3  female  26.0      0      0   7.9250        S   \n",
       "3       1.0       1  female  35.0      1      0  53.1000        S   \n",
       "4       0.0       3    male  35.0      0      0   8.0500        S   \n",
       "\n",
       "   Family_members  \n",
       "0               1  \n",
       "1               1  \n",
       "2               0  \n",
       "3               1  \n",
       "4               0  "
      ]
     },
     "execution_count": 53,
     "metadata": {},
     "output_type": "execute_result"
    }
   ],
   "source": [
    "data.head()"
   ]
  },
  {
   "cell_type": "markdown",
   "metadata": {
    "papermill": {
     "duration": 0.100613,
     "end_time": "2021-06-07T10:56:59.941944",
     "exception": false,
     "start_time": "2021-06-07T10:56:59.841331",
     "status": "completed"
    },
    "tags": []
   },
   "source": [
    "##  Applying feature Encoding on our data"
   ]
  },
  {
   "cell_type": "markdown",
   "metadata": {
    "papermill": {
     "duration": 0.106141,
     "end_time": "2021-06-07T10:57:00.149860",
     "exception": false,
     "start_time": "2021-06-07T10:57:00.043719",
     "status": "completed"
    },
    "tags": []
   },
   "source": [
    "#### As we have just 2 categories in Sex feature and 3 categories in Embarked then we can consider Label Encoder as it will not cause Curse of Dimensionality"
   ]
  },
  {
   "cell_type": "code",
   "execution_count": 54,
   "metadata": {
    "execution": {
     "iopub.execute_input": "2021-06-07T10:57:00.356899Z",
     "iopub.status.busy": "2021-06-07T10:57:00.356023Z",
     "iopub.status.idle": "2021-06-07T10:57:00.359530Z",
     "shell.execute_reply": "2021-06-07T10:57:00.359964Z",
     "shell.execute_reply.started": "2021-06-06T10:55:06.002848Z"
    },
    "papermill": {
     "duration": 0.109155,
     "end_time": "2021-06-07T10:57:00.360156",
     "exception": false,
     "start_time": "2021-06-07T10:57:00.251001",
     "status": "completed"
    },
    "tags": []
   },
   "outputs": [
    {
     "data": {
      "text/plain": [
       "['Sex', 'Embarked']"
      ]
     },
     "execution_count": 54,
     "metadata": {},
     "output_type": "execute_result"
    }
   ],
   "source": [
    "cat_features=[col for col in data.columns if data[col].dtype=='O']\n",
    "cat_features"
   ]
  },
  {
   "cell_type": "code",
   "execution_count": 55,
   "metadata": {
    "execution": {
     "iopub.execute_input": "2021-06-07T10:57:00.564079Z",
     "iopub.status.busy": "2021-06-07T10:57:00.563370Z",
     "iopub.status.idle": "2021-06-07T10:57:00.696601Z",
     "shell.execute_reply": "2021-06-07T10:57:00.695947Z",
     "shell.execute_reply.started": "2021-06-06T10:55:16.77694Z"
    },
    "papermill": {
     "duration": 0.237335,
     "end_time": "2021-06-07T10:57:00.696778",
     "exception": false,
     "start_time": "2021-06-07T10:57:00.459443",
     "status": "completed"
    },
    "tags": []
   },
   "outputs": [],
   "source": [
    "from sklearn.preprocessing import LabelEncoder"
   ]
  },
  {
   "cell_type": "code",
   "execution_count": 56,
   "metadata": {
    "execution": {
     "iopub.execute_input": "2021-06-07T10:57:00.901272Z",
     "iopub.status.busy": "2021-06-07T10:57:00.900250Z",
     "iopub.status.idle": "2021-06-07T10:57:00.904925Z",
     "shell.execute_reply": "2021-06-07T10:57:00.905554Z",
     "shell.execute_reply.started": "2021-06-06T10:55:27.677938Z"
    },
    "papermill": {
     "duration": 0.109538,
     "end_time": "2021-06-07T10:57:00.905730",
     "exception": false,
     "start_time": "2021-06-07T10:57:00.796192",
     "status": "completed"
    },
    "tags": []
   },
   "outputs": [],
   "source": [
    "le = LabelEncoder()"
   ]
  },
  {
   "cell_type": "code",
   "execution_count": 57,
   "metadata": {
    "execution": {
     "iopub.execute_input": "2021-06-07T10:57:01.111218Z",
     "iopub.status.busy": "2021-06-07T10:57:01.110210Z",
     "iopub.status.idle": "2021-06-07T10:57:01.116703Z",
     "shell.execute_reply": "2021-06-07T10:57:01.117191Z",
     "shell.execute_reply.started": "2021-06-06T10:55:47.114773Z"
    },
    "papermill": {
     "duration": 0.111393,
     "end_time": "2021-06-07T10:57:01.117392",
     "exception": false,
     "start_time": "2021-06-07T10:57:01.005999",
     "status": "completed"
    },
    "tags": []
   },
   "outputs": [],
   "source": [
    "for col in cat_features:\n",
    "    data[col]=le.fit_transform(data[col])"
   ]
  },
  {
   "cell_type": "code",
   "execution_count": 58,
   "metadata": {
    "execution": {
     "iopub.execute_input": "2021-06-07T10:57:01.319906Z",
     "iopub.status.busy": "2021-06-07T10:57:01.318898Z",
     "iopub.status.idle": "2021-06-07T10:57:01.333338Z",
     "shell.execute_reply": "2021-06-07T10:57:01.333849Z",
     "shell.execute_reply.started": "2021-06-06T10:55:59.070933Z"
    },
    "papermill": {
     "duration": 0.117288,
     "end_time": "2021-06-07T10:57:01.334048",
     "exception": false,
     "start_time": "2021-06-07T10:57:01.216760",
     "status": "completed"
    },
    "tags": []
   },
   "outputs": [
    {
     "data": {
      "text/html": [
       "<div>\n",
       "<style scoped>\n",
       "    .dataframe tbody tr th:only-of-type {\n",
       "        vertical-align: middle;\n",
       "    }\n",
       "\n",
       "    .dataframe tbody tr th {\n",
       "        vertical-align: top;\n",
       "    }\n",
       "\n",
       "    .dataframe thead th {\n",
       "        text-align: right;\n",
       "    }\n",
       "</style>\n",
       "<table border=\"1\" class=\"dataframe\">\n",
       "  <thead>\n",
       "    <tr style=\"text-align: right;\">\n",
       "      <th></th>\n",
       "      <th>Survived</th>\n",
       "      <th>Pclass</th>\n",
       "      <th>Sex</th>\n",
       "      <th>Age</th>\n",
       "      <th>SibSp</th>\n",
       "      <th>Parch</th>\n",
       "      <th>Fare</th>\n",
       "      <th>Embarked</th>\n",
       "      <th>Family_members</th>\n",
       "    </tr>\n",
       "  </thead>\n",
       "  <tbody>\n",
       "    <tr>\n",
       "      <th>0</th>\n",
       "      <td>0.0</td>\n",
       "      <td>3</td>\n",
       "      <td>1</td>\n",
       "      <td>22.0</td>\n",
       "      <td>1</td>\n",
       "      <td>0</td>\n",
       "      <td>7.2500</td>\n",
       "      <td>2</td>\n",
       "      <td>1</td>\n",
       "    </tr>\n",
       "    <tr>\n",
       "      <th>1</th>\n",
       "      <td>1.0</td>\n",
       "      <td>1</td>\n",
       "      <td>0</td>\n",
       "      <td>38.0</td>\n",
       "      <td>1</td>\n",
       "      <td>0</td>\n",
       "      <td>71.2833</td>\n",
       "      <td>0</td>\n",
       "      <td>1</td>\n",
       "    </tr>\n",
       "    <tr>\n",
       "      <th>2</th>\n",
       "      <td>1.0</td>\n",
       "      <td>3</td>\n",
       "      <td>0</td>\n",
       "      <td>26.0</td>\n",
       "      <td>0</td>\n",
       "      <td>0</td>\n",
       "      <td>7.9250</td>\n",
       "      <td>2</td>\n",
       "      <td>0</td>\n",
       "    </tr>\n",
       "    <tr>\n",
       "      <th>3</th>\n",
       "      <td>1.0</td>\n",
       "      <td>1</td>\n",
       "      <td>0</td>\n",
       "      <td>35.0</td>\n",
       "      <td>1</td>\n",
       "      <td>0</td>\n",
       "      <td>53.1000</td>\n",
       "      <td>2</td>\n",
       "      <td>1</td>\n",
       "    </tr>\n",
       "    <tr>\n",
       "      <th>4</th>\n",
       "      <td>0.0</td>\n",
       "      <td>3</td>\n",
       "      <td>1</td>\n",
       "      <td>35.0</td>\n",
       "      <td>0</td>\n",
       "      <td>0</td>\n",
       "      <td>8.0500</td>\n",
       "      <td>2</td>\n",
       "      <td>0</td>\n",
       "    </tr>\n",
       "  </tbody>\n",
       "</table>\n",
       "</div>"
      ],
      "text/plain": [
       "   Survived  Pclass  Sex   Age  SibSp  Parch     Fare  Embarked  \\\n",
       "0       0.0       3    1  22.0      1      0   7.2500         2   \n",
       "1       1.0       1    0  38.0      1      0  71.2833         0   \n",
       "2       1.0       3    0  26.0      0      0   7.9250         2   \n",
       "3       1.0       1    0  35.0      1      0  53.1000         2   \n",
       "4       0.0       3    1  35.0      0      0   8.0500         2   \n",
       "\n",
       "   Family_members  \n",
       "0               1  \n",
       "1               1  \n",
       "2               0  \n",
       "3               1  \n",
       "4               0  "
      ]
     },
     "execution_count": 58,
     "metadata": {},
     "output_type": "execute_result"
    }
   ],
   "source": [
    "data.head()"
   ]
  },
  {
   "cell_type": "code",
   "execution_count": 59,
   "metadata": {
    "execution": {
     "iopub.execute_input": "2021-06-07T10:57:01.538412Z",
     "iopub.status.busy": "2021-06-07T10:57:01.537725Z",
     "iopub.status.idle": "2021-06-07T10:57:01.554315Z",
     "shell.execute_reply": "2021-06-07T10:57:01.553660Z",
     "shell.execute_reply.started": "2021-06-06T10:56:10.818409Z"
    },
    "papermill": {
     "duration": 0.120731,
     "end_time": "2021-06-07T10:57:01.554466",
     "exception": false,
     "start_time": "2021-06-07T10:57:01.433735",
     "status": "completed"
    },
    "tags": []
   },
   "outputs": [
    {
     "name": "stdout",
     "output_type": "stream",
     "text": [
      "<class 'pandas.core.frame.DataFrame'>\n",
      "Int64Index: 1309 entries, 0 to 417\n",
      "Data columns (total 9 columns):\n",
      " #   Column          Non-Null Count  Dtype  \n",
      "---  ------          --------------  -----  \n",
      " 0   Survived        1309 non-null   float64\n",
      " 1   Pclass          1309 non-null   int64  \n",
      " 2   Sex             1309 non-null   int64  \n",
      " 3   Age             1309 non-null   float64\n",
      " 4   SibSp           1309 non-null   int64  \n",
      " 5   Parch           1309 non-null   int64  \n",
      " 6   Fare            1309 non-null   float64\n",
      " 7   Embarked        1309 non-null   int64  \n",
      " 8   Family_members  1309 non-null   int64  \n",
      "dtypes: float64(3), int64(6)\n",
      "memory usage: 134.6 KB\n"
     ]
    }
   ],
   "source": [
    "data.info()"
   ]
  },
  {
   "cell_type": "code",
   "execution_count": 60,
   "metadata": {
    "execution": {
     "iopub.execute_input": "2021-06-07T10:57:01.759877Z",
     "iopub.status.busy": "2021-06-07T10:57:01.759214Z",
     "iopub.status.idle": "2021-06-07T10:57:01.762435Z",
     "shell.execute_reply": "2021-06-07T10:57:01.761912Z",
     "shell.execute_reply.started": "2021-06-06T10:56:55.968252Z"
    },
    "papermill": {
     "duration": 0.107454,
     "end_time": "2021-06-07T10:57:01.762586",
     "exception": false,
     "start_time": "2021-06-07T10:57:01.655132",
     "status": "completed"
    },
    "tags": []
   },
   "outputs": [],
   "source": [
    "# Seperating test and train sets\n",
    "\n",
    "test_data = data.iloc[891:]"
   ]
  },
  {
   "cell_type": "code",
   "execution_count": 61,
   "metadata": {
    "execution": {
     "iopub.execute_input": "2021-06-07T10:57:01.989074Z",
     "iopub.status.busy": "2021-06-07T10:57:01.988427Z",
     "iopub.status.idle": "2021-06-07T10:57:01.993074Z",
     "shell.execute_reply": "2021-06-07T10:57:01.992446Z",
     "shell.execute_reply.started": "2021-06-06T10:56:58.611468Z"
    },
    "papermill": {
     "duration": 0.12958,
     "end_time": "2021-06-07T10:57:01.993233",
     "exception": false,
     "start_time": "2021-06-07T10:57:01.863653",
     "status": "completed"
    },
    "tags": []
   },
   "outputs": [],
   "source": [
    "test_data.drop('Survived',axis=1,inplace=True)"
   ]
  },
  {
   "cell_type": "code",
   "execution_count": 62,
   "metadata": {
    "execution": {
     "iopub.execute_input": "2021-06-07T10:57:02.198951Z",
     "iopub.status.busy": "2021-06-07T10:57:02.198339Z",
     "iopub.status.idle": "2021-06-07T10:57:02.202309Z",
     "shell.execute_reply": "2021-06-07T10:57:02.202824Z",
     "shell.execute_reply.started": "2021-06-06T10:57:08.941181Z"
    },
    "papermill": {
     "duration": 0.107311,
     "end_time": "2021-06-07T10:57:02.202991",
     "exception": false,
     "start_time": "2021-06-07T10:57:02.095680",
     "status": "completed"
    },
    "tags": []
   },
   "outputs": [],
   "source": [
    "train_data = data.iloc[:891]"
   ]
  },
  {
   "cell_type": "code",
   "execution_count": 63,
   "metadata": {
    "execution": {
     "iopub.execute_input": "2021-06-07T10:57:02.405632Z",
     "iopub.status.busy": "2021-06-07T10:57:02.404988Z",
     "iopub.status.idle": "2021-06-07T10:57:02.408740Z",
     "shell.execute_reply": "2021-06-07T10:57:02.409320Z",
     "shell.execute_reply.started": "2021-06-06T10:57:18.774324Z"
    },
    "papermill": {
     "duration": 0.106764,
     "end_time": "2021-06-07T10:57:02.409494",
     "exception": false,
     "start_time": "2021-06-07T10:57:02.302730",
     "status": "completed"
    },
    "tags": []
   },
   "outputs": [],
   "source": [
    " train_data= data.iloc[:891]"
   ]
  },
  {
   "cell_type": "code",
   "execution_count": 64,
   "metadata": {
    "execution": {
     "iopub.execute_input": "2021-06-07T10:57:02.612204Z",
     "iopub.status.busy": "2021-06-07T10:57:02.611589Z",
     "iopub.status.idle": "2021-06-07T10:57:02.626013Z",
     "shell.execute_reply": "2021-06-07T10:57:02.625478Z",
     "shell.execute_reply.started": "2021-06-06T10:57:31.731272Z"
    },
    "papermill": {
     "duration": 0.11666,
     "end_time": "2021-06-07T10:57:02.626169",
     "exception": false,
     "start_time": "2021-06-07T10:57:02.509509",
     "status": "completed"
    },
    "tags": []
   },
   "outputs": [
    {
     "data": {
      "text/html": [
       "<div>\n",
       "<style scoped>\n",
       "    .dataframe tbody tr th:only-of-type {\n",
       "        vertical-align: middle;\n",
       "    }\n",
       "\n",
       "    .dataframe tbody tr th {\n",
       "        vertical-align: top;\n",
       "    }\n",
       "\n",
       "    .dataframe thead th {\n",
       "        text-align: right;\n",
       "    }\n",
       "</style>\n",
       "<table border=\"1\" class=\"dataframe\">\n",
       "  <thead>\n",
       "    <tr style=\"text-align: right;\">\n",
       "      <th></th>\n",
       "      <th>Survived</th>\n",
       "      <th>Pclass</th>\n",
       "      <th>Sex</th>\n",
       "      <th>Age</th>\n",
       "      <th>SibSp</th>\n",
       "      <th>Parch</th>\n",
       "      <th>Fare</th>\n",
       "      <th>Embarked</th>\n",
       "      <th>Family_members</th>\n",
       "    </tr>\n",
       "  </thead>\n",
       "  <tbody>\n",
       "    <tr>\n",
       "      <th>0</th>\n",
       "      <td>0.0</td>\n",
       "      <td>3</td>\n",
       "      <td>1</td>\n",
       "      <td>22.0</td>\n",
       "      <td>1</td>\n",
       "      <td>0</td>\n",
       "      <td>7.2500</td>\n",
       "      <td>2</td>\n",
       "      <td>1</td>\n",
       "    </tr>\n",
       "    <tr>\n",
       "      <th>1</th>\n",
       "      <td>1.0</td>\n",
       "      <td>1</td>\n",
       "      <td>0</td>\n",
       "      <td>38.0</td>\n",
       "      <td>1</td>\n",
       "      <td>0</td>\n",
       "      <td>71.2833</td>\n",
       "      <td>0</td>\n",
       "      <td>1</td>\n",
       "    </tr>\n",
       "    <tr>\n",
       "      <th>2</th>\n",
       "      <td>1.0</td>\n",
       "      <td>3</td>\n",
       "      <td>0</td>\n",
       "      <td>26.0</td>\n",
       "      <td>0</td>\n",
       "      <td>0</td>\n",
       "      <td>7.9250</td>\n",
       "      <td>2</td>\n",
       "      <td>0</td>\n",
       "    </tr>\n",
       "    <tr>\n",
       "      <th>3</th>\n",
       "      <td>1.0</td>\n",
       "      <td>1</td>\n",
       "      <td>0</td>\n",
       "      <td>35.0</td>\n",
       "      <td>1</td>\n",
       "      <td>0</td>\n",
       "      <td>53.1000</td>\n",
       "      <td>2</td>\n",
       "      <td>1</td>\n",
       "    </tr>\n",
       "    <tr>\n",
       "      <th>4</th>\n",
       "      <td>0.0</td>\n",
       "      <td>3</td>\n",
       "      <td>1</td>\n",
       "      <td>35.0</td>\n",
       "      <td>0</td>\n",
       "      <td>0</td>\n",
       "      <td>8.0500</td>\n",
       "      <td>2</td>\n",
       "      <td>0</td>\n",
       "    </tr>\n",
       "  </tbody>\n",
       "</table>\n",
       "</div>"
      ],
      "text/plain": [
       "   Survived  Pclass  Sex   Age  SibSp  Parch     Fare  Embarked  \\\n",
       "0       0.0       3    1  22.0      1      0   7.2500         2   \n",
       "1       1.0       1    0  38.0      1      0  71.2833         0   \n",
       "2       1.0       3    0  26.0      0      0   7.9250         2   \n",
       "3       1.0       1    0  35.0      1      0  53.1000         2   \n",
       "4       0.0       3    1  35.0      0      0   8.0500         2   \n",
       "\n",
       "   Family_members  \n",
       "0               1  \n",
       "1               1  \n",
       "2               0  \n",
       "3               1  \n",
       "4               0  "
      ]
     },
     "execution_count": 64,
     "metadata": {},
     "output_type": "execute_result"
    }
   ],
   "source": [
    "train_data.head()"
   ]
  },
  {
   "cell_type": "code",
   "execution_count": 65,
   "metadata": {
    "execution": {
     "iopub.execute_input": "2021-06-07T10:57:02.833534Z",
     "iopub.status.busy": "2021-06-07T10:57:02.832896Z",
     "iopub.status.idle": "2021-06-07T10:57:02.834704Z",
     "shell.execute_reply": "2021-06-07T10:57:02.835139Z",
     "shell.execute_reply.started": "2021-06-06T10:57:57.076433Z"
    },
    "papermill": {
     "duration": 0.108911,
     "end_time": "2021-06-07T10:57:02.835315",
     "exception": false,
     "start_time": "2021-06-07T10:57:02.726404",
     "status": "completed"
    },
    "tags": []
   },
   "outputs": [],
   "source": [
    "target_class = 'Survived'\n",
    "target = train_data.pop(target_class)"
   ]
  },
  {
   "cell_type": "code",
   "execution_count": 66,
   "metadata": {
    "execution": {
     "iopub.execute_input": "2021-06-07T10:57:03.040250Z",
     "iopub.status.busy": "2021-06-07T10:57:03.039574Z",
     "iopub.status.idle": "2021-06-07T10:57:03.059398Z",
     "shell.execute_reply": "2021-06-07T10:57:03.058876Z",
     "shell.execute_reply.started": "2021-06-06T10:58:10.737664Z"
    },
    "papermill": {
     "duration": 0.12386,
     "end_time": "2021-06-07T10:57:03.059540",
     "exception": false,
     "start_time": "2021-06-07T10:57:02.935680",
     "status": "completed"
    },
    "tags": []
   },
   "outputs": [
    {
     "data": {
      "text/html": [
       "<div>\n",
       "<style scoped>\n",
       "    .dataframe tbody tr th:only-of-type {\n",
       "        vertical-align: middle;\n",
       "    }\n",
       "\n",
       "    .dataframe tbody tr th {\n",
       "        vertical-align: top;\n",
       "    }\n",
       "\n",
       "    .dataframe thead th {\n",
       "        text-align: right;\n",
       "    }\n",
       "</style>\n",
       "<table border=\"1\" class=\"dataframe\">\n",
       "  <thead>\n",
       "    <tr style=\"text-align: right;\">\n",
       "      <th></th>\n",
       "      <th>Pclass</th>\n",
       "      <th>Sex</th>\n",
       "      <th>Age</th>\n",
       "      <th>SibSp</th>\n",
       "      <th>Parch</th>\n",
       "      <th>Fare</th>\n",
       "      <th>Embarked</th>\n",
       "      <th>Family_members</th>\n",
       "    </tr>\n",
       "  </thead>\n",
       "  <tbody>\n",
       "    <tr>\n",
       "      <th>0</th>\n",
       "      <td>3</td>\n",
       "      <td>1</td>\n",
       "      <td>22.0</td>\n",
       "      <td>1</td>\n",
       "      <td>0</td>\n",
       "      <td>7.2500</td>\n",
       "      <td>2</td>\n",
       "      <td>1</td>\n",
       "    </tr>\n",
       "    <tr>\n",
       "      <th>1</th>\n",
       "      <td>1</td>\n",
       "      <td>0</td>\n",
       "      <td>38.0</td>\n",
       "      <td>1</td>\n",
       "      <td>0</td>\n",
       "      <td>71.2833</td>\n",
       "      <td>0</td>\n",
       "      <td>1</td>\n",
       "    </tr>\n",
       "    <tr>\n",
       "      <th>2</th>\n",
       "      <td>3</td>\n",
       "      <td>0</td>\n",
       "      <td>26.0</td>\n",
       "      <td>0</td>\n",
       "      <td>0</td>\n",
       "      <td>7.9250</td>\n",
       "      <td>2</td>\n",
       "      <td>0</td>\n",
       "    </tr>\n",
       "    <tr>\n",
       "      <th>3</th>\n",
       "      <td>1</td>\n",
       "      <td>0</td>\n",
       "      <td>35.0</td>\n",
       "      <td>1</td>\n",
       "      <td>0</td>\n",
       "      <td>53.1000</td>\n",
       "      <td>2</td>\n",
       "      <td>1</td>\n",
       "    </tr>\n",
       "    <tr>\n",
       "      <th>4</th>\n",
       "      <td>3</td>\n",
       "      <td>1</td>\n",
       "      <td>35.0</td>\n",
       "      <td>0</td>\n",
       "      <td>0</td>\n",
       "      <td>8.0500</td>\n",
       "      <td>2</td>\n",
       "      <td>0</td>\n",
       "    </tr>\n",
       "    <tr>\n",
       "      <th>...</th>\n",
       "      <td>...</td>\n",
       "      <td>...</td>\n",
       "      <td>...</td>\n",
       "      <td>...</td>\n",
       "      <td>...</td>\n",
       "      <td>...</td>\n",
       "      <td>...</td>\n",
       "      <td>...</td>\n",
       "    </tr>\n",
       "    <tr>\n",
       "      <th>886</th>\n",
       "      <td>2</td>\n",
       "      <td>1</td>\n",
       "      <td>27.0</td>\n",
       "      <td>0</td>\n",
       "      <td>0</td>\n",
       "      <td>13.0000</td>\n",
       "      <td>2</td>\n",
       "      <td>0</td>\n",
       "    </tr>\n",
       "    <tr>\n",
       "      <th>887</th>\n",
       "      <td>1</td>\n",
       "      <td>0</td>\n",
       "      <td>19.0</td>\n",
       "      <td>0</td>\n",
       "      <td>0</td>\n",
       "      <td>30.0000</td>\n",
       "      <td>2</td>\n",
       "      <td>0</td>\n",
       "    </tr>\n",
       "    <tr>\n",
       "      <th>888</th>\n",
       "      <td>3</td>\n",
       "      <td>0</td>\n",
       "      <td>27.0</td>\n",
       "      <td>1</td>\n",
       "      <td>2</td>\n",
       "      <td>23.4500</td>\n",
       "      <td>2</td>\n",
       "      <td>3</td>\n",
       "    </tr>\n",
       "    <tr>\n",
       "      <th>889</th>\n",
       "      <td>1</td>\n",
       "      <td>1</td>\n",
       "      <td>26.0</td>\n",
       "      <td>0</td>\n",
       "      <td>0</td>\n",
       "      <td>30.0000</td>\n",
       "      <td>0</td>\n",
       "      <td>0</td>\n",
       "    </tr>\n",
       "    <tr>\n",
       "      <th>890</th>\n",
       "      <td>3</td>\n",
       "      <td>1</td>\n",
       "      <td>32.0</td>\n",
       "      <td>0</td>\n",
       "      <td>0</td>\n",
       "      <td>7.7500</td>\n",
       "      <td>1</td>\n",
       "      <td>0</td>\n",
       "    </tr>\n",
       "  </tbody>\n",
       "</table>\n",
       "<p>891 rows × 8 columns</p>\n",
       "</div>"
      ],
      "text/plain": [
       "     Pclass  Sex   Age  SibSp  Parch     Fare  Embarked  Family_members\n",
       "0         3    1  22.0      1      0   7.2500         2               1\n",
       "1         1    0  38.0      1      0  71.2833         0               1\n",
       "2         3    0  26.0      0      0   7.9250         2               0\n",
       "3         1    0  35.0      1      0  53.1000         2               1\n",
       "4         3    1  35.0      0      0   8.0500         2               0\n",
       "..      ...  ...   ...    ...    ...      ...       ...             ...\n",
       "886       2    1  27.0      0      0  13.0000         2               0\n",
       "887       1    0  19.0      0      0  30.0000         2               0\n",
       "888       3    0  27.0      1      2  23.4500         2               3\n",
       "889       1    1  26.0      0      0  30.0000         0               0\n",
       "890       3    1  32.0      0      0   7.7500         1               0\n",
       "\n",
       "[891 rows x 8 columns]"
      ]
     },
     "execution_count": 66,
     "metadata": {},
     "output_type": "execute_result"
    }
   ],
   "source": [
    "train_data"
   ]
  },
  {
   "cell_type": "code",
   "execution_count": 67,
   "metadata": {
    "execution": {
     "iopub.execute_input": "2021-06-07T10:57:03.267655Z",
     "iopub.status.busy": "2021-06-07T10:57:03.266925Z",
     "iopub.status.idle": "2021-06-07T10:57:03.707627Z",
     "shell.execute_reply": "2021-06-07T10:57:03.707003Z",
     "shell.execute_reply.started": "2021-06-06T11:01:33.613087Z"
    },
    "papermill": {
     "duration": 0.546446,
     "end_time": "2021-06-07T10:57:03.707779",
     "exception": false,
     "start_time": "2021-06-07T10:57:03.161333",
     "status": "completed"
    },
    "tags": []
   },
   "outputs": [],
   "source": [
    "## importing libaraies for machine learning\n",
    "from sklearn.linear_model import LogisticRegression\n",
    "from sklearn.neighbors import KNeighborsClassifier\n",
    "from sklearn.ensemble import RandomForestClassifier\n",
    "from sklearn.tree import DecisionTreeClassifier\n",
    "from sklearn.metrics import accuracy_score"
   ]
  },
  {
   "cell_type": "code",
   "execution_count": 68,
   "metadata": {
    "execution": {
     "iopub.execute_input": "2021-06-07T10:57:03.917292Z",
     "iopub.status.busy": "2021-06-07T10:57:03.916554Z",
     "iopub.status.idle": "2021-06-07T10:57:03.921786Z",
     "shell.execute_reply": "2021-06-07T10:57:03.921140Z",
     "shell.execute_reply.started": "2021-06-06T11:01:37.299892Z"
    },
    "papermill": {
     "duration": 0.111452,
     "end_time": "2021-06-07T10:57:03.921932",
     "exception": false,
     "start_time": "2021-06-07T10:57:03.810480",
     "status": "completed"
    },
    "tags": []
   },
   "outputs": [],
   "source": [
    "### Applying LogisticRegression Model \n",
    "LogisticRegressionModel = LogisticRegression()"
   ]
  },
  {
   "cell_type": "code",
   "execution_count": 69,
   "metadata": {
    "execution": {
     "iopub.execute_input": "2021-06-07T10:57:04.133960Z",
     "iopub.status.busy": "2021-06-07T10:57:04.133311Z",
     "iopub.status.idle": "2021-06-07T10:57:04.173951Z",
     "shell.execute_reply": "2021-06-07T10:57:04.174501Z",
     "shell.execute_reply.started": "2021-06-06T11:01:41.558619Z"
    },
    "papermill": {
     "duration": 0.150547,
     "end_time": "2021-06-07T10:57:04.174681",
     "exception": false,
     "start_time": "2021-06-07T10:57:04.024134",
     "status": "completed"
    },
    "tags": []
   },
   "outputs": [
    {
     "data": {
      "text/plain": [
       "LogisticRegression()"
      ]
     },
     "execution_count": 69,
     "metadata": {},
     "output_type": "execute_result"
    }
   ],
   "source": [
    "LogisticRegressionModel.fit(train_data,target)"
   ]
  },
  {
   "cell_type": "code",
   "execution_count": 70,
   "metadata": {
    "execution": {
     "iopub.execute_input": "2021-06-07T10:57:04.383721Z",
     "iopub.status.busy": "2021-06-07T10:57:04.383039Z",
     "iopub.status.idle": "2021-06-07T10:57:04.392685Z",
     "shell.execute_reply": "2021-06-07T10:57:04.391906Z",
     "shell.execute_reply.started": "2021-06-06T11:01:45.101221Z"
    },
    "papermill": {
     "duration": 0.116047,
     "end_time": "2021-06-07T10:57:04.392886",
     "exception": false,
     "start_time": "2021-06-07T10:57:04.276839",
     "status": "completed"
    },
    "tags": []
   },
   "outputs": [
    {
     "name": "stdout",
     "output_type": "stream",
     "text": [
      "0.8024691358024691\n"
     ]
    }
   ],
   "source": [
    "print(accuracy_score(target, LogisticRegressionModel.predict(train_data) ))"
   ]
  },
  {
   "cell_type": "code",
   "execution_count": 71,
   "metadata": {
    "execution": {
     "iopub.execute_input": "2021-06-07T10:57:04.605256Z",
     "iopub.status.busy": "2021-06-07T10:57:04.604204Z",
     "iopub.status.idle": "2021-06-07T10:57:04.606497Z",
     "shell.execute_reply": "2021-06-07T10:57:04.607139Z",
     "shell.execute_reply.started": "2021-06-06T11:02:04.807071Z"
    },
    "papermill": {
     "duration": 0.111856,
     "end_time": "2021-06-07T10:57:04.607324",
     "exception": false,
     "start_time": "2021-06-07T10:57:04.495468",
     "status": "completed"
    },
    "tags": []
   },
   "outputs": [],
   "source": [
    "### Applying KNeighborsClassifier Model \n",
    "KNeighborsModeL= KNeighborsClassifier(n_neighbors=10)"
   ]
  },
  {
   "cell_type": "code",
   "execution_count": 72,
   "metadata": {
    "execution": {
     "iopub.execute_input": "2021-06-07T10:57:04.814674Z",
     "iopub.status.busy": "2021-06-07T10:57:04.813696Z",
     "iopub.status.idle": "2021-06-07T10:57:04.823034Z",
     "shell.execute_reply": "2021-06-07T10:57:04.823641Z",
     "shell.execute_reply.started": "2021-06-06T11:02:17.968517Z"
    },
    "papermill": {
     "duration": 0.114377,
     "end_time": "2021-06-07T10:57:04.823818",
     "exception": false,
     "start_time": "2021-06-07T10:57:04.709441",
     "status": "completed"
    },
    "tags": []
   },
   "outputs": [
    {
     "data": {
      "text/plain": [
       "KNeighborsClassifier(n_neighbors=10)"
      ]
     },
     "execution_count": 72,
     "metadata": {},
     "output_type": "execute_result"
    }
   ],
   "source": [
    "KNeighborsModeL.fit(train_data,target)"
   ]
  },
  {
   "cell_type": "code",
   "execution_count": 73,
   "metadata": {
    "execution": {
     "iopub.execute_input": "2021-06-07T10:57:05.031417Z",
     "iopub.status.busy": "2021-06-07T10:57:05.030440Z",
     "iopub.status.idle": "2021-06-07T10:57:05.075732Z",
     "shell.execute_reply": "2021-06-07T10:57:05.075230Z",
     "shell.execute_reply.started": "2021-06-06T11:02:32.397847Z"
    },
    "papermill": {
     "duration": 0.150295,
     "end_time": "2021-06-07T10:57:05.075890",
     "exception": false,
     "start_time": "2021-06-07T10:57:04.925595",
     "status": "completed"
    },
    "tags": []
   },
   "outputs": [
    {
     "name": "stdout",
     "output_type": "stream",
     "text": [
      "0.7530864197530864\n"
     ]
    }
   ],
   "source": [
    "print(accuracy_score(target, KNeighborsModeL.predict(train_data) ))"
   ]
  },
  {
   "cell_type": "code",
   "execution_count": 74,
   "metadata": {
    "execution": {
     "iopub.execute_input": "2021-06-07T10:57:05.289270Z",
     "iopub.status.busy": "2021-06-07T10:57:05.288297Z",
     "iopub.status.idle": "2021-06-07T10:57:05.291509Z",
     "shell.execute_reply": "2021-06-07T10:57:05.290997Z",
     "shell.execute_reply.started": "2021-06-06T11:04:34.746032Z"
    },
    "papermill": {
     "duration": 0.110554,
     "end_time": "2021-06-07T10:57:05.291659",
     "exception": false,
     "start_time": "2021-06-07T10:57:05.181105",
     "status": "completed"
    },
    "tags": []
   },
   "outputs": [],
   "source": [
    "### Applying RandomForestClassifier Model \n",
    "RandomForestModeL= RandomForestClassifier()"
   ]
  },
  {
   "cell_type": "code",
   "execution_count": 75,
   "metadata": {
    "execution": {
     "iopub.execute_input": "2021-06-07T10:57:05.503005Z",
     "iopub.status.busy": "2021-06-07T10:57:05.502304Z",
     "iopub.status.idle": "2021-06-07T10:57:05.727819Z",
     "shell.execute_reply": "2021-06-07T10:57:05.727163Z",
     "shell.execute_reply.started": "2021-06-06T11:05:12.654616Z"
    },
    "papermill": {
     "duration": 0.33406,
     "end_time": "2021-06-07T10:57:05.727963",
     "exception": false,
     "start_time": "2021-06-07T10:57:05.393903",
     "status": "completed"
    },
    "tags": []
   },
   "outputs": [
    {
     "data": {
      "text/plain": [
       "RandomForestClassifier()"
      ]
     },
     "execution_count": 75,
     "metadata": {},
     "output_type": "execute_result"
    }
   ],
   "source": [
    "RandomForestModeL.fit(train_data,target)"
   ]
  },
  {
   "cell_type": "code",
   "execution_count": 76,
   "metadata": {
    "execution": {
     "iopub.execute_input": "2021-06-07T10:57:05.940789Z",
     "iopub.status.busy": "2021-06-07T10:57:05.940142Z",
     "iopub.status.idle": "2021-06-07T10:57:05.969376Z",
     "shell.execute_reply": "2021-06-07T10:57:05.968513Z",
     "shell.execute_reply.started": "2021-06-06T11:05:40.53912Z"
    },
    "papermill": {
     "duration": 0.139216,
     "end_time": "2021-06-07T10:57:05.969568",
     "exception": false,
     "start_time": "2021-06-07T10:57:05.830352",
     "status": "completed"
    },
    "tags": []
   },
   "outputs": [
    {
     "name": "stdout",
     "output_type": "stream",
     "text": [
      "0.9842873176206509\n"
     ]
    }
   ],
   "source": [
    "print(accuracy_score(target, RandomForestModeL.predict(train_data) ))"
   ]
  },
  {
   "cell_type": "markdown",
   "metadata": {
    "papermill": {
     "duration": 0.103752,
     "end_time": "2021-06-07T10:57:06.177656",
     "exception": false,
     "start_time": "2021-06-07T10:57:06.073904",
     "status": "completed"
    },
    "tags": []
   },
   "source": [
    "## If you found this notebook helpful or you just liked it , some upvotes would be very much appreciated - That will keep me motivated to update it on a regular basis"
   ]
  }
 ],
 "metadata": {
  "kernelspec": {
   "display_name": "Python 3",
   "language": "python",
   "name": "python3"
  },
  "language_info": {
   "codemirror_mode": {
    "name": "ipython",
    "version": 3
   },
   "file_extension": ".py",
   "mimetype": "text/x-python",
   "name": "python",
   "nbconvert_exporter": "python",
   "pygments_lexer": "ipython3",
   "version": "3.8.5"
  },
  "papermill": {
   "default_parameters": {},
   "duration": 38.064053,
   "end_time": "2021-06-07T10:57:08.100194",
   "environment_variables": {},
   "exception": null,
   "input_path": "__notebook__.ipynb",
   "output_path": "__notebook__.ipynb",
   "parameters": {},
   "start_time": "2021-06-07T10:56:30.036141",
   "version": "2.3.3"
  }
 },
 "nbformat": 4,
 "nbformat_minor": 5
}
